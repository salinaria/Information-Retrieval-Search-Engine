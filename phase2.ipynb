{
 "cells": [
  {
   "attachments": {},
   "cell_type": "markdown",
   "metadata": {},
   "source": [
    "# Import json file and read it\n"
   ]
  },
  {
   "cell_type": "code",
   "execution_count": 1,
   "metadata": {},
   "outputs": [
    {
     "name": "stdout",
     "output_type": "stream",
     "text": [
      "{'title': 'اعلام زمان قرعه کشی جام باشگاه های فوتسال آسیا', 'content': '\\nبه گزارش خبرگزاری فارس، کنفدراسیون فوتبال آسیا (AFC) در نامه ای رسمی به فدراسیون فوتبال ایران و باشگاه گیتی پسند زمان\\xa0 قرعه کشی جام باشگاه های فوتسال آسیا را رسماً اعلام کرد. بر این اساس 25 فروردین ماه 1401 مراسم قرعه کشی جام باشگاه های فوتسال آسیا در مالزی برگزار می شود. باشگاه گیتی پسند بعنوان قهرمان فوتسال ایران در سال 1400 به این مسابقات راه پیدا کرده است. پیش از این گیتی پسند تجربه 3 دوره حضور در جام باشگاه های فوتسال آسیا را داشته که هر سه دوره به فینال مسابقات راه پیدا کرده و یک عنوان قهرمانی و دو مقام دومی بدست آورده است. انتهای پیام/\\n\\n\\n', 'tags': ['اعلام زمان', 'قرعه\\u200cکشی', 'قرعه\\u200cکشی جام', 'قرعه\\u200cکشی جام باشگاه\\u200cهای فوتسال', 'ای اف سی', 'گیتی پسند'], 'date': '3/15/2022 5:59:27 PM', 'url': 'https://www.farsnews.ir/news/14001224001005/اعلام-زمان-قرعه-کشی-جام-باشگاه-های-فوتسال-آسیا', 'category': 'sports'}\n",
      "12202\n"
     ]
    }
   ],
   "source": [
    "import json\n",
    "\n",
    "f = open('IR_data_news_12k.json')\n",
    "data = json.load(f)\n",
    "print(data['0'])\n",
    "print(len(data))"
   ]
  },
  {
   "cell_type": "code",
   "execution_count": 2,
   "metadata": {},
   "outputs": [
    {
     "data": {
      "text/plain": [
       "'\\nبه گزارش خبرگزاری فارس، کنفدراسیون فوتبال آسیا (AFC) در نامه ای رسمی به فدراسیون فوتبال ایران و باشگاه گیتی پسند زمان\\xa0 قرعه کشی جام باشگاه های فوتسال آسیا را رسماً اعلام کرد. بر این اساس 25 فروردین ماه 1401 مراسم قرعه کشی جام باشگاه های فوتسال آسیا در مالزی برگزار می شود. باشگاه گیتی پسند بعنوان قهرمان فوتسال ایران در سال 1400 به این مسابقات راه پیدا کرده است. پیش از این گیتی پسند تجربه 3 دوره حضور در جام باشگاه های فوتسال آسیا را داشته که هر سه دوره به فینال مسابقات راه پیدا کرده و یک عنوان قهرمانی و دو مقام دومی بدست آورده است. انتهای پیام/\\n\\n\\n'"
      ]
     },
     "execution_count": 2,
     "metadata": {},
     "output_type": "execute_result"
    }
   ],
   "source": [
    "data['0']['content']"
   ]
  },
  {
   "attachments": {},
   "cell_type": "markdown",
   "metadata": {},
   "source": [
    "# Pre-proccesing\n"
   ]
  },
  {
   "attachments": {},
   "cell_type": "markdown",
   "metadata": {},
   "source": [
    "## Tokenizing data and normalization\n"
   ]
  },
  {
   "cell_type": "code",
   "execution_count": 3,
   "metadata": {},
   "outputs": [
    {
     "name": "stdout",
     "output_type": "stream",
     "text": [
      "['به', 'گزارش', 'خبرگزاری', 'فارس', '،', 'کنفدراسیون', 'فوتبال', 'آسیا', '(', 'AFC', ')', 'در', 'نامه\\u200cای', 'رسمی', 'به', 'فدراسیون', 'فوتبال', 'ایران', 'و', 'باشگاه', 'گیتی', 'پسند', 'زمان', 'قرعه', 'کشی', 'جام', 'باشگاه\\u200cهای', 'فوتسال', 'آسیا', 'را', 'رسما', 'اعلام', 'کرد', '.', 'بر', 'این', 'اساس', '25', 'فروردین', 'ماه', '1401', 'مراسم', 'قرعه', 'کشی', 'جام', 'باشگاه\\u200cهای', 'فوتسال', 'آسیا', 'در', 'مالزی', 'برگزار', 'می\\u200cشود', '.', 'باشگاه', 'گیتی', 'پسند', 'بعنوان', 'قهرمان', 'فوتسال', 'ایران', 'در', 'سال', '1400', 'به', 'این', 'مسابقات', 'راه', 'پیدا', 'کرده', 'است', '.', 'پیش', 'از', 'این', 'گیتی', 'پسند', 'تجربه', '3', 'دوره', 'حضور', 'در', 'جام', 'باشگاه\\u200cهای', 'فوتسال', 'آسیا', 'را', 'داشته', 'که', 'هر', 'سه', 'دوره', 'به', 'فینال', 'مسابقات', 'راه', 'پیدا', 'کرده', 'و', 'یک', 'عنوان', 'قهرمانی', 'و', 'دو', 'مقام', 'دومی', 'بدست', 'آورده', 'است', '.', 'انتهای', 'پیام', '/']\n"
     ]
    }
   ],
   "source": [
    "#!pip install parsivar\n",
    "from parsivar import Tokenizer\n",
    "from parsivar import Normalizer\n",
    "\n",
    "my_normalizer = Normalizer()\n",
    "my_tokenizer = Tokenizer()\n",
    "words = my_tokenizer.tokenize_words(\n",
    "    my_normalizer.normalize(data['0']['content']))\n",
    "print(words)"
   ]
  },
  {
   "cell_type": "code",
   "execution_count": 4,
   "metadata": {},
   "outputs": [
    {
     "name": "stdout",
     "output_type": "stream",
     "text": [
      "12202\n",
      "['به', 'گزارش', 'خبرگزاری', 'فارس', '،', 'کنفدراسیون', 'فوتبال', 'آسیا', '(', 'AFC', ')', 'در', 'نامه\\u200cای', 'رسمی', 'به', 'فدراسیون', 'فوتبال', 'ایران', 'و', 'باشگاه', 'گیتی', 'پسند', 'زمان', 'قرعه', 'کشی', 'جام', 'باشگاه\\u200cهای', 'فوتسال', 'آسیا', 'را', 'رسما', 'اعلام', 'کرد', '.', 'بر', 'این', 'اساس', '25', 'فروردین', 'ماه', '1401', 'مراسم', 'قرعه', 'کشی', 'جام', 'باشگاه\\u200cهای', 'فوتسال', 'آسیا', 'در', 'مالزی', 'برگزار', 'می\\u200cشود', '.', 'باشگاه', 'گیتی', 'پسند', 'بعنوان', 'قهرمان', 'فوتسال', 'ایران', 'در', 'سال', '1400', 'به', 'این', 'مسابقات', 'راه', 'پیدا', 'کرده', 'است', '.', 'پیش', 'از', 'این', 'گیتی', 'پسند', 'تجربه', '3', 'دوره', 'حضور', 'در', 'جام', 'باشگاه\\u200cهای', 'فوتسال', 'آسیا', 'را', 'داشته', 'که', 'هر', 'سه', 'دوره', 'به', 'فینال', 'مسابقات', 'راه', 'پیدا', 'کرده', 'و', 'یک', 'عنوان', 'قهرمانی', 'و', 'دو', 'مقام', 'دومی', 'بدست', 'آورده', 'است', '.', 'انتهای', 'پیام', '/']\n"
     ]
    }
   ],
   "source": [
    "tokenized = {}\n",
    "\n",
    "for i in data:\n",
    "    words = my_tokenizer.tokenize_words(\n",
    "        my_normalizer.normalize(data[i]['content']))\n",
    "    tokenized[i] = words\n",
    "\n",
    "print(len(tokenized))\n",
    "print(tokenized['0'])"
   ]
  },
  {
   "attachments": {},
   "cell_type": "markdown",
   "metadata": {},
   "source": [
    "## Deleting stop words\n"
   ]
  },
  {
   "cell_type": "code",
   "execution_count": 5,
   "metadata": {},
   "outputs": [
    {
     "name": "stdout",
     "output_type": "stream",
     "text": [
      "['و', 'در', 'به', 'از', 'که', 'این', 'را', 'با', 'است', 'برای']\n",
      "389\n"
     ]
    }
   ],
   "source": [
    "#!pip install hazm\n",
    "from hazm import *\n",
    "\n",
    "stop_words = stopwords_list()\n",
    "print(stop_words[:10])\n",
    "print(len(stop_words))"
   ]
  },
  {
   "cell_type": "code",
   "execution_count": 6,
   "metadata": {},
   "outputs": [],
   "source": [
    "punctuations = ['.', '،', '/', ':', '(', ')', '!', '?', '؟']\n",
    "\n",
    "def del_stop_words(tok_data):\n",
    "    deleted_stop_words = {}\n",
    "    deleted = 0\n",
    "    all = 0\n",
    "    for i in tok_data:\n",
    "        text = []\n",
    "        for j in tok_data[i]:\n",
    "            if j not in stop_words and j not in punctuations:\n",
    "                text.append(j)\n",
    "                all += 1\n",
    "            else:\n",
    "                deleted += 1\n",
    "        deleted_stop_words[i] = text\n",
    "\n",
    "    print('stop words : ' + str(deleted))\n",
    "    print('remained : ' + str(all))\n",
    "\n",
    "    return deleted_stop_words"
   ]
  },
  {
   "attachments": {},
   "cell_type": "markdown",
   "metadata": {},
   "source": [
    "## Stemming\n"
   ]
  },
  {
   "cell_type": "code",
   "execution_count": 7,
   "metadata": {},
   "outputs": [
    {
     "name": "stdout",
     "output_type": "stream",
     "text": [
      "خبرنگاران خبرنگار\n",
      "داشت داشت&دار\n",
      "هستیم هستی\n",
      "خواهیم خواست&خواه\n",
      "تماشاگران تماشاگر\n",
      "داشت داشت&دار\n",
      "تماشاگران تماشاگر\n",
      "است اس\n"
     ]
    }
   ],
   "source": [
    "from parsivar import FindStems\n",
    "\n",
    "myStem = FindStems()\n",
    "for i in tokenized['1']:\n",
    "    if i != myStem.convert_to_stem(i):\n",
    "        print(i, myStem.convert_to_stem(i))"
   ]
  },
  {
   "cell_type": "code",
   "execution_count": 8,
   "metadata": {},
   "outputs": [],
   "source": [
    "def stemming(tok_data):\n",
    "    stemmed = {}\n",
    "\n",
    "    for i in tok_data:\n",
    "        stem_sent = []\n",
    "        for j in tok_data[i]:\n",
    "            new_word = j\n",
    "            stem = myStem.convert_to_stem(new_word)\n",
    "            stem_sent.append(stem)\n",
    "        stemmed[i] = stem_sent\n",
    "    return stemmed"
   ]
  },
  {
   "attachments": {},
   "cell_type": "markdown",
   "metadata": {},
   "source": [
    "## Run functions\n"
   ]
  },
  {
   "cell_type": "code",
   "execution_count": 9,
   "metadata": {},
   "outputs": [
    {
     "name": "stdout",
     "output_type": "stream",
     "text": [
      "stop words : 2215031\n",
      "remained : 2643556\n"
     ]
    }
   ],
   "source": [
    "deleted = del_stop_words(tokenized)\n",
    "processed = stemming(deleted)"
   ]
  },
  {
   "attachments": {},
   "cell_type": "markdown",
   "metadata": {},
   "source": [
    "## Positional inverted index\n"
   ]
  },
  {
   "cell_type": "code",
   "execution_count": 10,
   "metadata": {},
   "outputs": [
    {
     "name": "stdout",
     "output_type": "stream",
     "text": [
      "(26, {'7346': (2, [9, 104]), '7395': (1, [18]), '7416': (1, [25]), '7535': (1, [9]), '7579': (1, [954]), '7634': (1, [1683]), '8125': (4, [23, 34, 60, 110]), '8463': (2, [882, 913]), '8645': (1, [20]), '9261': (1, [41]), '9286': (5, [823, 1012, 1045, 1249, 1265]), '9808': (1, [74]), '9845': (1, [1281]), '10024': (2, [83, 105]), '10361': (1, [69]), '10567': (3, [126, 150, 165]), '10568': (2, [630, 714]), '10681': (1, [21]), '11176': (1, [103]), '11405': (3, [64, 1074, 1152]), '11437': (1, [3311]), '11603': (6, [18, 26, 53, 91, 155, 210]), '11645': (1, [18]), '11694': (1, [233]), '11928': (1, [2613]), '12134': (1, [335])})\n"
     ]
    }
   ],
   "source": [
    "import math\n",
    "\n",
    "dictionary = {}\n",
    "\n",
    "for doc in processed:\n",
    "    for term_index in range(len(processed[doc])):\n",
    "        if processed[doc][term_index] not in dictionary:\n",
    "            docs = {}\n",
    "            term_indexes = []\n",
    "            term_indexes.append(term_index)\n",
    "            docs[doc] = (1, term_indexes)\n",
    "            dictionary[processed[doc][term_index]] = (1, docs)\n",
    "        else:\n",
    "            num_all = dictionary[processed[doc][term_index]][0]\n",
    "            docs = dictionary[processed[doc][term_index]][1]\n",
    "\n",
    "            if doc in docs:\n",
    "                num_doc = docs[doc][0]\n",
    "                term_indexes = docs[doc][1]\n",
    "                term_indexes.append(term_index)\n",
    "                docs[doc] = (num_doc + 1, term_indexes)\n",
    "            else:\n",
    "                term_indexes = []\n",
    "                term_indexes.append(term_index)\n",
    "                docs[doc] = (1, term_indexes)\n",
    "                dictionary[processed[doc][term_index]] = (num_all + 1, docs)\n",
    "\n",
    "\n",
    "print(dictionary['امیرکبیر'])\n"
   ]
  },
  {
   "attachments": {},
   "cell_type": "markdown",
   "metadata": {},
   "source": [
    "## Champions list"
   ]
  },
  {
   "cell_type": "code",
   "execution_count": 11,
   "metadata": {},
   "outputs": [
    {
     "name": "stdout",
     "output_type": "stream",
     "text": [
      "(26, {'7346': (2, [9, 104]), '7416': (1, [25]), '7535': (1, [9]), '7579': (1, [954]), '7634': (1, [1683]), '8125': (4, [23, 34, 60, 110]), '8463': (2, [882, 913]), '8645': (1, [20]), '9261': (1, [41]), '9286': (5, [823, 1012, 1045, 1249, 1265]), '9808': (1, [74]), '9845': (1, [1281]), '10024': (2, [83, 105]), '10361': (1, [69]), '10567': (3, [126, 150, 165]), '10568': (2, [630, 714]), '10681': (1, [21]), '11176': (1, [103]), '11405': (3, [64, 1074, 1152]), '11603': (6, [18, 26, 53, 91, 155, 210])})\n"
     ]
    }
   ],
   "source": [
    "K_CHAMPION = 20\n",
    "\n",
    "championsList = {}\n",
    "\n",
    "for word in dictionary:\n",
    "    champ_docs = {}\n",
    "    championsList[word] = (0, champ_docs)\n",
    "    docs = dictionary[word][1]\n",
    "    for doc in docs:\n",
    "        temp = championsList[word]\n",
    "        if len(championsList[word][1]) < K_CHAMPION:\n",
    "            temp[1][doc] = docs[doc]\n",
    "            championsList[word] = (temp[0]+1, temp[1])\n",
    "        else:\n",
    "            mini = 100\n",
    "            docID = ''\n",
    "            for i in temp[1]:\n",
    "                if temp[1][i][0] < mini:\n",
    "                    mini = temp[1][i][0]\n",
    "                    docID = i\n",
    "            if mini < dictionary[word][1][doc][0]:\n",
    "                championsList[word][1].pop(docID)\n",
    "                temp[1][doc] = docs[doc]\n",
    "                championsList[word] = (temp[0]+1, temp[1])\n",
    "    championsList[word] = (dictionary[word][0], championsList[word][1])\n",
    "\n",
    "print(championsList['امیرکبیر'])\n"
   ]
  },
  {
   "attachments": {},
   "cell_type": "markdown",
   "metadata": {},
   "source": [
    "## Vectorized documents"
   ]
  },
  {
   "cell_type": "code",
   "execution_count": 12,
   "metadata": {},
   "outputs": [
    {
     "name": "stdout",
     "output_type": "stream",
     "text": [
      "(143, {'گزارش': 1.0, 'خبرگزاری': 1.0, 'فارس': 1.0, 'کنفدراسیون': 1.0, 'فوتبال': 1.3010299956639813, 'آسیا': 1.6020599913279623, 'AFC': 1.0, 'نامه': 1.0, 'رسمی': 1.0, 'فدراسیون': 1.0, 'ایران': 1.3010299956639813, 'باشگاه': 1.6989700043360187, 'گیتی': 1.4771212547196624, 'پسند': 1.4771212547196624, 'زمان': 1.0, 'قرعه': 1.3010299956639813, 'کشید&کش': 1.3010299956639813, 'جام': 1.4771212547196624, 'فوتسال': 1.6020599913279623, 'رسما': 1.0, 'اعلام': 1.0, 'اساس': 1.0, '25': 1.0, 'فروردین': 1.0, 'ماه': 1.0, '1401': 1.0, 'مراسم': 1.0, 'مالزی': 1.0, 'برگزار': 1.0, 'بعنوان': 1.0, 'قهرمان': 1.0, 'سال': 1.0, '1400': 1.0, 'مسابقات': 1.3010299956639813, 'تجربه': 1.0, '3': 1.0, 'دوره': 1.3010299956639813, 'حضور': 1.0, 'فینال': 1.0, 'عنوان': 1.0, 'قهرمانی': 1.0, 'مقام': 1.0, 'دومی': 1.0, 'بدست': 1.0, 'آورده': 1.0, 'انتهای': 1.0, 'پیام': 1.0})\n"
     ]
    }
   ],
   "source": [
    "doc_vec = {}\n",
    "for i in processed:\n",
    "    vectorized = {}\n",
    "    content = processed[i]\n",
    "    for word in content:\n",
    "        if word not in vectorized:\n",
    "            vectorized[word] = 0\n",
    "        vectorized[word] += 1\n",
    "    length = 0\n",
    "    for word in vectorized:\n",
    "        length+= vectorized[word]**2\n",
    "        vectorized[word] = 1 + math.log(vectorized[word],10)\n",
    "    doc_vec[i] = (length,vectorized)\n",
    "\n",
    "print(doc_vec['0'])"
   ]
  },
  {
   "attachments": {},
   "cell_type": "markdown",
   "metadata": {},
   "source": [
    "## Cosine similarity"
   ]
  },
  {
   "cell_type": "code",
   "execution_count": 13,
   "metadata": {},
   "outputs": [
    {
     "name": "stdout",
     "output_type": "stream",
     "text": [
      "0.2683078062944919\n"
     ]
    }
   ],
   "source": [
    "def cos(query,doc):\n",
    "    sum = 0\n",
    "    sizeQuery = 0\n",
    "    doc_len = doc[0]\n",
    "    for word in query:\n",
    "        if word in doc[1]:\n",
    "            sum+=query[word]*doc[1][word]* math.log(12202/dictionary[word][0],10)\n",
    "            sizeQuery += query[word]**2\n",
    "    return sum/(math.sqrt(doc_len*sizeQuery))\n",
    "\n",
    "print(cos({'امیرکبیر':2,'دانشگاه':1}, doc_vec['8125']))"
   ]
  },
  {
   "attachments": {},
   "cell_type": "markdown",
   "metadata": {},
   "source": [
    "# Query retrieval\n"
   ]
  },
  {
   "attachments": {},
   "cell_type": "markdown",
   "metadata": {},
   "source": [
    "## Show data\n"
   ]
  },
  {
   "cell_type": "code",
   "execution_count": 14,
   "metadata": {},
   "outputs": [
    {
     "name": "stdout",
     "output_type": "stream",
     "text": [
      "\u001b[1mتجمع دانشجویان در فرودگاه امام| تاکید بر رعایت شروط رهبر انقلاب در مذاکرات\u001b[0m\n",
      "به گزارش خبرنگار تشکل‌های دانشگاهی خبرگزاری فارس، جمعی از دانشجویان بسیجی دانشگاه‌های امیرکبیر و علامه‌طباطبایی همزمان با اعزام علی باقری رئیس تیم مذاکره کننده هسته‌ای کشورمان به وین، در فرودگاه امام خمینی(ره) تجمع کردند .\n",
      "\n",
      "\u001b[1mاعلام زمان قرعه کشی جام باشگاه های فوتسال آسیا\u001b[0m\n",
      "به گزارش خبرگزاری فارس، کنفدراسیون فوتبال آسیا (AFC) در نامه ای رسمی به فدراسیون فوتبال ایران و باشگاه گیتی پسند زمان  قرعه کشی جام باشگاه های فوتسال آسیا را رسماً اعلام کرد .\n",
      "\n",
      "\u001b[1mاعلام زمان قرعه کشی جام باشگاه های فوتسال آسیا\u001b[0m\n",
      "به گزارش خبرگزاری فارس، کنفدراسیون فوتبال آسیا (AFC) در نامه ای رسمی به فدراسیون فوتبال ایران و باشگاه گیتی پسند زمان  قرعه کشی جام باشگاه های فوتسال آسیا را رسماً اعلام کرد .\n",
      "\n"
     ]
    }
   ],
   "source": [
    "def show_data(id, query,phrase):\n",
    "    print('\\033[1m'+data[id]['title']+'\\033[0m')\n",
    "\n",
    "    text = data[id]['content']\n",
    "    sentences = my_tokenizer.tokenize_sentences(text)\n",
    "\n",
    "    arr = [0] * len(query)\n",
    "\n",
    "    flag_phrase = False\n",
    "\n",
    "    for j in sentences:\n",
    "        flag = False\n",
    "        \n",
    "        if len(phrase)!= 0 and phrase[0] in j and flag_phrase == False:\n",
    "            words = my_tokenizer.tokenize_words(my_normalizer.normalize(j))\n",
    "            \n",
    "            dele = []\n",
    "            for i in words:\n",
    "                if i not in stop_words and i not in punctuations:\n",
    "                    dele.append(i)\n",
    "            words = dele\n",
    "\n",
    "            stemmed = []\n",
    "            for i in words:\n",
    "                stemmed.append(myStem.convert_to_stem(i))\n",
    "            words = stemmed\n",
    "\n",
    "            for w in range(len(words)):\n",
    "                if phrase[0] == words[w]:\n",
    "                    context = 1\n",
    "                    for p in range(1,len(phrase)):\n",
    "                        if len(words)> p+w and words[p + w] != phrase[p]:\n",
    "                            context = 0\n",
    "                    if context == 1:\n",
    "                        print(j)\n",
    "                        for k in range(len(query)):\n",
    "                            if query[k] in j:\n",
    "                                arr[k] += 1\n",
    "                        flag_phrase = True\n",
    "                        flag = True\n",
    "                        break\n",
    "\n",
    "        if not flag:\n",
    "            for i in range(len(query)):\n",
    "                if query[i] in j and arr[i] == 0:\n",
    "                    print(j)\n",
    "                    for k in range(len(query)):\n",
    "                        if query[k] in j:\n",
    "                            arr[k] += 1\n",
    "                    break\n",
    "    print('')\n",
    "\n",
    "\n",
    "show_data('7346', [],['دانشگاه','امیرکبیر'])\n",
    "show_data('0', ['گیتی','ایران'],[])\n",
    "show_data('0', ['گیتی'],['کنفدراسیون','فوتبال','آسیا'])"
   ]
  },
  {
   "attachments": {},
   "cell_type": "markdown",
   "metadata": {},
   "source": [
    "## Split query"
   ]
  },
  {
   "cell_type": "code",
   "execution_count": 15,
   "metadata": {},
   "outputs": [
    {
     "name": "stdout",
     "output_type": "stream",
     "text": [
      "(['خوبی'], ['چطور', 'داری'], ['سلام', 'میگو'])\n",
      "([], ['چطور', 'داری'], ['سلام', 'خوبی', 'شعر', 'میگو'])\n",
      "(['چطور', 'خوبی'], [], ['سلام\\u200cداری', 'شعر', 'میگو'])\n"
     ]
    }
   ],
   "source": [
    "# supports almost all querys, throws exceptions when needed, the only type of query that it does not support is when there is a not inside of a phrase in a query\n",
    "# for example in the following phrase:\n",
    "# 'this is \"a phrase with a !not inside of it\" and its not supported'\n",
    "\n",
    "\n",
    "def phrase_split(input):\n",
    "    if '\"' not in input:\n",
    "        return ([], input)\n",
    "    phrase = []\n",
    "    nonphrase = []\n",
    "    if input.count('\"') % 2 == 1:\n",
    "        raise Exception(\n",
    "            'correct input, there is an extra \" somewhere in the phrase')\n",
    "\n",
    "    if '\"' in input:\n",
    "        input = input.split('\"')\n",
    "\n",
    "    for i in range(len(input)):\n",
    "        if i % 2 == 0:\n",
    "            nonphrase.append(input[i])\n",
    "        else:\n",
    "            phrase.append(input[i])\n",
    "    str = ''\n",
    "    for i in range(len(nonphrase)):\n",
    "        str += nonphrase[i]\n",
    "    nonphrase = str\n",
    "    phrase = my_tokenizer.tokenize_words(my_normalizer.normalize(phrase[0]))\n",
    "\n",
    "    return phrase, nonphrase\n",
    "\n",
    "\n",
    "def not_split(input):\n",
    "\n",
    "    notput = []\n",
    "    output = []\n",
    "    input = input.split(' ')\n",
    "    # print(input)\n",
    "    for i in input:\n",
    "        if len(i) != 0:\n",
    "            if i[0] == '!':\n",
    "                notput.append(i[1:])\n",
    "            else:\n",
    "                output.append(i)\n",
    "    str = ''\n",
    "    for i in output:\n",
    "        str += i\n",
    "        str += \" \"\n",
    "    output = str\n",
    "    output = my_tokenizer.tokenize_words(my_normalizer.normalize(output))\n",
    "\n",
    "    return notput, output\n",
    "\n",
    "\n",
    "def full_splitter(input):\n",
    "\n",
    "    # phrase is a list of strings inside double quotations #nonphrase is only a string with the remaining characters\n",
    "    phrase, nonphrase = phrase_split(input=input)\n",
    "\n",
    "    notput, rem = not_split(input=nonphrase)   #\n",
    "\n",
    "    phrase_new = []\n",
    "    notput_new = []\n",
    "    rem_new = []\n",
    "\n",
    "    if len(phrase) != 0:\n",
    "        for i in phrase:\n",
    "            remi = myStem.convert_to_stem(i)\n",
    "            if remi not in punctuations:\n",
    "                phrase_new.append(remi)\n",
    "    phrase = phrase_new\n",
    "\n",
    "    if len(notput) != 0:\n",
    "        for i in notput:\n",
    "            remi = myStem.convert_to_stem(i)\n",
    "            if remi not in punctuations:\n",
    "                notput_new.append(remi)\n",
    "    notput = notput_new\n",
    "\n",
    "    if len(rem) != 0:\n",
    "        for i in rem:\n",
    "            remi = myStem.convert_to_stem(i)\n",
    "            if remi not in punctuations:\n",
    "                rem_new.append(remi)\n",
    "    rem = rem_new\n",
    "\n",
    "    return phrase, notput, rem\n",
    "\n",
    "\n",
    "print(full_splitter(' سلام !چطوری \"خوبی؟\" !داری \"شعر\" میگویی'))\n",
    "print(full_splitter(' سلام !چطوری خوبی؟ !داری شعر میگویی'))\n",
    "print(full_splitter(' سلام \"چطوری خوبی؟\" داری شعر میگویی'))\n"
   ]
  },
  {
   "attachments": {},
   "cell_type": "markdown",
   "metadata": {},
   "source": [
    "## Find matches"
   ]
  },
  {
   "cell_type": "code",
   "execution_count": 16,
   "metadata": {},
   "outputs": [
    {
     "name": "stdout",
     "output_type": "stream",
     "text": [
      "{'7346': [2, 0], '7416': [1, 0], '7535': [1, 0], '7579': [1, 88], '7634': [1, 0], '8125': [4, 0], '8463': [2, 0], '8645': [1, 0], '9261': [1, 0], '9286': [5, 0], '9808': [1, 0], '9845': [1, 80], '10024': [2, 0], '10361': [1, 0], '10567': [3, 0], '10568': [2, 0], '10681': [1, 0], '11176': [1, 0], '11405': [3, 0], '11603': [6, 0], '7220': [0, 33], '7236': [0, 38], '7584': [0, 35], '7794': [0, 32], '8168': [0, 35], '8261': [0, 40], '8308': [0, 48], '8544': [0, 62], '8780': [0, 92], '9387': [0, 34], '9916': [0, 65], '11228': [0, 35], '11341': [0, 34], '11694': [0, 54], '11697': [0, 94], '11739': [0, 72], '11767': [0, 56], '11928': [0, 42]}\n"
     ]
    }
   ],
   "source": [
    "def extract_docs_with_query_words(query, champ=False):\n",
    "    godDict = {}\n",
    "    usingDict = dictionary\n",
    "    if champ == True:\n",
    "        usingDict = championsList\n",
    "    for i in range(0, len(query)):\n",
    "        for doc in usingDict[query[i]][1]:\n",
    "            if doc not in godDict:\n",
    "                godDict[doc] = len(query) * [0]\n",
    "            godDict[doc][i] = usingDict[query[i]][1][doc][0]\n",
    "    return godDict\n",
    "\n",
    "\n",
    "print(extract_docs_with_query_words(['امیرکبیر','دانشگاه'],champ=True))"
   ]
  },
  {
   "cell_type": "code",
   "execution_count": 17,
   "metadata": {},
   "outputs": [],
   "source": [
    "import time\n",
    "\n",
    "OUR_K = 5\n",
    "\n",
    "\n",
    "def query(text, champ=False):\n",
    "    now = time.time_ns()\n",
    "\n",
    "    text = full_splitter(text)\n",
    "\n",
    "    phrase = text[0]\n",
    "    notput = text[1]\n",
    "    input = text[2]\n",
    "    \n",
    "    dic_inp = {}\n",
    "    for word in input:\n",
    "        if word not in dic_inp:\n",
    "            dic_inp[word] = 0\n",
    "        dic_inp[word] = dic_inp[word] + 1\n",
    "    for word in dic_inp:\n",
    "        dic_inp[word] = dic_inp[word]\n",
    "    \n",
    "    # Searching query\n",
    "    docs = {}\n",
    "    null_input = False\n",
    "\n",
    "    godDict = extract_docs_with_query_words(input,champ)\n",
    "    top_k = []\n",
    "    for doc in godDict:\n",
    "        similar = cos(dic_inp,doc_vec[doc])\n",
    "        if len(top_k) < OUR_K:\n",
    "            top_k.append((similar, doc))\n",
    "        else:\n",
    "            mini = 2\n",
    "            docID = ''\n",
    "            for i in top_k:\n",
    "                if i[0] < mini:\n",
    "                    mini = i[0]\n",
    "                    docID = i[1]\n",
    "            if mini < similar:\n",
    "                top_k.remove((mini, docID))\n",
    "                top_k.append((similar, doc))\n",
    "    top_k.sort(reverse=True)\n",
    "\n",
    "    # Showing result\n",
    "\n",
    "    print(str(len(godDict))+' results ('+ str((time.time_ns()- now)/10**9) + ' seconds)\\n')\n",
    "    \n",
    "    rank = 1\n",
    "    for i in top_k:\n",
    "        print(rank,' id: ',i[1],' Score: ', i[0], )\n",
    "        rank += 1\n",
    "        show_data(i[1], input, phrase)\n"
   ]
  },
  {
   "attachments": {},
   "cell_type": "markdown",
   "metadata": {},
   "source": [
    "# Examples"
   ]
  },
  {
   "cell_type": "code",
   "execution_count": 18,
   "metadata": {},
   "outputs": [
    {
     "name": "stdout",
     "output_type": "stream",
     "text": [
      "877 results (0.0049865 seconds)\n",
      "\n",
      "1  id:  11063  Score:  0.26297983283254805\n",
      "\u001b[1mبهادری جهرمی سخنگوی دولت شد\u001b[0m\n",
      " وی دانش آموخته حقوق دانشگاه تهران، عضو هیات علمی دانشگاه تربیت مدرس است که پیش از این ریاست مرکز وکلا و کارشناسان قوه قضاییه را برعهده داشته است .\n",
      "\n",
      "2  id:  10171  Score:  0.20634258676900222\n",
      "\u001b[1mرئیس رسانه ملی با دانشجویان دیدار می‌کند\u001b[0m\n",
      "به گزارش گروه سیاسی خبرگزاری فارس، پیمان جبلی رئیس سازمان صداوسیما سه شنبه 16 آذرماه به مناسبت روز دانشجو با نمایندگانی از اتحادیه‌های دانشجویی، نشریات دانشجویی و نخبگان علمی دانشگاه‌ها دیدار و گفتگو می‌کند .\n",
      "\n",
      "3  id:  10261  Score:  0.19768096022788134\n",
      "\u001b[1mقالیباف در جمع دانشجویان دانشگاه شهید بهشتی سخنرانی می‌کند\u001b[0m\n",
      "به گزارش گروه سیاسی خبرگزاری فارس، نشست محمدباقر قالیباف رئیس مجلس شورای اسلامی با دانشجویان به مناسبت روز دانشجو، دوشنبه (۱۵ آذر) در دانشگاه شهید بهشتی برگزار می‌شود .\n",
      "\n",
      "4  id:  10897  Score:  0.19002586861450443\n",
      "\u001b[1mانتقاد از معطلی سه ماهه وزیر علوم برای انتصاب رئیس دانشگاه شهید چمران اهواز\u001b[0m\n",
      "به گزارش خبرنگار پارلمانی خبرگزاری فارس، سیدکریم حسینی نماینده اهواز در مجلس شورای اسلامی امروز (چهارشنبه 26 آبان ) در جلسه علنی مجلس و در تذکری اظهار داشت:‌دانشگاه شهید چمران اهواز از بزرگ‌ترین دانشگاه‌های کشور است اما سه ماه است که رئیس و معاون آن استعفا داده‌اند این در حالی است که وزیر علوم برای رئیس جدید دانشگاه تعلل می‌کند .\n",
      "\n",
      "5  id:  11294  Score:  0.18318457424888626\n",
      "\u001b[1mفاطمه آزادی جانشین خواهران بسیج دانشجویی دانشگاه‌های تهران بزرگ شد\u001b[0m\n",
      "به گزارش خبرنگار تشکل‌های دانشگاهی خبرگزاری فارس، طی مراسمی با حضور صادق مفرد مسئول بسیج دانشجویی دانشگاه‌های تهران بزرگ، فاطمه آزادی به عنوان جانشین خواهران بسیج دانشجویی دانشگاه‌های تهران بزرگ منصوب و معرفی شد .\n",
      "\n"
     ]
    }
   ],
   "source": [
    "query(\"دانشگاه\")"
   ]
  },
  {
   "cell_type": "code",
   "execution_count": 19,
   "metadata": {},
   "outputs": [
    {
     "name": "stdout",
     "output_type": "stream",
     "text": [
      "20 results (0.0007987 seconds)\n",
      "\n",
      "1  id:  8261  Score:  0.04615190801399608\n",
      "\u001b[1mلزوم «جهاد تبیین» از سوی استادان و نخبگان برای مقابله با جنگ نرم دشمن\u001b[0m\n",
      "به گزارش خبرنگار تشکل‌های دانشگاهی خبرگزاری فارس، محمدرضا مردانی رئیس سازمان بسیج اساتید کشور طی سخنانی در دانشگاه بین المللی امام خمینی (ره ) بر ضرورت جهاد علمی برای حل مشکلات اقتصادی کشور و لزوم جهاد تبیین توسط استادان و نخبگان برای مقابله با جنگ نرم و شناختی دشمن تاکید کرد .\n",
      "\n",
      "2  id:  11228  Score:  0.038173583832943316\n",
      "\u001b[1mدرخواست از وزیر بهداشت برای بهبود شرایط کاری و معیشتی دستیاران تخصصی بالینی کشور\u001b[0m\n",
      "به گزارش حوزه تشکل‌های دانشگاهی خبرگزاری فارس، جمعی از دفاتر بسیج دانشجویی در دانشگاه‌های علوم پزشکی کشور در نامه‌ای از بهرام عین‌اللهی وزیر بهداشت خواستند تا موجبات بهبود شرایط کاری، معیشتی و رفاهی ۱۴ هزار دستیار تخصصی بالینی کشور را فراهم آورد .\n",
      "\n",
      "3  id:  8308  Score:  0.036441037716951806\n",
      "\u001b[1mادعاهای‌ بی‌اعتبار درباره اخراج «محمد فاضلی»/ تلاش برای تخریب دولت سیزدهم\u001b[0m\n",
      "حوزه تشکل‌های دانشگاهی خبرگزاری فارس، براساس آئین نامه‌های جذب و ضوابط جاری، تمدید قرارداد اعضای هیئت علمی در دانشگاه‌ها و مراکز آموزش عالی کشور، این گونه است که عضو هیئت علمی پیمانی موظف است در یک بازه زمانی مشخص، شرایط تمدید فعالیت خود را از منظر عمومی، آموزشی و پژوهشی فراهم کند و در صورتی ‌که عضو نتواند در پایان دوره پیمانی، امتیازات قانونی ادامه خدمت را کسب کند، قرارداد همکاری او با دانشگاه تمدید نمی شود .\n",
      "\n",
      "4  id:  7236  Score:  0.035869366615968616\n",
      "\u001b[1mحمایت دفاتر بسیج دانشجویی از اقدام مجلس برای شفافیت بودجه دانشگاه‌های علوم پزشکی\u001b[0m\n",
      "به گزارش حوزه تشکل‌های دانشگاهی خبرگزاری فارس، ۲۲ دفتر بسیج دانشجویی دانشگاه‌های علوم پزشکی طی بیانیه ای در باره نظارت و شفافیت بودجه دانشگاه‌های علوم پزشکی و خدمات بهداشتی، درمانی کشور ضمن تقدیر از اقدام عدالت‌خواهانه نمایندگان مجلس در کمیسیون تلفیق بودجه 1401 در پایان دادن به عدم نظارت و شفافیت بودجه دانشگاه‌های علوم پزشکی کشور؛ مصوبه رسیدگی دیوان محاسبات به اعتبارات کلیه دستگاه‌های اجرایی مندرج در ماده ۲۹ قانون برنامه ششم توسعه کشور را گامی ارزشمند و مهم در راستای کاهش فساد، افزایش شفافیت و نیز کاهش هدر رفت منابع کشور به خصوص در حوزه نظام سلامت دانست و حمایت تمام قد خود را از این مصوبه اعلام کرد .\n",
      "\n",
      "5  id:  8168  Score:  0.03375226327777484\n",
      "\u001b[1mنامه 34 بسیج دانشجویی به کمیسیون تلفیق| خرید سربازی تبعیض آشکار بین مرفهان و مستضعفان است\u001b[0m\n",
      "به گزارش حوزه تشکل‌های دانشگاهی خبرگزاری فارس، جمعی از دفاتر بسیج دانشجویی دانشگاه‌های آزاد اسلامی طی نامه‌ ای به اعضای کمیسیون تلفیق مجلس شورای اسلامی نوشتند: چرا کمیسیون تلفیق در اقدامی عجیب و غیر قابل باور مصوبه خرید سربازی که بر خلاف عدالت است را تصویب کرد ؟\n",
      "\n"
     ]
    }
   ],
   "source": [
    "query(\"دانشگاه\",champ=True)"
   ]
  },
  {
   "cell_type": "code",
   "execution_count": 20,
   "metadata": {},
   "outputs": [
    {
     "name": "stdout",
     "output_type": "stream",
     "text": [
      "36 results (0.0009967 seconds)\n",
      "\n",
      "1  id:  4127  Score:  0.29094892529294636\n",
      "\u001b[1mهشدار یوفا به رئال و چلسی در خصوص واکسیناسیون\u001b[0m\n",
      "به گزارش خبرگزاری فارس، یوفا به باشگاه‌های رئال مادرید و چلسی اعلام کرده که با توجه به تغییر قوانین واکسیناسیون در کشور فرانسه نمی‌توانند از بازیکن غیرواکسینه خود استفاده کنند .\n",
      "\n",
      "2  id:  6730  Score:  0.28648064165046644\n",
      "\u001b[1mگل تماشایی مسی به سیتی بهترین اروپا شد+فیلم\u001b[0m\n",
      "به گزارش خبرگزاری فارس، سایت اتحادیه فوتبال اروپا(یوفا) یک نظرسنجی برگزار کرده بود تا بهترین گل مرحله گروهی لیگ قهرمانان اروپا 2021 را انتخاب کند .\n",
      "\n",
      "3  id:  3281  Score:  0.2817320037848364\n",
      "\u001b[1mدرخواست یوفا از آنچلوتی با 21 قهرمانی؛ آزمون مربیگری بده\u001b[0m\n",
      "به گزارش خبرگزاری فارس، کارلو آنچلوتی که یکی از پرافتخارترین مربیان تاریخ فوتبال است با نظر یوفا باید دوباره آزمون مربیگری بدهد .\n",
      "\n",
      "4  id:  505  Score:  0.28021433468190443\n",
      "\u001b[1mسفر چراغ خاموش رئیس فیفا به عربستان/بن سلمان میزبان اینفانتینو شد+عکس\u001b[0m\n",
      " فیفا و یوفا این روزها با دخالت دادن ورزش در سیاست علیه ورزش روسیه موضع گیری های سختی کردند .\n",
      "\n",
      "5  id:  1349  Score:  0.2705820818143315\n",
      "\u001b[1mحمایت پورتو از طارمی برای کسب جایزه بهترین بازیکن هفته اروپا+لینک\u001b[0m\n",
      " طارمی بعد از این درخشش به همراه تیم پرتغالی از سوی یوفا به عنوان یکی از 4 نامزد کسب جایزه بهترین بازیکن هفته لیگ اروپا انتخاب شد .\n",
      "\n"
     ]
    }
   ],
   "source": [
    "query(\"یوفا\")"
   ]
  },
  {
   "cell_type": "code",
   "execution_count": 26,
   "metadata": {},
   "outputs": [
    {
     "name": "stdout",
     "output_type": "stream",
     "text": [
      "20 results (0.0009379 seconds)\n",
      "\n",
      "1  id:  4127  Score:  0.29094892529294636\n",
      "\u001b[1mهشدار یوفا به رئال و چلسی در خصوص واکسیناسیون\u001b[0m\n",
      "به گزارش خبرگزاری فارس، یوفا به باشگاه‌های رئال مادرید و چلسی اعلام کرده که با توجه به تغییر قوانین واکسیناسیون در کشور فرانسه نمی‌توانند از بازیکن غیرواکسینه خود استفاده کنند .\n",
      "\n",
      "2  id:  3281  Score:  0.2817320037848364\n",
      "\u001b[1mدرخواست یوفا از آنچلوتی با 21 قهرمانی؛ آزمون مربیگری بده\u001b[0m\n",
      "به گزارش خبرگزاری فارس، کارلو آنچلوتی که یکی از پرافتخارترین مربیان تاریخ فوتبال است با نظر یوفا باید دوباره آزمون مربیگری بدهد .\n",
      "\n",
      "3  id:  505  Score:  0.28021433468190443\n",
      "\u001b[1mسفر چراغ خاموش رئیس فیفا به عربستان/بن سلمان میزبان اینفانتینو شد+عکس\u001b[0m\n",
      " فیفا و یوفا این روزها با دخالت دادن ورزش در سیاست علیه ورزش روسیه موضع گیری های سختی کردند .\n",
      "\n",
      "4  id:  1349  Score:  0.2705820818143315\n",
      "\u001b[1mحمایت پورتو از طارمی برای کسب جایزه بهترین بازیکن هفته اروپا+لینک\u001b[0m\n",
      " طارمی بعد از این درخشش به همراه تیم پرتغالی از سوی یوفا به عنوان یکی از 4 نامزد کسب جایزه بهترین بازیکن هفته لیگ اروپا انتخاب شد .\n",
      "\n",
      "5  id:  6500  Score:  0.2636092835234104\n",
      "\u001b[1mنتیجه بازی تاتنهام 3 بر صفر شد/ حذف تیمِ کونته از رقابت اروپایی\u001b[0m\n",
      "به گزارش خبرگزاری فارس، کمیته انضباطی یوفا عدم حضور تاتنهام مقابل رن در بازی انتهایی مرحله گروهی لیگ کنفرانس اروپا را تخلف دانست و نتیجه بازی را 3 بر صفر به سود تیم فرانسوی اعلام کرد .\n",
      "\n"
     ]
    }
   ],
   "source": [
    "query(\"یوفا\",champ = True)"
   ]
  },
  {
   "cell_type": "code",
   "execution_count": 22,
   "metadata": {},
   "outputs": [
    {
     "name": "stdout",
     "output_type": "stream",
     "text": [
      "882 results (0.0049872 seconds)\n",
      "\n",
      "1  id:  11063  Score:  0.26297983283254805\n",
      "\u001b[1mبهادری جهرمی سخنگوی دولت شد\u001b[0m\n",
      " وی دانش آموخته حقوق دانشگاه تهران، عضو هیات علمی دانشگاه تربیت مدرس است که پیش از این ریاست مرکز وکلا و کارشناسان قوه قضاییه را برعهده داشته است .\n",
      "\n",
      "2  id:  10361  Score:  0.25430628971357444\n",
      "\u001b[1mآیت‌الله رئیسی ۱۶ آذر به دانشگاه می‌رود/ دیدار دانشجویان با رؤسای مجلس و قوه قضائیه\u001b[0m\n",
      "به گزارش گروه تشکل‌های دانشگاهی خبرگزاری فارس، مراسم روز دانشجو امسال در روز ۱۶ آذر با حضور مسئولان در دانشگاه‌ها برگزار می‌شود و در مهمترین برنامه رئیس جمهور شنوای سخنان دانشجویان خواهد بود .\n",
      " لازم به ذکر است، محمد باقر قالیباف، رئیس مجلس شورای اسلامی نیز در یکی از دانشگاه‌های علامه یا امیرکبیر در جمع دانشجویان حضور پیدا خواهد کرد .\n",
      "\n",
      "3  id:  8125  Score:  0.24950834011169334\n",
      "\u001b[1mپیاده‌روی دانشگاهیان دانشگاه امیرکبیر به مناسبت آغاز دهه فجر\u001b[0m\n",
      "به گزارش خبرنگار تشکل‌های دانشگاهی خبرگزاری فارس، همایش پیاده روی و تجدید میثاق با شهدا امروز  12 بهمن ماه همزمان با ورود امام خمینی (ره) به میهن در دانشگاه صنعتی امیرکبیر برگزار شد .\n",
      "\n",
      "4  id:  9808  Score:  0.22992246836464805\n",
      "\u001b[1mبازدید آیت‌الله سید محمد خامنه‌ای از نمایشگاه اسناد قانون اساسی\u001b[0m\n",
      " قرار است در این مراسم از کتاب «روایت اساسی» که به تازگی به اهتمام پژوهشکده شورای نگهبان و توسط انتشارات امیرکبیر ‌منتشر شده است، رونمایی شود .\n",
      "\n",
      "5  id:  10171  Score:  0.20634258676900222\n",
      "\u001b[1mرئیس رسانه ملی با دانشجویان دیدار می‌کند\u001b[0m\n",
      "به گزارش گروه سیاسی خبرگزاری فارس، پیمان جبلی رئیس سازمان صداوسیما سه شنبه 16 آذرماه به مناسبت روز دانشجو با نمایندگانی از اتحادیه‌های دانشجویی، نشریات دانشجویی و نخبگان علمی دانشگاه‌ها دیدار و گفتگو می‌کند .\n",
      "\n"
     ]
    }
   ],
   "source": [
    "query(\"دانشگاه امیرکبیر\")"
   ]
  },
  {
   "cell_type": "code",
   "execution_count": 23,
   "metadata": {},
   "outputs": [
    {
     "name": "stdout",
     "output_type": "stream",
     "text": [
      "38 results (0.0009971 seconds)\n",
      "\n",
      "1  id:  10361  Score:  0.25430628971357444\n",
      "\u001b[1mآیت‌الله رئیسی ۱۶ آذر به دانشگاه می‌رود/ دیدار دانشجویان با رؤسای مجلس و قوه قضائیه\u001b[0m\n",
      "به گزارش گروه تشکل‌های دانشگاهی خبرگزاری فارس، مراسم روز دانشجو امسال در روز ۱۶ آذر با حضور مسئولان در دانشگاه‌ها برگزار می‌شود و در مهمترین برنامه رئیس جمهور شنوای سخنان دانشجویان خواهد بود .\n",
      " لازم به ذکر است، محمد باقر قالیباف، رئیس مجلس شورای اسلامی نیز در یکی از دانشگاه‌های علامه یا امیرکبیر در جمع دانشجویان حضور پیدا خواهد کرد .\n",
      "\n",
      "2  id:  8125  Score:  0.24950834011169334\n",
      "\u001b[1mپیاده‌روی دانشگاهیان دانشگاه امیرکبیر به مناسبت آغاز دهه فجر\u001b[0m\n",
      "به گزارش خبرنگار تشکل‌های دانشگاهی خبرگزاری فارس، همایش پیاده روی و تجدید میثاق با شهدا امروز  12 بهمن ماه همزمان با ورود امام خمینی (ره) به میهن در دانشگاه صنعتی امیرکبیر برگزار شد .\n",
      "\n",
      "3  id:  9808  Score:  0.22992246836464805\n",
      "\u001b[1mبازدید آیت‌الله سید محمد خامنه‌ای از نمایشگاه اسناد قانون اساسی\u001b[0m\n",
      " قرار است در این مراسم از کتاب «روایت اساسی» که به تازگی به اهتمام پژوهشکده شورای نگهبان و توسط انتشارات امیرکبیر ‌منتشر شده است، رونمایی شود .\n",
      "\n",
      "4  id:  11603  Score:  0.181534821072028\n",
      "\u001b[1mمسلمانان و دولت‌های اسلامی موظف به مقابله با ظلم و استکبار هستند\u001b[0m\n",
      "به گزارش خبرنگار تشکل‌های دانشگاهی خبرگزاری فارس، مراسم گرامیداشت روز ملی مبارزه با استکبار جهانی در مزار شهدای گمنام دانشگاه صنعتی امیرکبیر با حضور سیدحسن قدسی پور رئیس دانشگاه صنعتی امیرکبیر، حجت الاسلام والمسلمین میراحمدی رئیس نهاد نمایندگی مقام معظم رهبری، اساتید، دانشجویان و کارکنان این دانشگاه برگزار شد .\n",
      "\n",
      "5  id:  10567  Score:  0.1448646735993246\n",
      "\u001b[1mعضو هیأت‌رئیسه مجلس: عدم نظارت، برخی شرکت‌های دولتی را حیاط خلوت نجومی‌بگیران کرده است\u001b[0m\n",
      "  عضو هیأت رئیسه مجلس اظهار داشت: نمونه اخیر پرداخت حقوق نجومی را ما مشاهده کردیم و مشخص شد که بعضی از مدیران شرکت پتروشیمی امیرکبیر حقوق‌های نجومی دریافت کرده‌اند و دریافتی‌های سنگینی داشته‌اند و به نظر من صحبت‌های آیت‌الله رئیسی در مورد جلوگیری از پرداخت‌های نجومی ناظر به همین مسئله بود .\n",
      "\n"
     ]
    }
   ],
   "source": [
    "query(\"دانشگاه امیرکبیر\",champ=True)"
   ]
  },
  {
   "cell_type": "code",
   "execution_count": 24,
   "metadata": {},
   "outputs": [
    {
     "name": "stdout",
     "output_type": "stream",
     "text": [
      "6196 results (0.0399304 seconds)\n",
      "\n",
      "1  id:  6100  Score:  0.19173621226256796\n",
      "\u001b[1mکی‌روش در قضیه محمد صلاح کوتاه آمد\u001b[0m\n",
      "به گزارش خبرگزاری فارس، کارلوس کی روش سرمربی سرشناس تیم ملی مصر در هفته گذشته به فدراسیون این کشور ابلاغ کرد که محمد صلاح ستاره لیورپول باید در موعد مقرر در اردوی فراعنه حضور پیدا کند .\n",
      " نشریه «میرر» انگلیس در این زمینه خبر داد فدراسیون فوتبال مصر با موافقت کارلوس کی روش در نهایت مجوز حضور محمد صلاح در ترکیب لیورپول در بازی حساس با چلسی را داد .\n",
      "\n",
      "2  id:  5646  Score:  0.18543073171836263\n",
      "\u001b[1mکی‌روش به دنبال شکستن طلسم ناکامی مربیان خارجی در مصر+عکس\u001b[0m\n",
      "به گزارش خبرگزاری فارس، سایت «الکوره» عربی در گزارشی به کارنامه بد مربیان خارجی تاریخ تیم ملی مصر در مسابقات جام ملت های آفریقا پرداخت .\n",
      " کارلوس کی روش سرمربی اسبق ایران اکنون هدایت فراعنه را برعهده دارد .\n",
      "\n",
      "3  id:  2707  Score:  0.18301999652552856\n",
      "\u001b[1mپیام احساس کی‌روش بعد از دست دادن جام قهرمانی\u001b[0m\n",
      "به گزارش خبرگزاری فارس، تیم ملی فوتبال مصر شب گذشته در فینال جام ملت های آفریقا با هدایت کارلوس کی روش به مصاف سنگال رفت و در این بازی در ضربات پنالتی با نتیجه 4 بر 2 تن به شکست داد .\n",
      " کی روش در این بازی به دلیل محرومیت روی نیمکت فراعنه حضور نداشت و از روی سکوها بازی را دنبال کرد .\n",
      "\n",
      "4  id:  5020  Score:  0.18287149130137748\n",
      "\u001b[1mدستور سخت گیرانه کی‌روش در اردوی مصر برای مقابله با کرونا+عکس\u001b[0m\n",
      " تیم ملی مصر زیر نظر کارلوس کی روش فردا در اولین بازی اش در این تورنمنت مقابل نیجریه صف آرایی می کند .\n",
      " کنفدراسیون فوتبال آفریقا با وجود انتشار گسترده سویه جدید کرونا موسوم به امیکرون با انتشار بیانیه ای اعلام کرد اگر هر تیمی تنها 11 بازیکن سالم داشته باشد باید در این رقابت ها بازی کند و حتی نبود دروازه بان در لیست 11 بازیکن باعث لغو دیدار نمی شود .\n",
      "  در همین رابطه کارلوس کی روش بعد از این بیانیه کنفدراسیون فوتبال آفریقا برای جلوگیری از شیوع امیکرون قوانینی سخت گیرانه در اردوی فراعنه وضع کرد .\n",
      "\n",
      "5  id:  6387  Score:  0.17235372988226674\n",
      "\u001b[1mکی‌روش برای لیورپول مشکل ساز شد+عکس\u001b[0m\n",
      "به گزارش خبرگزاری فارس، سایت «المیادین» خبر داد کارلوس کی روش سرمربی تیم ملی مصر برای باشگاه لیورپول به خاطر محمد صلاح مشکل ساز شد .\n",
      " کی روش درخواست باشگاه لیورپول به حضور با تاخیر محمد صلاح در اردوی فراعنه را نپذیرفت .\n",
      "\n"
     ]
    }
   ],
   "source": [
    "query(\"فراعنه تیم فوتبال\")"
   ]
  },
  {
   "cell_type": "code",
   "execution_count": 25,
   "metadata": {},
   "outputs": [
    {
     "name": "stdout",
     "output_type": "stream",
     "text": [
      "56 results (0.0009983 seconds)\n",
      "\n",
      "1  id:  6100  Score:  0.19173621226256796\n",
      "\u001b[1mکی‌روش در قضیه محمد صلاح کوتاه آمد\u001b[0m\n",
      "به گزارش خبرگزاری فارس، کارلوس کی روش سرمربی سرشناس تیم ملی مصر در هفته گذشته به فدراسیون این کشور ابلاغ کرد که محمد صلاح ستاره لیورپول باید در موعد مقرر در اردوی فراعنه حضور پیدا کند .\n",
      " نشریه «میرر» انگلیس در این زمینه خبر داد فدراسیون فوتبال مصر با موافقت کارلوس کی روش در نهایت مجوز حضور محمد صلاح در ترکیب لیورپول در بازی حساس با چلسی را داد .\n",
      "\n",
      "2  id:  5646  Score:  0.18543073171836263\n",
      "\u001b[1mکی‌روش به دنبال شکستن طلسم ناکامی مربیان خارجی در مصر+عکس\u001b[0m\n",
      "به گزارش خبرگزاری فارس، سایت «الکوره» عربی در گزارشی به کارنامه بد مربیان خارجی تاریخ تیم ملی مصر در مسابقات جام ملت های آفریقا پرداخت .\n",
      " کارلوس کی روش سرمربی اسبق ایران اکنون هدایت فراعنه را برعهده دارد .\n",
      "\n",
      "3  id:  2707  Score:  0.18301999652552856\n",
      "\u001b[1mپیام احساس کی‌روش بعد از دست دادن جام قهرمانی\u001b[0m\n",
      "به گزارش خبرگزاری فارس، تیم ملی فوتبال مصر شب گذشته در فینال جام ملت های آفریقا با هدایت کارلوس کی روش به مصاف سنگال رفت و در این بازی در ضربات پنالتی با نتیجه 4 بر 2 تن به شکست داد .\n",
      " کی روش در این بازی به دلیل محرومیت روی نیمکت فراعنه حضور نداشت و از روی سکوها بازی را دنبال کرد .\n",
      "\n",
      "4  id:  5020  Score:  0.18287149130137748\n",
      "\u001b[1mدستور سخت گیرانه کی‌روش در اردوی مصر برای مقابله با کرونا+عکس\u001b[0m\n",
      " تیم ملی مصر زیر نظر کارلوس کی روش فردا در اولین بازی اش در این تورنمنت مقابل نیجریه صف آرایی می کند .\n",
      " کنفدراسیون فوتبال آفریقا با وجود انتشار گسترده سویه جدید کرونا موسوم به امیکرون با انتشار بیانیه ای اعلام کرد اگر هر تیمی تنها 11 بازیکن سالم داشته باشد باید در این رقابت ها بازی کند و حتی نبود دروازه بان در لیست 11 بازیکن باعث لغو دیدار نمی شود .\n",
      "  در همین رابطه کارلوس کی روش بعد از این بیانیه کنفدراسیون فوتبال آفریقا برای جلوگیری از شیوع امیکرون قوانینی سخت گیرانه در اردوی فراعنه وضع کرد .\n",
      "\n",
      "5  id:  6387  Score:  0.17235372988226674\n",
      "\u001b[1mکی‌روش برای لیورپول مشکل ساز شد+عکس\u001b[0m\n",
      "به گزارش خبرگزاری فارس، سایت «المیادین» خبر داد کارلوس کی روش سرمربی تیم ملی مصر برای باشگاه لیورپول به خاطر محمد صلاح مشکل ساز شد .\n",
      " کی روش درخواست باشگاه لیورپول به حضور با تاخیر محمد صلاح در اردوی فراعنه را نپذیرفت .\n",
      "\n"
     ]
    }
   ],
   "source": [
    "query(\"فراعنه تیم فوتبال\",champ=True)"
   ]
  }
 ],
 "metadata": {
  "kernelspec": {
   "display_name": "Python 3.7.2 64-bit",
   "language": "python",
   "name": "python3"
  },
  "language_info": {
   "codemirror_mode": {
    "name": "ipython",
    "version": 3
   },
   "file_extension": ".py",
   "mimetype": "text/x-python",
   "name": "python",
   "nbconvert_exporter": "python",
   "pygments_lexer": "ipython3",
   "version": "3.7.2"
  },
  "orig_nbformat": 4,
  "vscode": {
   "interpreter": {
    "hash": "3f5aca982b3795189cf78be42799eaa89b24ad2a4bf87aac4f9f0d78ad9ce65d"
   }
  }
 },
 "nbformat": 4,
 "nbformat_minor": 2
}
