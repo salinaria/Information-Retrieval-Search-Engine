{
 "cells": [
  {
   "attachments": {},
   "cell_type": "markdown",
   "metadata": {},
   "source": [
    "# Import json file and read it\n"
   ]
  },
  {
   "cell_type": "code",
   "execution_count": 1,
   "metadata": {},
   "outputs": [
    {
     "name": "stdout",
     "output_type": "stream",
     "text": [
      "{'title': 'اعلام زمان قرعه کشی جام باشگاه های فوتسال آسیا', 'content': '\\nبه گزارش خبرگزاری فارس، کنفدراسیون فوتبال آسیا (AFC) در نامه ای رسمی به فدراسیون فوتبال ایران و باشگاه گیتی پسند زمان\\xa0 قرعه کشی جام باشگاه های فوتسال آسیا را رسماً اعلام کرد. بر این اساس 25 فروردین ماه 1401 مراسم قرعه کشی جام باشگاه های فوتسال آسیا در مالزی برگزار می شود. باشگاه گیتی پسند بعنوان قهرمان فوتسال ایران در سال 1400 به این مسابقات راه پیدا کرده است. پیش از این گیتی پسند تجربه 3 دوره حضور در جام باشگاه های فوتسال آسیا را داشته که هر سه دوره به فینال مسابقات راه پیدا کرده و یک عنوان قهرمانی و دو مقام دومی بدست آورده است. انتهای پیام/\\n\\n\\n', 'tags': ['اعلام زمان', 'قرعه\\u200cکشی', 'قرعه\\u200cکشی جام', 'قرعه\\u200cکشی جام باشگاه\\u200cهای فوتسال', 'ای اف سی', 'گیتی پسند'], 'date': '3/15/2022 5:59:27 PM', 'url': 'https://www.farsnews.ir/news/14001224001005/اعلام-زمان-قرعه-کشی-جام-باشگاه-های-فوتسال-آسیا', 'category': 'sports'}\n",
      "12202\n"
     ]
    }
   ],
   "source": [
    "import json\n",
    "\n",
    "f = open('IR_data_news_12k.json')\n",
    "data = json.load(f)\n",
    "print(data['0'])\n",
    "print(len(data))"
   ]
  },
  {
   "cell_type": "code",
   "execution_count": 2,
   "metadata": {},
   "outputs": [
    {
     "data": {
      "text/plain": [
       "'\\nبه گزارش خبرگزاری فارس، کنفدراسیون فوتبال آسیا (AFC) در نامه ای رسمی به فدراسیون فوتبال ایران و باشگاه گیتی پسند زمان\\xa0 قرعه کشی جام باشگاه های فوتسال آسیا را رسماً اعلام کرد. بر این اساس 25 فروردین ماه 1401 مراسم قرعه کشی جام باشگاه های فوتسال آسیا در مالزی برگزار می شود. باشگاه گیتی پسند بعنوان قهرمان فوتسال ایران در سال 1400 به این مسابقات راه پیدا کرده است. پیش از این گیتی پسند تجربه 3 دوره حضور در جام باشگاه های فوتسال آسیا را داشته که هر سه دوره به فینال مسابقات راه پیدا کرده و یک عنوان قهرمانی و دو مقام دومی بدست آورده است. انتهای پیام/\\n\\n\\n'"
      ]
     },
     "execution_count": 2,
     "metadata": {},
     "output_type": "execute_result"
    }
   ],
   "source": [
    "data['0']['content']"
   ]
  },
  {
   "attachments": {},
   "cell_type": "markdown",
   "metadata": {},
   "source": [
    "# Pre-proccesing\n"
   ]
  },
  {
   "attachments": {},
   "cell_type": "markdown",
   "metadata": {},
   "source": [
    "## Tokenizing data and normalization\n"
   ]
  },
  {
   "cell_type": "code",
   "execution_count": 3,
   "metadata": {},
   "outputs": [
    {
     "name": "stdout",
     "output_type": "stream",
     "text": [
      "['به', 'گزارش', 'خبرگزاری', 'فارس', '،', 'کنفدراسیون', 'فوتبال', 'آسیا', '(', 'AFC', ')', 'در', 'نامه\\u200cای', 'رسمی', 'به', 'فدراسیون', 'فوتبال', 'ایران', 'و', 'باشگاه', 'گیتی', 'پسند', 'زمان', 'قرعه', 'کشی', 'جام', 'باشگاه\\u200cهای', 'فوتسال', 'آسیا', 'را', 'رسما', 'اعلام', 'کرد', '.', 'بر', 'این', 'اساس', '25', 'فروردین', 'ماه', '1401', 'مراسم', 'قرعه', 'کشی', 'جام', 'باشگاه\\u200cهای', 'فوتسال', 'آسیا', 'در', 'مالزی', 'برگزار', 'می\\u200cشود', '.', 'باشگاه', 'گیتی', 'پسند', 'بعنوان', 'قهرمان', 'فوتسال', 'ایران', 'در', 'سال', '1400', 'به', 'این', 'مسابقات', 'راه', 'پیدا', 'کرده', 'است', '.', 'پیش', 'از', 'این', 'گیتی', 'پسند', 'تجربه', '3', 'دوره', 'حضور', 'در', 'جام', 'باشگاه\\u200cهای', 'فوتسال', 'آسیا', 'را', 'داشته', 'که', 'هر', 'سه', 'دوره', 'به', 'فینال', 'مسابقات', 'راه', 'پیدا', 'کرده', 'و', 'یک', 'عنوان', 'قهرمانی', 'و', 'دو', 'مقام', 'دومی', 'بدست', 'آورده', 'است', '.', 'انتهای', 'پیام', '/']\n"
     ]
    }
   ],
   "source": [
    "#!pip install parsivar\n",
    "from parsivar import Tokenizer\n",
    "from parsivar import Normalizer\n",
    "\n",
    "my_normalizer = Normalizer()\n",
    "my_tokenizer = Tokenizer()\n",
    "words = my_tokenizer.tokenize_words(\n",
    "    my_normalizer.normalize(data['0']['content']))\n",
    "print(words)"
   ]
  },
  {
   "cell_type": "code",
   "execution_count": 4,
   "metadata": {},
   "outputs": [
    {
     "name": "stdout",
     "output_type": "stream",
     "text": [
      "12202\n",
      "['به', 'گزارش', 'خبرگزاری', 'فارس', '،', 'کنفدراسیون', 'فوتبال', 'آسیا', '(', 'AFC', ')', 'در', 'نامه\\u200cای', 'رسمی', 'به', 'فدراسیون', 'فوتبال', 'ایران', 'و', 'باشگاه', 'گیتی', 'پسند', 'زمان', 'قرعه', 'کشی', 'جام', 'باشگاه\\u200cهای', 'فوتسال', 'آسیا', 'را', 'رسما', 'اعلام', 'کرد', '.', 'بر', 'این', 'اساس', '25', 'فروردین', 'ماه', '1401', 'مراسم', 'قرعه', 'کشی', 'جام', 'باشگاه\\u200cهای', 'فوتسال', 'آسیا', 'در', 'مالزی', 'برگزار', 'می\\u200cشود', '.', 'باشگاه', 'گیتی', 'پسند', 'بعنوان', 'قهرمان', 'فوتسال', 'ایران', 'در', 'سال', '1400', 'به', 'این', 'مسابقات', 'راه', 'پیدا', 'کرده', 'است', '.', 'پیش', 'از', 'این', 'گیتی', 'پسند', 'تجربه', '3', 'دوره', 'حضور', 'در', 'جام', 'باشگاه\\u200cهای', 'فوتسال', 'آسیا', 'را', 'داشته', 'که', 'هر', 'سه', 'دوره', 'به', 'فینال', 'مسابقات', 'راه', 'پیدا', 'کرده', 'و', 'یک', 'عنوان', 'قهرمانی', 'و', 'دو', 'مقام', 'دومی', 'بدست', 'آورده', 'است', '.', 'انتهای', 'پیام', '/']\n"
     ]
    }
   ],
   "source": [
    "tokenized = {}\n",
    "\n",
    "for i in data:\n",
    "    words = my_tokenizer.tokenize_words(\n",
    "        my_normalizer.normalize(data[i]['content']))\n",
    "    tokenized[i] = words\n",
    "\n",
    "print(len(tokenized))\n",
    "print(tokenized['0'])"
   ]
  },
  {
   "attachments": {},
   "cell_type": "markdown",
   "metadata": {},
   "source": [
    "## Deleting stop words\n"
   ]
  },
  {
   "cell_type": "code",
   "execution_count": 5,
   "metadata": {},
   "outputs": [
    {
     "name": "stdout",
     "output_type": "stream",
     "text": [
      "['و', 'در', 'به', 'از', 'که', 'این', 'را', 'با', 'است', 'برای']\n",
      "389\n"
     ]
    }
   ],
   "source": [
    "#!pip install hazm\n",
    "from hazm import *\n",
    "\n",
    "stop_words = stopwords_list()\n",
    "print(stop_words[:10])\n",
    "print(len(stop_words))"
   ]
  },
  {
   "cell_type": "code",
   "execution_count": 6,
   "metadata": {},
   "outputs": [],
   "source": [
    "punctuations = ['.', '،', '/', ':', '(', ')', '!', '?', '؟']\n",
    "\n",
    "def del_stop_words(tok_data):\n",
    "    deleted_stop_words = {}\n",
    "    deleted = 0\n",
    "    all = 0\n",
    "    for i in tok_data:\n",
    "        text = []\n",
    "        for j in tok_data[i]:\n",
    "            if j not in stop_words and j not in punctuations:\n",
    "                text.append(j)\n",
    "                all += 1\n",
    "            else:\n",
    "                deleted += 1\n",
    "        deleted_stop_words[i] = text\n",
    "\n",
    "    print('stop words : ' + str(deleted))\n",
    "    print('remained : ' + str(all))\n",
    "\n",
    "    return deleted_stop_words"
   ]
  },
  {
   "attachments": {},
   "cell_type": "markdown",
   "metadata": {},
   "source": [
    "## Stemming\n"
   ]
  },
  {
   "cell_type": "code",
   "execution_count": 7,
   "metadata": {},
   "outputs": [
    {
     "name": "stdout",
     "output_type": "stream",
     "text": [
      "خبرنگاران خبرنگار\n",
      "داشت داشت&دار\n",
      "هستیم هستی\n",
      "خواهیم خواست&خواه\n",
      "تماشاگران تماشاگر\n",
      "داشت داشت&دار\n",
      "تماشاگران تماشاگر\n",
      "است اس\n"
     ]
    }
   ],
   "source": [
    "from parsivar import FindStems\n",
    "\n",
    "myStem = FindStems()\n",
    "for i in tokenized['1']:\n",
    "    if i != myStem.convert_to_stem(i):\n",
    "        print(i, myStem.convert_to_stem(i))"
   ]
  },
  {
   "cell_type": "code",
   "execution_count": 8,
   "metadata": {},
   "outputs": [],
   "source": [
    "def stemming(tok_data):\n",
    "    stemmed = {}\n",
    "\n",
    "    for i in tok_data:\n",
    "        stem_sent = []\n",
    "        for j in tok_data[i]:\n",
    "            new_word = j\n",
    "            stem = myStem.convert_to_stem(new_word)\n",
    "            stem_sent.append(stem)\n",
    "        stemmed[i] = stem_sent\n",
    "    return stemmed"
   ]
  },
  {
   "attachments": {},
   "cell_type": "markdown",
   "metadata": {},
   "source": [
    "## Run functions\n"
   ]
  },
  {
   "cell_type": "code",
   "execution_count": 9,
   "metadata": {},
   "outputs": [
    {
     "name": "stdout",
     "output_type": "stream",
     "text": [
      "stop words : 2215031\n",
      "remained : 2643556\n"
     ]
    }
   ],
   "source": [
    "deleted = del_stop_words(tokenized)\n",
    "processed = stemming(deleted)"
   ]
  },
  {
   "attachments": {},
   "cell_type": "markdown",
   "metadata": {},
   "source": [
    "## Positional inverted index\n"
   ]
  },
  {
   "cell_type": "code",
   "execution_count": 10,
   "metadata": {},
   "outputs": [
    {
     "name": "stdout",
     "output_type": "stream",
     "text": [
      "(26, {'7346': (2, [9, 104]), '7395': (1, [18]), '7416': (1, [25]), '7535': (1, [9]), '7579': (1, [954]), '7634': (1, [1683]), '8125': (4, [23, 34, 60, 110]), '8463': (2, [882, 913]), '8645': (1, [20]), '9261': (1, [41]), '9286': (5, [823, 1012, 1045, 1249, 1265]), '9808': (1, [74]), '9845': (1, [1281]), '10024': (2, [83, 105]), '10361': (1, [69]), '10567': (3, [126, 150, 165]), '10568': (2, [630, 714]), '10681': (1, [21]), '11176': (1, [103]), '11405': (3, [64, 1074, 1152]), '11437': (1, [3311]), '11603': (6, [18, 26, 53, 91, 155, 210]), '11645': (1, [18]), '11694': (1, [233]), '11928': (1, [2613]), '12134': (1, [335])})\n"
     ]
    }
   ],
   "source": [
    "import math\n",
    "\n",
    "dictionary = {}\n",
    "\n",
    "for doc in processed:\n",
    "    for term_index in range(len(processed[doc])):\n",
    "        if processed[doc][term_index] not in dictionary:\n",
    "            docs = {}\n",
    "            term_indexes = []\n",
    "            term_indexes.append(term_index)\n",
    "            docs[doc] = (1, term_indexes)\n",
    "            dictionary[processed[doc][term_index]] = (1, docs)\n",
    "        else:\n",
    "            num_all = dictionary[processed[doc][term_index]][0]\n",
    "            docs = dictionary[processed[doc][term_index]][1]\n",
    "\n",
    "            if doc in docs:\n",
    "                num_doc = docs[doc][0]\n",
    "                term_indexes = docs[doc][1]\n",
    "                term_indexes.append(term_index)\n",
    "                docs[doc] = (num_doc + 1, term_indexes)\n",
    "            else:\n",
    "                term_indexes = []\n",
    "                term_indexes.append(term_index)\n",
    "                docs[doc] = (1, term_indexes)\n",
    "                dictionary[processed[doc][term_index]] = (num_all + 1, docs)\n",
    "\n",
    "\n",
    "print(dictionary['امیرکبیر'])\n"
   ]
  },
  {
   "attachments": {},
   "cell_type": "markdown",
   "metadata": {},
   "source": [
    "## Champions list"
   ]
  },
  {
   "cell_type": "code",
   "execution_count": 11,
   "metadata": {},
   "outputs": [
    {
     "name": "stdout",
     "output_type": "stream",
     "text": [
      "(26, {'7346': (2, [9, 104]), '7416': (1, [25]), '7535': (1, [9]), '7579': (1, [954]), '7634': (1, [1683]), '8125': (4, [23, 34, 60, 110]), '8463': (2, [882, 913]), '8645': (1, [20]), '9261': (1, [41]), '9286': (5, [823, 1012, 1045, 1249, 1265]), '9808': (1, [74]), '9845': (1, [1281]), '10024': (2, [83, 105]), '10361': (1, [69]), '10567': (3, [126, 150, 165]), '10568': (2, [630, 714]), '10681': (1, [21]), '11176': (1, [103]), '11405': (3, [64, 1074, 1152]), '11603': (6, [18, 26, 53, 91, 155, 210])})\n"
     ]
    }
   ],
   "source": [
    "K_CHAMPION = 20\n",
    "\n",
    "championsList = {}\n",
    "\n",
    "for word in dictionary:\n",
    "    champ_docs = {}\n",
    "    championsList[word] = (0, champ_docs)\n",
    "    docs = dictionary[word][1]\n",
    "    for doc in docs:\n",
    "        temp = championsList[word]\n",
    "        if len(championsList[word][1]) < K_CHAMPION:\n",
    "            temp[1][doc] = docs[doc]\n",
    "            championsList[word] = (temp[0]+1, temp[1])\n",
    "        else:\n",
    "            mini = 100\n",
    "            docID = ''\n",
    "            for i in temp[1]:\n",
    "                if temp[1][i][0] < mini:\n",
    "                    mini = temp[1][i][0]\n",
    "                    docID = i\n",
    "            if mini < dictionary[word][1][doc][0]:\n",
    "                championsList[word][1].pop(docID)\n",
    "                temp[1][doc] = docs[doc]\n",
    "                championsList[word] = (temp[0]+1, temp[1])\n",
    "    championsList[word] = (dictionary[word][0], championsList[word][1])\n",
    "\n",
    "print(championsList['امیرکبیر'])\n"
   ]
  },
  {
   "attachments": {},
   "cell_type": "markdown",
   "metadata": {},
   "source": [
    "## Vectorized documents"
   ]
  },
  {
   "cell_type": "code",
   "execution_count": 12,
   "metadata": {},
   "outputs": [
    {
     "name": "stdout",
     "output_type": "stream",
     "text": [
      "(143, {'گزارش': 1.0, 'خبرگزاری': 1.0, 'فارس': 1.0, 'کنفدراسیون': 1.0, 'فوتبال': 1.3010299956639813, 'آسیا': 1.6020599913279623, 'AFC': 1.0, 'نامه': 1.0, 'رسمی': 1.0, 'فدراسیون': 1.0, 'ایران': 1.3010299956639813, 'باشگاه': 1.6989700043360187, 'گیتی': 1.4771212547196624, 'پسند': 1.4771212547196624, 'زمان': 1.0, 'قرعه': 1.3010299956639813, 'کشید&کش': 1.3010299956639813, 'جام': 1.4771212547196624, 'فوتسال': 1.6020599913279623, 'رسما': 1.0, 'اعلام': 1.0, 'اساس': 1.0, '25': 1.0, 'فروردین': 1.0, 'ماه': 1.0, '1401': 1.0, 'مراسم': 1.0, 'مالزی': 1.0, 'برگزار': 1.0, 'بعنوان': 1.0, 'قهرمان': 1.0, 'سال': 1.0, '1400': 1.0, 'مسابقات': 1.3010299956639813, 'تجربه': 1.0, '3': 1.0, 'دوره': 1.3010299956639813, 'حضور': 1.0, 'فینال': 1.0, 'عنوان': 1.0, 'قهرمانی': 1.0, 'مقام': 1.0, 'دومی': 1.0, 'بدست': 1.0, 'آورده': 1.0, 'انتهای': 1.0, 'پیام': 1.0})\n"
     ]
    }
   ],
   "source": [
    "doc_vec = {}\n",
    "for i in processed:\n",
    "    vectorized = {}\n",
    "    content = processed[i]\n",
    "    for word in content:\n",
    "        if word not in vectorized:\n",
    "            vectorized[word] = 0\n",
    "        vectorized[word] += 1\n",
    "    length = 0\n",
    "    for word in vectorized:\n",
    "        length+= vectorized[word]**2\n",
    "        vectorized[word] = 1 + math.log(vectorized[word],10)\n",
    "    doc_vec[i] = (length,vectorized)\n",
    "\n",
    "print(doc_vec['0'])"
   ]
  },
  {
   "attachments": {},
   "cell_type": "markdown",
   "metadata": {},
   "source": [
    "## Cosine similarity"
   ]
  },
  {
   "cell_type": "code",
   "execution_count": 13,
   "metadata": {},
   "outputs": [
    {
     "name": "stdout",
     "output_type": "stream",
     "text": [
      "0.2683078062944919\n"
     ]
    }
   ],
   "source": [
    "def cos(query,doc):\n",
    "    sum = 0\n",
    "    sizeQuery = 0\n",
    "    doc_len = doc[0]\n",
    "    for word in query:\n",
    "        if word in doc[1]:\n",
    "            sum+=query[word]*doc[1][word]* math.log(12202/dictionary[word][0],10)\n",
    "            sizeQuery += query[word]**2\n",
    "    return sum/(math.sqrt(doc_len*sizeQuery))\n",
    "\n",
    "print(cos({'امیرکبیر':2,'دانشگاه':1}, doc_vec['8125']))"
   ]
  },
  {
   "attachments": {},
   "cell_type": "markdown",
   "metadata": {},
   "source": [
    "# Query retrieval\n"
   ]
  },
  {
   "attachments": {},
   "cell_type": "markdown",
   "metadata": {},
   "source": [
    "## Show data\n"
   ]
  },
  {
   "cell_type": "code",
   "execution_count": 14,
   "metadata": {},
   "outputs": [
    {
     "name": "stdout",
     "output_type": "stream",
     "text": [
      "\u001b[1mتجمع دانشجویان در فرودگاه امام| تاکید بر رعایت شروط رهبر انقلاب در مذاکرات\u001b[0m\n",
      "به گزارش خبرنگار تشکل‌های دانشگاهی خبرگزاری فارس، جمعی از دانشجویان بسیجی دانشگاه‌های امیرکبیر و علامه‌طباطبایی همزمان با اعزام علی باقری رئیس تیم مذاکره کننده هسته‌ای کشورمان به وین، در فرودگاه امام خمینی(ره) تجمع کردند .\n",
      "\n",
      "\u001b[1mاعلام زمان قرعه کشی جام باشگاه های فوتسال آسیا\u001b[0m\n",
      "به گزارش خبرگزاری فارس، کنفدراسیون فوتبال آسیا (AFC) در نامه ای رسمی به فدراسیون فوتبال ایران و باشگاه گیتی پسند زمان  قرعه کشی جام باشگاه های فوتسال آسیا را رسماً اعلام کرد .\n",
      "\n",
      "\u001b[1mاعلام زمان قرعه کشی جام باشگاه های فوتسال آسیا\u001b[0m\n",
      "به گزارش خبرگزاری فارس، کنفدراسیون فوتبال آسیا (AFC) در نامه ای رسمی به فدراسیون فوتبال ایران و باشگاه گیتی پسند زمان  قرعه کشی جام باشگاه های فوتسال آسیا را رسماً اعلام کرد .\n",
      "\n"
     ]
    }
   ],
   "source": [
    "def show_data(id, query,phrase):\n",
    "    print('\\033[1m'+data[id]['title']+'\\033[0m')\n",
    "\n",
    "    text = data[id]['content']\n",
    "    sentences = my_tokenizer.tokenize_sentences(text)\n",
    "\n",
    "    arr = [0] * len(query)\n",
    "\n",
    "    flag_phrase = False\n",
    "\n",
    "    for j in sentences:\n",
    "        flag = False\n",
    "        \n",
    "        if len(phrase)!= 0 and phrase[0] in j and flag_phrase == False:\n",
    "            words = my_tokenizer.tokenize_words(my_normalizer.normalize(j))\n",
    "            \n",
    "            dele = []\n",
    "            for i in words:\n",
    "                if i not in stop_words and i not in punctuations:\n",
    "                    dele.append(i)\n",
    "            words = dele\n",
    "\n",
    "            stemmed = []\n",
    "            for i in words:\n",
    "                stemmed.append(myStem.convert_to_stem(i))\n",
    "            words = stemmed\n",
    "\n",
    "            for w in range(len(words)):\n",
    "                if phrase[0] == words[w]:\n",
    "                    context = 1\n",
    "                    for p in range(1,len(phrase)):\n",
    "                        if len(words)> p+w and words[p + w] != phrase[p]:\n",
    "                            context = 0\n",
    "                    if context == 1:\n",
    "                        print(j)\n",
    "                        for k in range(len(query)):\n",
    "                            if query[k] in j:\n",
    "                                arr[k] += 1\n",
    "                        flag_phrase = True\n",
    "                        flag = True\n",
    "                        break\n",
    "\n",
    "        if not flag:\n",
    "            for i in range(len(query)):\n",
    "                if query[i] in j and arr[i] == 0:\n",
    "                    print(j)\n",
    "                    for k in range(len(query)):\n",
    "                        if query[k] in j:\n",
    "                            arr[k] += 1\n",
    "                    break\n",
    "    print('')\n",
    "\n",
    "\n",
    "show_data('7346', [],['دانشگاه','امیرکبیر'])\n",
    "show_data('0', ['گیتی','ایران'],[])\n",
    "show_data('0', ['گیتی'],['کنفدراسیون','فوتبال','آسیا'])"
   ]
  },
  {
   "attachments": {},
   "cell_type": "markdown",
   "metadata": {},
   "source": [
    "## Split query"
   ]
  },
  {
   "cell_type": "code",
   "execution_count": 15,
   "metadata": {},
   "outputs": [
    {
     "name": "stdout",
     "output_type": "stream",
     "text": [
      "(['خوبی'], ['چطور', 'داری'], ['سلام', 'میگو'])\n",
      "([], ['چطور', 'داری'], ['سلام', 'خوبی', 'شعر', 'میگو'])\n",
      "(['چطور', 'خوبی'], [], ['سلام\\u200cداری', 'شعر', 'میگو'])\n"
     ]
    }
   ],
   "source": [
    "# supports almost all querys, throws exceptions when needed, the only type of query that it does not support is when there is a not inside of a phrase in a query\n",
    "# for example in the following phrase:\n",
    "# 'this is \"a phrase with a !not inside of it\" and its not supported'\n",
    "\n",
    "\n",
    "def phrase_split(input):\n",
    "    if '\"' not in input:\n",
    "        return ([], input)\n",
    "    phrase = []\n",
    "    nonphrase = []\n",
    "    if input.count('\"') % 2 == 1:\n",
    "        raise Exception(\n",
    "            'correct input, there is an extra \" somewhere in the phrase')\n",
    "\n",
    "    if '\"' in input:\n",
    "        input = input.split('\"')\n",
    "\n",
    "    for i in range(len(input)):\n",
    "        if i % 2 == 0:\n",
    "            nonphrase.append(input[i])\n",
    "        else:\n",
    "            phrase.append(input[i])\n",
    "    str = ''\n",
    "    for i in range(len(nonphrase)):\n",
    "        str += nonphrase[i]\n",
    "    nonphrase = str\n",
    "    phrase = my_tokenizer.tokenize_words(my_normalizer.normalize(phrase[0]))\n",
    "\n",
    "    return phrase, nonphrase\n",
    "\n",
    "\n",
    "def not_split(input):\n",
    "\n",
    "    notput = []\n",
    "    output = []\n",
    "    input = input.split(' ')\n",
    "    # print(input)\n",
    "    for i in input:\n",
    "        if len(i) != 0:\n",
    "            if i[0] == '!':\n",
    "                notput.append(i[1:])\n",
    "            else:\n",
    "                output.append(i)\n",
    "    str = ''\n",
    "    for i in output:\n",
    "        str += i\n",
    "        str += \" \"\n",
    "    output = str\n",
    "    output = my_tokenizer.tokenize_words(my_normalizer.normalize(output))\n",
    "\n",
    "    return notput, output\n",
    "\n",
    "\n",
    "def full_splitter(input):\n",
    "\n",
    "    # phrase is a list of strings inside double quotations #nonphrase is only a string with the remaining characters\n",
    "    phrase, nonphrase = phrase_split(input=input)\n",
    "\n",
    "    notput, rem = not_split(input=nonphrase)   #\n",
    "\n",
    "    phrase_new = []\n",
    "    notput_new = []\n",
    "    rem_new = []\n",
    "\n",
    "    if len(phrase) != 0:\n",
    "        for i in phrase:\n",
    "            remi = myStem.convert_to_stem(i)\n",
    "            if remi not in punctuations:\n",
    "                phrase_new.append(remi)\n",
    "    phrase = phrase_new\n",
    "\n",
    "    if len(notput) != 0:\n",
    "        for i in notput:\n",
    "            remi = myStem.convert_to_stem(i)\n",
    "            if remi not in punctuations:\n",
    "                notput_new.append(remi)\n",
    "    notput = notput_new\n",
    "\n",
    "    if len(rem) != 0:\n",
    "        for i in rem:\n",
    "            remi = myStem.convert_to_stem(i)\n",
    "            if remi not in punctuations:\n",
    "                rem_new.append(remi)\n",
    "    rem = rem_new\n",
    "\n",
    "    return phrase, notput, rem\n",
    "\n",
    "\n",
    "print(full_splitter(' سلام !چطوری \"خوبی؟\" !داری \"شعر\" میگویی'))\n",
    "print(full_splitter(' سلام !چطوری خوبی؟ !داری شعر میگویی'))\n",
    "print(full_splitter(' سلام \"چطوری خوبی؟\" داری شعر میگویی'))\n"
   ]
  },
  {
   "attachments": {},
   "cell_type": "markdown",
   "metadata": {},
   "source": [
    "## Find matches"
   ]
  },
  {
   "cell_type": "code",
   "execution_count": 16,
   "metadata": {},
   "outputs": [
    {
     "name": "stdout",
     "output_type": "stream",
     "text": [
      "{'7346': [2, 0], '7416': [1, 0], '7535': [1, 0], '7579': [1, 88], '7634': [1, 0], '8125': [4, 0], '8463': [2, 0], '8645': [1, 0], '9261': [1, 0], '9286': [5, 0], '9808': [1, 0], '9845': [1, 80], '10024': [2, 0], '10361': [1, 0], '10567': [3, 0], '10568': [2, 0], '10681': [1, 0], '11176': [1, 0], '11405': [3, 0], '11603': [6, 0], '7220': [0, 33], '7236': [0, 38], '7584': [0, 35], '7794': [0, 32], '8168': [0, 35], '8261': [0, 40], '8308': [0, 48], '8544': [0, 62], '8780': [0, 92], '9387': [0, 34], '9916': [0, 65], '11228': [0, 35], '11341': [0, 34], '11694': [0, 54], '11697': [0, 94], '11739': [0, 72], '11767': [0, 56], '11928': [0, 42]}\n"
     ]
    }
   ],
   "source": [
    "def extract_docs_with_query_words(query, champ=False):\n",
    "    godDict = {}\n",
    "    usingDict = dictionary\n",
    "    if champ == True:\n",
    "        usingDict = championsList\n",
    "    for i in range(0, len(query)):\n",
    "        for doc in usingDict[query[i]][1]:\n",
    "            if doc not in godDict:\n",
    "                godDict[doc] = len(query) * [0]\n",
    "            godDict[doc][i] = usingDict[query[i]][1][doc][0]\n",
    "    return godDict\n",
    "\n",
    "\n",
    "print(extract_docs_with_query_words(['امیرکبیر','دانشگاه'],champ=True))"
   ]
  },
  {
   "cell_type": "code",
   "execution_count": 34,
   "metadata": {},
   "outputs": [],
   "source": [
    "import time\n",
    "\n",
    "OUR_K = 5\n",
    "\n",
    "\n",
    "def query(text, champ=False):\n",
    "    now = time.time_ns()\n",
    "\n",
    "    text = full_splitter(text)\n",
    "\n",
    "    phrase = text[0]\n",
    "    notput = text[1]\n",
    "    input = text[2]\n",
    "    \n",
    "    dic_inp = {}\n",
    "    for word in input:\n",
    "        if word not in dic_inp:\n",
    "            dic_inp[word] = 0\n",
    "        dic_inp[word] = dic_inp[word] + 1\n",
    "    for word in dic_inp:\n",
    "        dic_inp[word] = dic_inp[word]\n",
    "    \n",
    "    # Searching query\n",
    "    docs = {}\n",
    "    null_input = False\n",
    "\n",
    "    godDict = extract_docs_with_query_words(input,champ)\n",
    "    top_k = []\n",
    "    for doc in godDict:\n",
    "        similar = cos(dic_inp,doc_vec[doc])\n",
    "        if len(top_k) < OUR_K:\n",
    "            top_k.append((similar, doc))\n",
    "        else:\n",
    "            mini = 2\n",
    "            docID = ''\n",
    "            for i in top_k:\n",
    "                if i[0] < mini:\n",
    "                    mini = i[0]\n",
    "                    docID = i[1]\n",
    "            if mini < similar:\n",
    "                top_k.remove((mini, docID))\n",
    "                top_k.append((similar, doc))\n",
    "    top_k.sort(reverse=True)\n",
    "\n",
    "    # Showing result\n",
    "\n",
    "    print(str(len(godDict))+' results ('+ str((time.time_ns()- now)/10**9) + ' seconds)\\n')\n",
    "    \n",
    "    rank = 1\n",
    "    for i in top_k:\n",
    "        print(rank,' length: ',len(tokenized[i[1]]),' Score: ', i[0], )\n",
    "        rank += 1\n",
    "        show_data(i[1], input, phrase)\n"
   ]
  },
  {
   "attachments": {},
   "cell_type": "markdown",
   "metadata": {},
   "source": [
    "# Examples"
   ]
  },
  {
   "cell_type": "code",
   "execution_count": 35,
   "metadata": {},
   "outputs": [
    {
     "name": "stdout",
     "output_type": "stream",
     "text": [
      "20 results (0.0009967 seconds)\n",
      "\n",
      "1  length:  526  Score:  0.043080264714779694\n",
      "\u001b[1mکربکندی:‌ هیأت رئیسه دکور فدراسیون فوتبال نیست/ کار آنها شجاعانه بود\u001b[0m\n",
      "رسول کربکندی در گفت‌وگو با خبرنگار ورزشی خبرگزاری فارس در مورد شرایطی که برای مدیریت ارشد فوتبال رخ داده است و هیأت رئیسه خواهان عزل رئیس فدراسیون فوتبال شده است، اظهار داشت: با وجود اینکه راحت‌تر از دوره‌های قبل به جام جهانی رفته‌ایم و برای مردم شور و نشاط ایجاد کردیم اما اطلاعات و اخبار خوشحال‌ کننده‌ای از فوتبال ایران به گوش نمی‌رسد .\n",
      "\n",
      "2  length:  674  Score:  0.03615676641518435\n",
      "\u001b[1mانتقاد کارشناس فوتبال از سبک بازی استقلال:رقبا زور گلزنی ندارند اما می گویند بهترین دفاع لیگ را داریم\u001b[0m\n",
      " با این وضعیت هیچ امیدی به فوتبال کشورمان نیست .\n",
      "\n",
      "3  length:  739  Score:  0.033361564107774654\n",
      "\u001b[1mعزیزی‌خادم:مشکل طارمی حاد نبود/تیم ملی در نتیجه‌گیری جزو بهترین تیم های جهان بود\u001b[0m\n",
      "به گزارش خبرگزاری فارس و به نقل از سایت فدراسیون فوتبال، شهاب عزیزی خادم از امین ابراهیمی، مدیرعامل کارخانه فولاد خوزستان، حمید گرشاسبی، مدیرعامل باشگاه فولاد و عبدالکاظم طالقانی رییس هیات فوتبال خوزستان به سبب میزبانی خوب طرح استعدادیابی زیر ١٩ ساله ها تشکر کرد و در رابطه با بازی‌های پیش روی تیم ملی گفت: در ابتدا باید بگویم فراموش نمی کنیم که سال گذشته و در چنین روزهایی فوتبال ملی در یک مخمصه تاریخی گرفتار بود، اما امروز به لطف خدا و تلاش‌های همه ارکان فدراسیون، کادرهای فنی تیم‌های ملی و بازیکنان ارزشمند ایران در رتبه نخست رنکینگ فیفا در آسیا و گروه مقدماتی جام جهانی هستیم و سال ٢٠٢١ را نیز با پیروزی های پیاپی پشت سر گذاشتیم و به عنوان یکی از تیم‌های بی شکست جهان، خود را در بالاترین سطح دنیا معرفی کردیم .\n",
      "\n",
      "4  length:  815  Score:  0.03331695821898163\n",
      "\u001b[1mماجدی:فدراسیون فوتبال بدون حمایت مجلس و دولت کاری از پیش نمی برد/ به اراجیفی مثل جادوگری اعتقاد ندارم\u001b[0m\n",
      "میرشاد ماجدی در گفت و گو با خبرنگار ورزشی خبرگزاری فارس، در خصوص معرفی اش به عنوان مدیر فنی فدراسیون فوتبال به فیفا اظهار داشت: از نظر فیفا کسی که به این سمت می رسد باید به صورت تمام وقت در فدراسیون فوتبال حضور داشته باشد .\n",
      "\n",
      "5  length:  936  Score:  0.03223322687629695\n",
      "\u001b[1mداداش زاده:کسانی که در راس سرخابی ها بودند حالا برای دو باشگاه تصمیم گیر شده اند/آنها با احساسات مردم بازی می کنند\u001b[0m\n",
      "بهزاد داداش زاده در گفت و گو با خبرنگار ورزشی خبرگزار فارس در خصوص مشکلاتی که دو تیم استقلال و پرسپولیس برای حضور در لیگ قهرمانان آسیا با آن مواجه شده اند اظهار داشت: واقعا برای فوتبال ایران متاسف هستم .\n",
      "\n"
     ]
    }
   ],
   "source": [
    "query(\"فوتبال\",champ=True)"
   ]
  },
  {
   "cell_type": "code",
   "execution_count": 44,
   "metadata": {},
   "outputs": [
    {
     "name": "stdout",
     "output_type": "stream",
     "text": [
      "3313 results (0.0129493 seconds)\n",
      "\n",
      "1  length:  34  Score:  0.13679352071973722\n",
      "\u001b[1mآی تی سی مدافع برزیلی استقلال صادر شد\u001b[0m\n",
      "به گزارش خبرگزاری فارس، آی‌تی‌سی رافائل سیلوا مدافع جدید و برزیلی تیم فوتبال استقلال صادر شد .\n",
      "\n",
      "2  length:  32  Score:  0.12355706102086873\n",
      "\u001b[1mستاره سوئدی شاگرد کونته شد+عکس\u001b[0m\n",
      "به گزارش خبرگزاری فارس، دژان کولوسفسکی وینگر سوئدی رسما به تیم فوتبال تاتنهام پیوست .\n",
      "\n",
      "3  length:  61  Score:  0.11381420896064907\n",
      "\u001b[1mذوبی ها در آستانه دربی اصفهان شارژ شدند\u001b[0m\n",
      "به گزارش خبرگزاری فارس، با تصمیم هیئت‌مدیره و مدیرعامل باشگاه ذوب آهن بخشی از مبلغ قرارداد کادرفنی و بازیکنان تیم فوتبال بزرگسالان در آستانه دربی فوتبال اصفهان پرداخت شد .\n",
      "\n",
      "4  length:  54  Score:  0.11366843512269045\n",
      "\u001b[1mحضور رئیس فدراسیون فوتبال در تمرین شاگردان نکونام\u001b[0m\n",
      "به گزارش خبرگزاری فارس، شهاب‌ عزیزی خادم رئیس فدراسیون فوتبال در حاشیه بازدیدش از باشگاه فولاد خوزستان، دقایقی میهمان ویژه شاگردان نکونام در تمرین این تیم بود .\n",
      "\n",
      "5  length:  37  Score:  0.111042835444153\n",
      "\u001b[1mبازدید ناظران AFC از استادیوم آزادی+عکس\u001b[0m\n",
      "به گزارش خبرنگار ورزشی خبرگزاری فارس، ناظران کنفدراسیون فوتبال آسیا امروز با حضور در ورزشگاه آزادی از قسمت های مختلف این استادویم دیدن کردند .\n",
      "\n"
     ]
    }
   ],
   "source": [
    "query(\"فوتبال\")"
   ]
  },
  {
   "cell_type": "code",
   "execution_count": 47,
   "metadata": {},
   "outputs": [
    {
     "name": "stdout",
     "output_type": "stream",
     "text": [
      "54 results (0.0009841 seconds)\n",
      "\n",
      "1  length:  739  Score:  0.045677316623366916\n",
      "\u001b[1mعزیزی‌خادم:مشکل طارمی حاد نبود/تیم ملی در نتیجه‌گیری جزو بهترین تیم های جهان بود\u001b[0m\n",
      "به گزارش خبرگزاری فارس و به نقل از سایت فدراسیون فوتبال، شهاب عزیزی خادم از امین ابراهیمی، مدیرعامل کارخانه فولاد خوزستان، حمید گرشاسبی، مدیرعامل باشگاه فولاد و عبدالکاظم طالقانی رییس هیات فوتبال خوزستان به سبب میزبانی خوب طرح استعدادیابی زیر ١٩ ساله ها تشکر کرد و در رابطه با بازی‌های پیش روی تیم ملی گفت: در ابتدا باید بگویم فراموش نمی کنیم که سال گذشته و در چنین روزهایی فوتبال ملی در یک مخمصه تاریخی گرفتار بود، اما امروز به لطف خدا و تلاش‌های همه ارکان فدراسیون، کادرهای فنی تیم‌های ملی و بازیکنان ارزشمند ایران در رتبه نخست رنکینگ فیفا در آسیا و گروه مقدماتی جام جهانی هستیم و سال ٢٠٢١ را نیز با پیروزی های پیاپی پشت سر گذاشتیم و به عنوان یکی از تیم‌های بی شکست جهان، خود را در بالاترین سطح دنیا معرفی کردیم .\n",
      "\n",
      "2  length:  526  Score:  0.04490560792342179\n",
      "\u001b[1mکربکندی:‌ هیأت رئیسه دکور فدراسیون فوتبال نیست/ کار آنها شجاعانه بود\u001b[0m\n",
      "رسول کربکندی در گفت‌وگو با خبرنگار ورزشی خبرگزاری فارس در مورد شرایطی که برای مدیریت ارشد فوتبال رخ داده است و هیأت رئیسه خواهان عزل رئیس فدراسیون فوتبال شده است، اظهار داشت: با وجود اینکه راحت‌تر از دوره‌های قبل به جام جهانی رفته‌ایم و برای مردم شور و نشاط ایجاد کردیم اما اطلاعات و اخبار خوشحال‌ کننده‌ای از فوتبال ایران به گوش نمی‌رسد .\n",
      " ما می‌گوییم تیم اول آسیا هستیم و چنین و چنان هستیم اما اکنون رفتارهایی را در فوتبال شاهدیم که اصلاً مناسب نیست .\n",
      "\n",
      "3  length:  674  Score:  0.0447193488032898\n",
      "\u001b[1mانتقاد کارشناس فوتبال از سبک بازی استقلال:رقبا زور گلزنی ندارند اما می گویند بهترین دفاع لیگ را داریم\u001b[0m\n",
      " من کمتر بازی های داخل ایران را می‌بینم چون بازی ها بدون استراتژی و تاکتیک است .\n",
      " وی افزود: متاسفانه بازیکنان در تیم های ما فقط درون زمین می دوند .\n",
      " با این وضعیت هیچ امیدی به فوتبال کشورمان نیست .\n",
      "\n",
      "4  length:  815  Score:  0.037189544700212455\n",
      "\u001b[1mماجدی:فدراسیون فوتبال بدون حمایت مجلس و دولت کاری از پیش نمی برد/ به اراجیفی مثل جادوگری اعتقاد ندارم\u001b[0m\n",
      "میرشاد ماجدی در گفت و گو با خبرنگار ورزشی خبرگزاری فارس، در خصوص معرفی اش به عنوان مدیر فنی فدراسیون فوتبال به فیفا اظهار داشت: از نظر فیفا کسی که به این سمت می رسد باید به صورت تمام وقت در فدراسیون فوتبال حضور داشته باشد .\n",
      " وی افزود: نزدیک به 7-8 ماه است با فیفا درباره اکو سیستم فوتبال به صورت برخط با آقای کالدرون (پسر مربی سابق پرسپولیس) و مالوش نمایندگان فیفا بابت ارائه برنامه و اینکه چه کارهایی را در حال انجام دادن هستیم صحبت کرده و ارتباط داشتیم و خوشحالم بعد از آن اقدامات، فیفا از فدراسیون فوتبال و همکاری که با آنها کردیم تشکر کرد .\n",
      " عضو هیات رئیسه فدراسیون فوتبال در خصوص اینکه این روزها خیلی ها درباره اساسنامه فدراسیون و تائید آن توسط مجلس شورای اسلامی صحبت می کنند عنوان کرد: با توجه به اینکه در اساسنامه و در بند یک آمده فدراسیون فوتبال جمهوری اسلامی ایران موسسه مستقل، غیر انتفاعی، غیر دولتی و دارای شخصیت حقوقی است، ان شاالله که مجلس محترم با نگاه هوشیارانه اساسنامه را تائید خواهد کرد .\n",
      "\n",
      "5  length:  936  Score:  0.03598932160195337\n",
      "\u001b[1mداداش زاده:کسانی که در راس سرخابی ها بودند حالا برای دو باشگاه تصمیم گیر شده اند/آنها با احساسات مردم بازی می کنند\u001b[0m\n",
      "بهزاد داداش زاده در گفت و گو با خبرنگار ورزشی خبرگزار فارس در خصوص مشکلاتی که دو تیم استقلال و پرسپولیس برای حضور در لیگ قهرمانان آسیا با آن مواجه شده اند اظهار داشت: واقعا برای فوتبال ایران متاسف هستم .\n",
      "\n"
     ]
    }
   ],
   "source": [
    "query(\"تیم فوتبال ایران\",champ=True)"
   ]
  },
  {
   "cell_type": "code",
   "execution_count": 46,
   "metadata": {},
   "outputs": [
    {
     "name": "stdout",
     "output_type": "stream",
     "text": [
      "8204 results (0.1017585 seconds)\n",
      "\n",
      "1  length:  59  Score:  0.14112803814202407\n",
      "\u001b[1mدروازه‌بان لیگ برتری به خیبر خرم‌ آباد پیوست +عکس\u001b[0m\n",
      "به گزارش خبرگزاری فارس، حسن پورحمیدی دروازه‌بان تیم فوتبال پیکان در نیم فصل اول، راهی لیگ دسته اول شد و به تیم خیبر خرم آباد پیوست .\n",
      " پورحمیدی که سابقه بازی در تیم ملی زیر ۲۳ سال ایران را نیز دارد، با قراردادی یک ساله به جمع شاگردان عبدالله ویسی اضافه شد .\n",
      "\n",
      "2  length:  34  Score:  0.13902213917574896\n",
      "\u001b[1mآی تی سی مدافع برزیلی استقلال صادر شد\u001b[0m\n",
      "به گزارش خبرگزاری فارس، آی‌تی‌سی رافائل سیلوا مدافع جدید و برزیلی تیم فوتبال استقلال صادر شد .\n",
      "\n",
      "3  length:  52  Score:  0.13774852163921575\n",
      "\u001b[1mحضور وزیر ورزش در ورزشگاه آزادی برای تماشای بازی ایران و عراق\u001b[0m\n",
      "به گزارش خبرنگار ورزشی خبرگزاری فارس، تیم‌های ملی فوتبال ایران و عراق از ساعت 18 امروز در چارچوب دیدارهای مرحله نهایی انتخابی جام جهانی 2022 قطر به مصاف هم رفتند .\n",
      "\n",
      "4  length:  32  Score:  0.13706998029145465\n",
      "\u001b[1mستاره سوئدی شاگرد کونته شد+عکس\u001b[0m\n",
      "به گزارش خبرگزاری فارس، دژان کولوسفسکی وینگر سوئدی رسما به تیم فوتبال تاتنهام پیوست .\n",
      "\n",
      "5  length:  52  Score:  0.13582187400360404\n",
      "\u001b[1mجام حذفی پرتغال| طارمی در ترکیب اصلی پورتو مقابل ویزلا+عکس\u001b[0m\n",
      "به گزارش خبرگزاری فارس، از مرحله یک چهارم نهایی رقابت های فوتبال جام حذفی پرتغال، پورتو میهمان ویزلا است .\n",
      " ترکیب پورتو در این بازی اعلام شد و مهدی طارمی در ترکیب اصلی تیمش حضور دارد .\n",
      " این دیدار 15 دقیقه بامداد به وقت ایران آغاز می شود .\n",
      "\n"
     ]
    }
   ],
   "source": [
    "query(\"تیم فوتبال ایران\")"
   ]
  },
  {
   "cell_type": "code",
   "execution_count": 65,
   "metadata": {},
   "outputs": [
    {
     "name": "stdout",
     "output_type": "stream",
     "text": [
      "23 results (0.0020008 seconds)\n",
      "\n",
      "1  length:  164  Score:  0.2030873846454154\n",
      "\u001b[1mتور جهانی تنیس برزیل| پیروزی دختر تاریخ ساز مقابل تنیسور میزبان\u001b[0m\n",
      "  در این دوره از مسابقات تنیسورهایی از کشورهای ایران، کانادا، اکراین ، چک ، آمریکا ، مجارستان ، صربستان ، آرژانتین ، لهستان پرتغال ، پرو سوییس ، نیوزلند ، برزیل و اسلواکی حضور دارند .\n",
      "\n",
      "2  length:  157  Score:  0.19266560985786596\n",
      "\u001b[1mبیانیه فراکسیون ایثارگری مجلس: به فیاضی رای می‌دهیم\u001b[0m\n",
      "به گزارش خبرنگار پارلمانی خبرگزاری فارس، فراکسیون ایثارگری و شهادت مجلس شورای اسلامی در بیانیه‌ای رسمی، از مسعود فیاضی گزینه پیشنهادی دولت برای تصدی وزارت آموزش و پروش حمایت کردند .\n",
      "\n",
      "3  length:  202  Score:  0.18496490443519834\n",
      "\u001b[1mرقابت پدیده تنیس ایران با نماینده چک در تور جهانی برزیل\u001b[0m\n",
      "  در این دوره از مسابقات تنیسورهایی از کشورهای ایران، کانادا، چک، آمریکا، صربستان، اسلواکی، پرو، مجارستان، آرژانتین، اوکراین، پاراگوئه و برزیل حضور دارند .\n",
      "\n",
      "4  length:  214  Score:  0.17850124059607458\n",
      "\u001b[1mپیروزی دختر تاریخ ساز تنیس  در بخش دونفره تور جهانی برزیل\u001b[0m\n",
      "  در این دوره از مسابقات تنیسورهایی از کشورهای ایران، کانادا، چک ، آمریکا ، صربستان ، اسلواکی ، پرو ، مجارستان ، آرژانتین ، اکراین ، پاراگوئه و برزیل حضور دارند .\n",
      "\n",
      "5  length:  205  Score:  0.1744312472521871\n",
      "\u001b[1mانتخابی جام جهانی| پیروزی آرژانتین بدون مسی ؛ تساوی برزیل و گلزنی سوارز\u001b[0m\n",
      " در جدول انتخابی جام جهانی 2022 قطر، برزیل با 36 امتیاز صدرنشین ، آرژانتین با 32 امتیاز دوم و تیم‌های اکوادور 24 ، اروگوئه 19 ،‌کلمبیا 17 ، پرو 17 و شیلی 16 در رده‌های سوم تا هفتم جای دارند .\n",
      "\n"
     ]
    }
   ],
   "source": [
    "query(\"پرو\")"
   ]
  },
  {
   "cell_type": "code",
   "execution_count": 68,
   "metadata": {},
   "outputs": [
    {
     "name": "stdout",
     "output_type": "stream",
     "text": [
      "20 results (0.0005079 seconds)\n",
      "\n",
      "1  length:  164  Score:  0.2030873846454154\n",
      "\u001b[1mتور جهانی تنیس برزیل| پیروزی دختر تاریخ ساز مقابل تنیسور میزبان\u001b[0m\n",
      "  در این دوره از مسابقات تنیسورهایی از کشورهای ایران، کانادا، اکراین ، چک ، آمریکا ، مجارستان ، صربستان ، آرژانتین ، لهستان پرتغال ، پرو سوییس ، نیوزلند ، برزیل و اسلواکی حضور دارند .\n",
      "\n",
      "2  length:  157  Score:  0.19266560985786596\n",
      "\u001b[1mبیانیه فراکسیون ایثارگری مجلس: به فیاضی رای می‌دهیم\u001b[0m\n",
      "به گزارش خبرنگار پارلمانی خبرگزاری فارس، فراکسیون ایثارگری و شهادت مجلس شورای اسلامی در بیانیه‌ای رسمی، از مسعود فیاضی گزینه پیشنهادی دولت برای تصدی وزارت آموزش و پروش حمایت کردند .\n",
      "\n",
      "3  length:  202  Score:  0.18496490443519834\n",
      "\u001b[1mرقابت پدیده تنیس ایران با نماینده چک در تور جهانی برزیل\u001b[0m\n",
      "  در این دوره از مسابقات تنیسورهایی از کشورهای ایران، کانادا، چک، آمریکا، صربستان، اسلواکی، پرو، مجارستان، آرژانتین، اوکراین، پاراگوئه و برزیل حضور دارند .\n",
      "\n",
      "4  length:  214  Score:  0.17850124059607458\n",
      "\u001b[1mپیروزی دختر تاریخ ساز تنیس  در بخش دونفره تور جهانی برزیل\u001b[0m\n",
      "  در این دوره از مسابقات تنیسورهایی از کشورهای ایران، کانادا، چک ، آمریکا ، صربستان ، اسلواکی ، پرو ، مجارستان ، آرژانتین ، اکراین ، پاراگوئه و برزیل حضور دارند .\n",
      "\n",
      "5  length:  205  Score:  0.1744312472521871\n",
      "\u001b[1mانتخابی جام جهانی| پیروزی آرژانتین بدون مسی ؛ تساوی برزیل و گلزنی سوارز\u001b[0m\n",
      " در جدول انتخابی جام جهانی 2022 قطر، برزیل با 36 امتیاز صدرنشین ، آرژانتین با 32 امتیاز دوم و تیم‌های اکوادور 24 ، اروگوئه 19 ،‌کلمبیا 17 ، پرو 17 و شیلی 16 در رده‌های سوم تا هفتم جای دارند .\n",
      "\n"
     ]
    }
   ],
   "source": [
    "query(\"پرو\",champ=True)"
   ]
  },
  {
   "cell_type": "code",
   "execution_count": 71,
   "metadata": {},
   "outputs": [
    {
     "name": "stdout",
     "output_type": "stream",
     "text": [
      "132 results (0.0106045 seconds)\n",
      "\n",
      "1  length:  174  Score:  0.35070661582304535\n",
      "\u001b[1mفیفا رای دیدار جنجالی تیم های فوتبال برزیل و آرژانتین را اعلام کرد\u001b[0m\n",
      "به گزارش خبرگزاری فارس، در حدود 6 ماه پیش بود که دیدار تیم های برزیل و آرژانتین در رقابت های مقدماتی راه یابی به جام جهانی فوتبال در شرایطی که 6 دقیقه از آن شروع شده بود، به دلیل حضور نیروهای امنیتی در داخل زمین، لغو شد .\n",
      "\n",
      "2  length:  92  Score:  0.3401952225023504\n",
      "\u001b[1mرده بندی جدید فیفا | ایران همچنان در قله آسیا +عکس\u001b[0m\n",
      "  تیم ملی بلژیک، برزیل، فرانسه، آرژانتین و انگلیس همچنان در رده‌های اول تا پنجم قرار دارند .\n",
      "\n",
      "3  length:  130  Score:  0.3106604791602936\n",
      "\u001b[1mآگوئرو: من در جام جهانی با آرژانتین خواهم بود\u001b[0m\n",
      "به گزارش خبرگزاری فارس، ستاره سابق دنیای فوتبال که چند ماه گذشته به دلیل مشکل قلبی مجبور به خداحافظی شد، به تیم ملی آرژانتین بازخواهد گشت .\n",
      "\n",
      "4  length:  125  Score:  0.30222966182667815\n",
      "\u001b[1mمسی به تیم ملی آرژانتین دعوت نمی‌شود\u001b[0m\n",
      "به گزارش خبرگزاری فارس، لیونل مسی فوق ستاره آرژانتینی پاری سن ژرمن این روزها بعد از بهبودی از ویروس کرونا در حال ریکاوری است تا به میادین برگردد .\n",
      "\n",
      "5  length:  127  Score:  0.301422706118516\n",
      "\u001b[1mطرح جالب از صعود تیم ملی به قطر/ایران چهاردهمین تیم حاضر در جام جهانی+فهرست تیم ها\u001b[0m\n",
      " پیش از این تیم های آلمان، دانمارک، برزیل، بلژیک، فرانسه، کرواسی، اسپانیا، صربستان، سوئیس، انگلیس، هلند و آرژانتین صعود خود را به جام جهانی مسجل کرده بودند .\n",
      "\n"
     ]
    }
   ],
   "source": [
    "query(\"برزیل آرژانتین\")"
   ]
  },
  {
   "cell_type": "code",
   "execution_count": 72,
   "metadata": {},
   "outputs": [
    {
     "name": "stdout",
     "output_type": "stream",
     "text": [
      "37 results (0.0018622 seconds)\n",
      "\n",
      "1  length:  174  Score:  0.35070661582304535\n",
      "\u001b[1mفیفا رای دیدار جنجالی تیم های فوتبال برزیل و آرژانتین را اعلام کرد\u001b[0m\n",
      "به گزارش خبرگزاری فارس، در حدود 6 ماه پیش بود که دیدار تیم های برزیل و آرژانتین در رقابت های مقدماتی راه یابی به جام جهانی فوتبال در شرایطی که 6 دقیقه از آن شروع شده بود، به دلیل حضور نیروهای امنیتی در داخل زمین، لغو شد .\n",
      "\n",
      "2  length:  92  Score:  0.3401952225023504\n",
      "\u001b[1mرده بندی جدید فیفا | ایران همچنان در قله آسیا +عکس\u001b[0m\n",
      "  تیم ملی بلژیک، برزیل، فرانسه، آرژانتین و انگلیس همچنان در رده‌های اول تا پنجم قرار دارند .\n",
      "\n",
      "3  length:  130  Score:  0.3106604791602936\n",
      "\u001b[1mآگوئرو: من در جام جهانی با آرژانتین خواهم بود\u001b[0m\n",
      "به گزارش خبرگزاری فارس، ستاره سابق دنیای فوتبال که چند ماه گذشته به دلیل مشکل قلبی مجبور به خداحافظی شد، به تیم ملی آرژانتین بازخواهد گشت .\n",
      "\n",
      "4  length:  125  Score:  0.30222966182667815\n",
      "\u001b[1mمسی به تیم ملی آرژانتین دعوت نمی‌شود\u001b[0m\n",
      "به گزارش خبرگزاری فارس، لیونل مسی فوق ستاره آرژانتینی پاری سن ژرمن این روزها بعد از بهبودی از ویروس کرونا در حال ریکاوری است تا به میادین برگردد .\n",
      "\n",
      "5  length:  153  Score:  0.2920432400785163\n",
      "\u001b[1mبمب خبری AS؛ احتمال حضور رونالدو در لیگ برزیل+عکس\u001b[0m\n",
      "به گزارش خبرگزاری فارس، نشریه «AS» اسپانیا در توئیتی با عنوان بمب خبری اعلام کرد کریستیانو رونالدو فوق ستاره پرتغالی شیاطین سرخ احتمال حضورش در لیگ فوتبال برزیل را رد نکرد .\n",
      "\n"
     ]
    }
   ],
   "source": [
    "query(\"برزیل آرژانتین\",champ=True)"
   ]
  }
 ],
 "metadata": {
  "kernelspec": {
   "display_name": "Python 3.7.2 64-bit",
   "language": "python",
   "name": "python3"
  },
  "language_info": {
   "codemirror_mode": {
    "name": "ipython",
    "version": 3
   },
   "file_extension": ".py",
   "mimetype": "text/x-python",
   "name": "python",
   "nbconvert_exporter": "python",
   "pygments_lexer": "ipython3",
   "version": "3.7.2 (tags/v3.7.2:9a3ffc0492, Dec 23 2018, 23:09:28) [MSC v.1916 64 bit (AMD64)]"
  },
  "orig_nbformat": 4,
  "vscode": {
   "interpreter": {
    "hash": "3f5aca982b3795189cf78be42799eaa89b24ad2a4bf87aac4f9f0d78ad9ce65d"
   }
  }
 },
 "nbformat": 4,
 "nbformat_minor": 2
}
