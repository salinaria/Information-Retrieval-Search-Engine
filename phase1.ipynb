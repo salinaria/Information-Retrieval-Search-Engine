{
 "cells": [
  {
   "attachments": {},
   "cell_type": "markdown",
   "metadata": {},
   "source": [
    "# Import json file and read it\n"
   ]
  },
  {
   "cell_type": "code",
   "execution_count": 1,
   "metadata": {},
   "outputs": [
    {
     "name": "stdout",
     "output_type": "stream",
     "text": [
      "{'title': 'اعلام زمان قرعه کشی جام باشگاه های فوتسال آسیا', 'content': '\\nبه گزارش خبرگزاری فارس، کنفدراسیون فوتبال آسیا (AFC) در نامه ای رسمی به فدراسیون فوتبال ایران و باشگاه گیتی پسند زمان\\xa0 قرعه کشی جام باشگاه های فوتسال آسیا را رسماً اعلام کرد. بر این اساس 25 فروردین ماه 1401 مراسم قرعه کشی جام باشگاه های فوتسال آسیا در مالزی برگزار می شود. باشگاه گیتی پسند بعنوان قهرمان فوتسال ایران در سال 1400 به این مسابقات راه پیدا کرده است. پیش از این گیتی پسند تجربه 3 دوره حضور در جام باشگاه های فوتسال آسیا را داشته که هر سه دوره به فینال مسابقات راه پیدا کرده و یک عنوان قهرمانی و دو مقام دومی بدست آورده است. انتهای پیام/\\n\\n\\n', 'tags': ['اعلام زمان', 'قرعه\\u200cکشی', 'قرعه\\u200cکشی جام', 'قرعه\\u200cکشی جام باشگاه\\u200cهای فوتسال', 'ای اف سی', 'گیتی پسند'], 'date': '3/15/2022 5:59:27 PM', 'url': 'https://www.farsnews.ir/news/14001224001005/اعلام-زمان-قرعه-کشی-جام-باشگاه-های-فوتسال-آسیا', 'category': 'sports'}\n",
      "12202\n"
     ]
    }
   ],
   "source": [
    "import json\n",
    "\n",
    "f = open('IR_data_news_12k.json')\n",
    "data = json.load(f)\n",
    "print(data['0'])\n",
    "print(len(data))"
   ]
  },
  {
   "cell_type": "code",
   "execution_count": 2,
   "metadata": {},
   "outputs": [
    {
     "data": {
      "text/plain": [
       "'\\nبه گزارش خبرگزاری فارس، کنفدراسیون فوتبال آسیا (AFC) در نامه ای رسمی به فدراسیون فوتبال ایران و باشگاه گیتی پسند زمان\\xa0 قرعه کشی جام باشگاه های فوتسال آسیا را رسماً اعلام کرد. بر این اساس 25 فروردین ماه 1401 مراسم قرعه کشی جام باشگاه های فوتسال آسیا در مالزی برگزار می شود. باشگاه گیتی پسند بعنوان قهرمان فوتسال ایران در سال 1400 به این مسابقات راه پیدا کرده است. پیش از این گیتی پسند تجربه 3 دوره حضور در جام باشگاه های فوتسال آسیا را داشته که هر سه دوره به فینال مسابقات راه پیدا کرده و یک عنوان قهرمانی و دو مقام دومی بدست آورده است. انتهای پیام/\\n\\n\\n'"
      ]
     },
     "execution_count": 2,
     "metadata": {},
     "output_type": "execute_result"
    }
   ],
   "source": [
    "data['0']['content']"
   ]
  },
  {
   "attachments": {},
   "cell_type": "markdown",
   "metadata": {},
   "source": [
    "# Pre-proccesing\n"
   ]
  },
  {
   "attachments": {},
   "cell_type": "markdown",
   "metadata": {},
   "source": [
    "## Tokenizing data and normalization\n"
   ]
  },
  {
   "cell_type": "code",
   "execution_count": 3,
   "metadata": {},
   "outputs": [
    {
     "name": "stdout",
     "output_type": "stream",
     "text": [
      "['به', 'گزارش', 'خبرگزاری', 'فارس', '،', 'کنفدراسیون', 'فوتبال', 'آسیا', '(', 'AFC', ')', 'در', 'نامه\\u200cای', 'رسمی', 'به', 'فدراسیون', 'فوتبال', 'ایران', 'و', 'باشگاه', 'گیتی', 'پسند', 'زمان', 'قرعه', 'کشی', 'جام', 'باشگاه\\u200cهای', 'فوتسال', 'آسیا', 'را', 'رسما', 'اعلام', 'کرد', '.', 'بر', 'این', 'اساس', '25', 'فروردین', 'ماه', '1401', 'مراسم', 'قرعه', 'کشی', 'جام', 'باشگاه\\u200cهای', 'فوتسال', 'آسیا', 'در', 'مالزی', 'برگزار', 'می\\u200cشود', '.', 'باشگاه', 'گیتی', 'پسند', 'بعنوان', 'قهرمان', 'فوتسال', 'ایران', 'در', 'سال', '1400', 'به', 'این', 'مسابقات', 'راه', 'پیدا', 'کرده', 'است', '.', 'پیش', 'از', 'این', 'گیتی', 'پسند', 'تجربه', '3', 'دوره', 'حضور', 'در', 'جام', 'باشگاه\\u200cهای', 'فوتسال', 'آسیا', 'را', 'داشته', 'که', 'هر', 'سه', 'دوره', 'به', 'فینال', 'مسابقات', 'راه', 'پیدا', 'کرده', 'و', 'یک', 'عنوان', 'قهرمانی', 'و', 'دو', 'مقام', 'دومی', 'بدست', 'آورده', 'است', '.', 'انتهای', 'پیام', '/']\n"
     ]
    }
   ],
   "source": [
    "#!pip install parsivar\n",
    "from parsivar import Tokenizer\n",
    "from parsivar import Normalizer\n",
    "\n",
    "my_normalizer = Normalizer()\n",
    "my_tokenizer = Tokenizer()\n",
    "words = my_tokenizer.tokenize_words(\n",
    "    my_normalizer.normalize(data['0']['content']))\n",
    "print(words)"
   ]
  },
  {
   "cell_type": "code",
   "execution_count": 160,
   "metadata": {},
   "outputs": [
    {
     "name": "stdout",
     "output_type": "stream",
     "text": [
      "12202\n",
      "['به', 'گزارش', 'خبرگزاری', 'فارس', '،', 'کنفدراسیون', 'فوتبال', 'آسیا', '(', 'AFC', ')', 'در', 'نامه\\u200cای', 'رسمی', 'به', 'فدراسیون', 'فوتبال', 'ایران', 'و', 'باشگاه', 'گیتی', 'پسند', 'زمان', 'قرعه', 'کشی', 'جام', 'باشگاه\\u200cهای', 'فوتسال', 'آسیا', 'را', 'رسما', 'اعلام', 'کرد', '.', 'بر', 'این', 'اساس', '25', 'فروردین', 'ماه', '1401', 'مراسم', 'قرعه', 'کشی', 'جام', 'باشگاه\\u200cهای', 'فوتسال', 'آسیا', 'در', 'مالزی', 'برگزار', 'می\\u200cشود', '.', 'باشگاه', 'گیتی', 'پسند', 'بعنوان', 'قهرمان', 'فوتسال', 'ایران', 'در', 'سال', '1400', 'به', 'این', 'مسابقات', 'راه', 'پیدا', 'کرده', 'است', '.', 'پیش', 'از', 'این', 'گیتی', 'پسند', 'تجربه', '3', 'دوره', 'حضور', 'در', 'جام', 'باشگاه\\u200cهای', 'فوتسال', 'آسیا', 'را', 'داشته', 'که', 'هر', 'سه', 'دوره', 'به', 'فینال', 'مسابقات', 'راه', 'پیدا', 'کرده', 'و', 'یک', 'عنوان', 'قهرمانی', 'و', 'دو', 'مقام', 'دومی', 'بدست', 'آورده', 'است', '.', 'انتهای', 'پیام', '/']\n"
     ]
    }
   ],
   "source": [
    "tokenized = {}\n",
    "\n",
    "for i in data:\n",
    "    words = my_tokenizer.tokenize_words(\n",
    "        my_normalizer.normalize(data[i]['content']))\n",
    "    tokenized[i] = words\n",
    "\n",
    "print(len(tokenized))\n",
    "print(tokenized['0'])"
   ]
  },
  {
   "attachments": {},
   "cell_type": "markdown",
   "metadata": {},
   "source": [
    "## Deleting stop words\n"
   ]
  },
  {
   "cell_type": "code",
   "execution_count": 5,
   "metadata": {},
   "outputs": [
    {
     "name": "stdout",
     "output_type": "stream",
     "text": [
      "['و', 'در', 'به', 'از', 'که', 'این', 'را', 'با', 'است', 'برای']\n",
      "389\n"
     ]
    }
   ],
   "source": [
    "#!pip install hazm\n",
    "from hazm import *\n",
    "\n",
    "stop_words = stopwords_list()\n",
    "print(stop_words[:10])\n",
    "print(len(stop_words))"
   ]
  },
  {
   "cell_type": "code",
   "execution_count": 6,
   "metadata": {},
   "outputs": [],
   "source": [
    "punctuations = ['.', '،', '/', ':', '(', ')', '!', '?', '؟']\n",
    "\n",
    "def del_stop_words(tok_data):\n",
    "    deleted_stop_words = {}\n",
    "    deleted = 0\n",
    "    all = 0\n",
    "    for i in tok_data:\n",
    "        text = []\n",
    "        for j in tok_data[i]:\n",
    "            if j not in stop_words and j not in punctuations:\n",
    "                text.append(j)\n",
    "                all += 1\n",
    "            else:\n",
    "                deleted += 1\n",
    "        deleted_stop_words[i] = text\n",
    "\n",
    "    print('stop words : ' + str(deleted))\n",
    "    print('remained : ' + str(all))\n",
    "\n",
    "    return deleted_stop_words"
   ]
  },
  {
   "attachments": {},
   "cell_type": "markdown",
   "metadata": {},
   "source": [
    "## Stemming\n"
   ]
  },
  {
   "cell_type": "code",
   "execution_count": 7,
   "metadata": {},
   "outputs": [
    {
     "name": "stdout",
     "output_type": "stream",
     "text": [
      "خبرنگاران خبرنگار\n",
      "داشت داشت&دار\n",
      "هستیم هستی\n",
      "خواهیم خواست&خواه\n",
      "تماشاگران تماشاگر\n",
      "داشت داشت&دار\n",
      "تماشاگران تماشاگر\n",
      "است اس\n"
     ]
    }
   ],
   "source": [
    "from parsivar import FindStems\n",
    "\n",
    "myStem = FindStems()\n",
    "for i in tokenized['1']:\n",
    "    if i != myStem.convert_to_stem(i):\n",
    "        print(i, myStem.convert_to_stem(i))"
   ]
  },
  {
   "cell_type": "code",
   "execution_count": 8,
   "metadata": {},
   "outputs": [],
   "source": [
    "def stemming(tok_data):\n",
    "    stemmed = {}\n",
    "\n",
    "    for i in tok_data:\n",
    "        stem_sent = []\n",
    "        for j in tok_data[i]:\n",
    "            new_word = j\n",
    "            stem = myStem.convert_to_stem(new_word)\n",
    "            stem_sent.append(stem)\n",
    "        stemmed[i] = stem_sent\n",
    "    return stemmed"
   ]
  },
  {
   "attachments": {},
   "cell_type": "markdown",
   "metadata": {},
   "source": [
    "## Run functions\n"
   ]
  },
  {
   "cell_type": "code",
   "execution_count": 9,
   "metadata": {},
   "outputs": [
    {
     "name": "stdout",
     "output_type": "stream",
     "text": [
      "stop words : 2215031\n",
      "remained : 2643556\n"
     ]
    }
   ],
   "source": [
    "deleted = del_stop_words(tokenized)\n",
    "processed = stemming(deleted)"
   ]
  },
  {
   "attachments": {},
   "cell_type": "markdown",
   "metadata": {},
   "source": [
    "# Positional inverted index\n"
   ]
  },
  {
   "cell_type": "code",
   "execution_count": 10,
   "metadata": {},
   "outputs": [
    {
     "name": "stdout",
     "output_type": "stream",
     "text": [
      "57470\n",
      "(46, {'7346': (2, [9, 104]), '7395': (1, [18]), '7416': (1, [25]), '7535': (1, [9]), '7579': (1, [954]), '7634': (1, [1683]), '8125': (4, [23, 34, 60, 110]), '8463': (2, [882, 913]), '8645': (1, [20]), '9261': (1, [41]), '9286': (5, [823, 1012, 1045, 1249, 1265]), '9808': (1, [74]), '9845': (1, [1281]), '10024': (2, [83, 105]), '10361': (1, [69]), '10567': (3, [126, 150, 165]), '10568': (2, [630, 714]), '10681': (1, [21]), '11176': (1, [103]), '11405': (3, [64, 1074, 1152]), '11437': (1, [3311]), '11603': (6, [18, 26, 53, 91, 155, 210]), '11645': (1, [18]), '11694': (1, [233]), '11928': (1, [2613]), '12134': (1, [335])})\n"
     ]
    }
   ],
   "source": [
    "dictionary = {}\n",
    "\n",
    "for doc in processed:\n",
    "    for term_index in range(len(processed[doc])):\n",
    "        if processed[doc][term_index] not in dictionary:\n",
    "            docs = {}\n",
    "            term_indexes = []\n",
    "            term_indexes.append(term_index)\n",
    "            docs[doc] = (1, term_indexes)\n",
    "            dictionary[processed[doc][term_index]] = (1, docs)\n",
    "        else:\n",
    "            num_all = dictionary[processed[doc][term_index]][0]\n",
    "            docs = dictionary[processed[doc][term_index]][1]\n",
    "\n",
    "            if doc in docs:\n",
    "                num_doc = docs[doc][0]\n",
    "                term_indexes = docs[doc][1]\n",
    "                term_indexes.append(term_index)\n",
    "                docs[doc] = (num_doc + 1, term_indexes)\n",
    "            else:\n",
    "                term_indexes = []\n",
    "                term_indexes.append(term_index)\n",
    "                docs[doc] = (1, term_indexes)\n",
    "\n",
    "            dictionary[processed[doc][term_index]] = (num_all + 1, docs)\n",
    "\n",
    "print(len(dictionary))\n",
    "print(dictionary['امیرکبیر'])"
   ]
  },
  {
   "attachments": {},
   "cell_type": "markdown",
   "metadata": {},
   "source": [
    "# Query retrieval\n"
   ]
  },
  {
   "attachments": {},
   "cell_type": "markdown",
   "metadata": {},
   "source": [
    "## Show data\n"
   ]
  },
  {
   "cell_type": "code",
   "execution_count": 159,
   "metadata": {},
   "outputs": [
    {
     "name": "stdout",
     "output_type": "stream",
     "text": [
      "\u001b[1mتجمع دانشجویان در فرودگاه امام| تاکید بر رعایت شروط رهبر انقلاب در مذاکرات\u001b[0m\n",
      "به گزارش خبرنگار تشکل‌های دانشگاهی خبرگزاری فارس، جمعی از دانشجویان بسیجی دانشگاه‌های امیرکبیر و علامه‌طباطبایی همزمان با اعزام علی باقری رئیس تیم مذاکره کننده هسته‌ای کشورمان به وین، در فرودگاه امام خمینی(ره) تجمع کردند .\n",
      "\n",
      "\u001b[1mاعلام زمان قرعه کشی جام باشگاه های فوتسال آسیا\u001b[0m\n",
      "به گزارش خبرگزاری فارس، کنفدراسیون فوتبال آسیا (AFC) در نامه ای رسمی به فدراسیون فوتبال ایران و باشگاه گیتی پسند زمان  قرعه کشی جام باشگاه های فوتسال آسیا را رسماً اعلام کرد .\n",
      "\n",
      "\u001b[1mاعلام زمان قرعه کشی جام باشگاه های فوتسال آسیا\u001b[0m\n",
      "به گزارش خبرگزاری فارس، کنفدراسیون فوتبال آسیا (AFC) در نامه ای رسمی به فدراسیون فوتبال ایران و باشگاه گیتی پسند زمان  قرعه کشی جام باشگاه های فوتسال آسیا را رسماً اعلام کرد .\n",
      "\n"
     ]
    }
   ],
   "source": [
    "def show_data(id, query,phrase):\n",
    "    print('\\033[1m'+data[id]['title']+'\\033[0m')\n",
    "\n",
    "    text = data[id]['content']\n",
    "    sentences = my_tokenizer.tokenize_sentences(text)\n",
    "\n",
    "    arr = [0] * len(query)\n",
    "\n",
    "    flag_phrase = False\n",
    "\n",
    "    for j in sentences:\n",
    "        flag = False\n",
    "        \n",
    "        if len(phrase)!= 0 and phrase[0] in j and flag_phrase == False:\n",
    "            words = my_tokenizer.tokenize_words(my_normalizer.normalize(j))\n",
    "            \n",
    "            dele = []\n",
    "            for i in words:\n",
    "                if i not in stop_words and i not in punctuations:\n",
    "                    dele.append(i)\n",
    "            words = dele\n",
    "\n",
    "            stemmed = []\n",
    "            for i in words:\n",
    "                stemmed.append(myStem.convert_to_stem(i))\n",
    "            words = stemmed\n",
    "\n",
    "            for w in range(len(words)):\n",
    "                if phrase[0] == words[w]:\n",
    "                    context = 1\n",
    "                    for p in range(1,len(phrase)):\n",
    "                        if len(words)> p+w and words[p + w] != phrase[p]:\n",
    "                            context = 0\n",
    "                    if context == 1:\n",
    "                        print(j)\n",
    "                        for k in range(len(query)):\n",
    "                            if query[k] in j:\n",
    "                                arr[k] += 1\n",
    "                        flag_phrase = True\n",
    "                        flag = True\n",
    "                        break\n",
    "\n",
    "        if not flag:\n",
    "            for i in range(len(query)):\n",
    "                if query[i] in j and arr[i] == 0:\n",
    "                    print(j)\n",
    "                    for k in range(len(query)):\n",
    "                        if query[k] in j:\n",
    "                            arr[k] += 1\n",
    "                    break\n",
    "    \n",
    "    print('')\n",
    "\n",
    "\n",
    "show_data('7346', [],['دانشگاه','امیرکبیر'])\n",
    "show_data('0', ['گیتی','ایران'],[])\n",
    "show_data('0', ['گیتی'],['کنفدراسیون','فوتبال','آسیا'])"
   ]
  },
  {
   "attachments": {},
   "cell_type": "markdown",
   "metadata": {},
   "source": [
    "## Split query"
   ]
  },
  {
   "cell_type": "code",
   "execution_count": 51,
   "metadata": {},
   "outputs": [
    {
     "name": "stdout",
     "output_type": "stream",
     "text": [
      "(['خوبی'], ['چطور', 'داری'], ['سلام', 'میگو'])\n",
      "([], ['چطور', 'داری'], ['سلام', 'خوبی', 'شعر', 'میگو'])\n",
      "(['چطور', 'خوبی'], [], ['سلام\\u200cداری', 'شعر', 'میگو'])\n"
     ]
    }
   ],
   "source": [
    "# supports almost all querys, throws exceptions when needed, the only type of query that it does not support is when there is a not inside of a phrase in a query\n",
    "# for example in the following phrase:\n",
    "# 'this is \"a phrase with a !not inside of it\" and its not supported'\n",
    "\n",
    "\n",
    "def phrase_split(input):\n",
    "    if '\"' not in input:\n",
    "        return ([], input)\n",
    "    phrase = []\n",
    "    nonphrase = []\n",
    "    if input.count('\"') % 2 == 1:\n",
    "        raise Exception(\n",
    "            'correct input, there is an extra \" somewhere in the phrase')\n",
    "\n",
    "    if '\"' in input:\n",
    "        input = input.split('\"')\n",
    "    \n",
    "    for i in range(len(input)):\n",
    "        if i % 2 == 0:\n",
    "            nonphrase.append(input[i])\n",
    "        else:\n",
    "            phrase.append(input[i])\n",
    "    str = ''\n",
    "    for i in range(len(nonphrase)):\n",
    "        str += nonphrase[i]\n",
    "    nonphrase = str\n",
    "    phrase = my_tokenizer.tokenize_words(my_normalizer.normalize(phrase[0]))\n",
    "    \n",
    "    return phrase, nonphrase\n",
    "\n",
    "\n",
    "def not_split(input):\n",
    "\n",
    "    notput = []\n",
    "    output = []\n",
    "    input = input.split(' ')\n",
    "    # print(input)\n",
    "    for i in input:\n",
    "        if len(i)!=0:\n",
    "            if i[0]=='!':\n",
    "                notput.append(i[1:])\n",
    "            else :\n",
    "                output.append(i)\n",
    "    str = ''\n",
    "    for i in output:\n",
    "        str+= i\n",
    "        str+= \" \"\n",
    "    output = str\n",
    "    output = my_tokenizer.tokenize_words(my_normalizer.normalize(output))\n",
    "        \n",
    "    return notput, output\n",
    "\n",
    "\n",
    "def full_splitter(input):\n",
    "\n",
    "    phrase, nonphrase = phrase_split(input= input)    #phrase is a list of strings inside double quotations #nonphrase is only a string with the remaining characters\n",
    "    \n",
    "    notput, rem = not_split(input= nonphrase)   #\n",
    "\n",
    "    phrase_new = []\n",
    "    notput_new = []\n",
    "    rem_new = []\n",
    "\n",
    "    if len(phrase)!=0:\n",
    "        for i in phrase:\n",
    "            remi = myStem.convert_to_stem(i)\n",
    "            if remi not in punctuations:\n",
    "                phrase_new.append(remi)\n",
    "    phrase = phrase_new\n",
    "\n",
    "    if len(notput)!=0:\n",
    "        for i in notput:\n",
    "            remi = myStem.convert_to_stem(i)\n",
    "            if remi not in punctuations:\n",
    "                notput_new.append(remi)\n",
    "    notput = notput_new\n",
    "\n",
    "    if len(rem)!=0:\n",
    "        for i in rem:\n",
    "            remi = myStem.convert_to_stem(i)\n",
    "            if remi not in punctuations:\n",
    "                rem_new.append(remi)\n",
    "    rem = rem_new\n",
    "\n",
    "\n",
    "    return phrase, notput, rem\n",
    "\n",
    "print(full_splitter(' سلام !چطوری \"خوبی؟\" !داری \"شعر\" میگویی'))\n",
    "print(full_splitter(' سلام !چطوری خوبی؟ !داری شعر میگویی'))\n",
    "print(full_splitter(' سلام \"چطوری خوبی؟\" داری شعر میگویی'))"
   ]
  },
  {
   "attachments": {},
   "cell_type": "markdown",
   "metadata": {},
   "source": [
    "## Find query matches"
   ]
  },
  {
   "cell_type": "code",
   "execution_count": 134,
   "metadata": {},
   "outputs": [],
   "source": [
    "def query(text):\n",
    "    \n",
    "    text = full_splitter(text)\n",
    "\n",
    "    phrase = text[0]\n",
    "    notput = text[1]\n",
    "    input = text[2]\n",
    "\n",
    "    # Searching query\n",
    "    docs = {}\n",
    "    null_input = False\n",
    "\n",
    "    if len(input) == 0:\n",
    "        input = phrase\n",
    "        null_input = True\n",
    "\n",
    "    for word in input:\n",
    "        if word in dictionary:\n",
    "            word_docs = dictionary[word][1]\n",
    "            for index in word_docs:\n",
    "                if index not in docs:\n",
    "                    docs[index] = (1, word_docs[index][0])\n",
    "                else:\n",
    "                    temp = docs[index][0]\n",
    "                    tempi = docs[index][1]\n",
    "                    docs[index] = (temp + 1, word_docs[index][0] + tempi)\n",
    "    \n",
    "    \n",
    "    # Cut documents which have not words\n",
    "\n",
    "    if len(notput) > 0:\n",
    "        not_docs = {}\n",
    "        for doc in docs:\n",
    "            flag = False\n",
    "            for word in notput:\n",
    "                if doc in dictionary[word][1]:\n",
    "                    flag = True\n",
    "            if not flag:\n",
    "                not_docs[doc] = docs[doc]\n",
    "\n",
    "        docs = not_docs\n",
    "\n",
    "    # Cut phrases * not working\n",
    "\n",
    "    if len(phrase) > 0:\n",
    "        phrase_docs = {}\n",
    "        for doc in docs:\n",
    "            if doc in dictionary[phrase[0]][1]:\n",
    "                indexes = dictionary[phrase[0]][1][doc][1]\n",
    "                for i in indexes:\n",
    "                    flag = True\n",
    "                    for j in range(1, len(phrase)):\n",
    "                        if doc not in dictionary[phrase[j]][1]:\n",
    "                            flag = False\n",
    "                        else:\n",
    "                            if i + j not in dictionary[phrase[j]][1][doc][1]:\n",
    "                                flag = False\n",
    "                    if flag:\n",
    "                        phrase_docs[doc] = docs[doc]\n",
    "                        break\n",
    "\n",
    "        docs = phrase_docs\n",
    "\n",
    "    # Showing result\n",
    "\n",
    "    res = []\n",
    "    for i in range(len(input), 0, -1):\n",
    "        for j in docs:\n",
    "            if docs[j][0] == i:\n",
    "                res.append((docs[j][1], j))\n",
    "        if len(res) > 5:\n",
    "            break\n",
    "\n",
    "    rank = 1\n",
    "\n",
    "    res.sort(reverse=True)\n",
    "    print('There are '+str(len(res))+' results for your search\\n')\n",
    "    if len(res) > 5:\n",
    "        res = res[:5]\n",
    "    if null_input:\n",
    "        input = []\n",
    "    for i in res:\n",
    "        print(rank, 'There are '+str(i[0]) +\n",
    "              ' matches for your search in this document')\n",
    "        rank += 1\n",
    "        show_data(i[1], input,phrase)"
   ]
  },
  {
   "attachments": {},
   "cell_type": "markdown",
   "metadata": {},
   "source": [
    "# Examples"
   ]
  },
  {
   "cell_type": "code",
   "execution_count": 135,
   "metadata": {},
   "outputs": [
    {
     "name": "stdout",
     "output_type": "stream",
     "text": [
      "There are 276 results for your search\n",
      "\n",
      "1 There are 169 matches for your search in this document\n",
      "\u001b[1mمرکز پژوهش‌های مجلس: مذاکرات وین به توافقی زودهنگام منجر نمی‌شود\u001b[0m\n",
      "به گزارش خبرگزاری فارس، مرکز پژوهش‌های مجلس شورای اسلامی در گزارشی با عنوان «مذاکرات وین: تقابل اراده‌ها و جنگ روایت‌ها» به موضوع مذاکرات اخیر ایران با 1+4 پرداخت .\n",
      " با این‌حال، نتایج 6 دور اول گفتگوهای وین به‌دلیل عدم اراده آمریکا برای لغو مؤثر همه تحریم‌ها و ارائه تضمین به‌لحاظ اقتصادی، منافع ملی جمهوری اسلامی ایران را تأمین نمی‌کرد .\n",
      " اگرچه تاکنون در وین توافقی حاصل نشده، ولی الگوی رفتاری جمهوری اسلامی ایران منجر به شکل‌گیری این درک شده است که اعمال فشار علیه ایران بدون هزینه و پاسخ نخواهد بود .\n",
      "\n",
      "2 There are 150 matches for your search in this document\n",
      "\u001b[1mتوضیحات یک منبع آگاه درباره وقفه مذاکرات وین\u001b[0m\n",
      "به گزارش خبرنگار سیاسی خبرگزاری فارس، به نظر می‌رسد مذاکرات وین به روزهای آخر خود نزدیک شده است و براساس اعلام برخی منابع تا رسیدن به توافق راه زیادی باقی نمانده و تنها نیاز است آمریکا به آنچه در برجام برای برداشتن تحریم‌ها وعده داده  عمل کند و تضمین معتبری هم برای انجام این تعهدات داده شود .\n",
      " براساس اعلام مسئولان سیاست خارجه در کنار دریافت تضمین‌ معتبر، برداشتن همه تحریم‌ها از نکات و مطالبات اصلی ایران در مذاکرات است .\n",
      " * تحریم‌های آمریکا علیه ایران آمریکا پس از تسخیر لانه‌ جاسوسی آمریکا در تهران، «کارتر» در تاریخ 8 نوامبر 1979م .\n",
      "\n",
      "3 There are 107 matches for your search in this document\n",
      "\u001b[1mاهرم‌سازی از افغانستان در برجام/ نقطه عزیمت آمریکا در مذاکرات جامع با ایران چیست؟\u001b[0m\n",
      "خبرگزاری فارس؛ محسن صمیمی، مرتضی علیزاده: یکی ـ دو ماه پایانی دولت روحانی، اروپا و آمریکا تقریبا از ادامه مذاکرات وین دست کشیدند و منتظر ماندند تا دولت سیّد ابراهیم رئیسی کار خود را آغاز کند .\n",
      " آنها می دانستند که رویکرد سیاست خارجی دولت جدید تفاوت فاحشی با رویکرد دولت قبل دارد و نمی توان با دست فرمان سابق با ایران تعامل و یا به عبارتی منازعه دیپلماتیک کرد .\n",
      "  دولت جدید که روی کار آمد رسما گفت که پیش شرط ورود ایران به مذاکرات، انجام تعهدات برجامی آمریکاست و به عبارتی باید تحریم ها لغو شوند .\n",
      " این هم‌راستایی به یک تهدید معتبر علیه غرب تبدیل شده و آمریکایی ها اگر نتوانند ایران و چین را در افغانستان متوقف کنند دیگر نمی توانند در محیط داخلی خودشان هم منسجم شوند .\n",
      "\n",
      "4 There are 95 matches for your search in this document\n",
      "\u001b[1mگفت‌وگوی مشروح | ترقی: آمریکا شروط ایران را نپذیرد، پشت در مذاکرات می‌ماند/ روحانی کشور را به بن‌بست کشاند\u001b[0m\n",
      "گروه سیاسی خبرگزاری فارس؛ قاسم عزیزی: مذاکرات ایران با 1+4 در وین در حالی صورت می‌گیرد که آمریکا از برجام خارج شد و کشورهای اروپایی هم تاکنون به تعهدات خود عمل نکردند .\n",
      " این کارشناس امور بین‌الملل تاکید کرد که تیم مذاکره کننده غربی نمی‌تواند ترور سردار سلیمانی، شهید فخری‌زاده (با جایگاهی که شهید فخری‌زاده در انرژی هسته‌ای و مخالفت با برجام داشت) و 4 حمله دشمنان به تأسیسات هسته ای ایران و  سایت ها و سانترفیوژها، تشدید تحریم‌ها و ادامه تحریم‌ها توسط آمریکا و غرب را نادیده بگیرد .\n",
      "\n",
      "5 There are 87 matches for your search in this document\n",
      "\u001b[1mراهبرد «مذاکره هسته‌ای نداریم» چگونه تأمین کننده منافع کشور خواهد بود؟/ غرب در دوراهی سخت\u001b[0m\n",
      "گروه سیاسی خبرگزاری فارس؛ احد شیرزاد: آنچه حدود ۲۰ سال است اصلی‌ترین کلیدواژه سیاست خارجه کشور یعنی «مذاکرات هسته‌ای» را شامل شده، از ابتدا یک خط و محور اصلی را تشکیل داده است و آن این است که «فعالیت هسته‌ای ایران صلح‌آمیز است یا خیر ؟\n",
      " این یک پیروزی برای ایران محسوب می‌شد، با این حال پایانی بر بهانه‌جویی‌های طرف‌ غربی علی‌الخصوص آمریکا نبود .\n",
      " طرف ایرانی که توافق برجام را رفع‌کننده تمام تحریم‌های وضع شده علیه ایران می‌دانست، به سرعت اجرای تعهداتی که در برجام به‌ آنها ملزم شده بود را در دستور قرار داد .\n",
      "\n"
     ]
    }
   ],
   "source": [
    "query('تحریم‌های آمریکا علیه ایران')"
   ]
  },
  {
   "cell_type": "code",
   "execution_count": 136,
   "metadata": {},
   "outputs": [
    {
     "name": "stdout",
     "output_type": "stream",
     "text": [
      "There are 24 results for your search\n",
      "\n",
      "1 There are 14 matches for your search in this document\n",
      "\u001b[1mیک مأموریت‌ فتنه 88 کاهش قدرت چانه‌زنی مسؤولان در مذاکرات بود\u001b[0m\n",
      "حجت‌الاسلام مجتبی ذوالنور نماینده مردم قم در مجلس، در گفت‌وگو با خبرنگار پارلمانی خبرگزاری فارس، با اشاره به مسأله تحریم‌های ضدایرانی در حوزه‌های مختلف و ریشه‌های اصلی وقوع پدیده تحریم اظهار داشت: فلسفه وضع تحریم‌ها، افزایش فشار بر مردم و نظام بوده است تا تاب‌آوری مردم از بین برود و مقاومت آنها بشکند و در نهایت تسلیم شوند .\n",
      " * یکی از مأموریت‌های فتنه 88، کاهش قدرت چانه‌زنی در پای میز مذاکره بود/ ماجرای رفت و آمد آقازاده‌ها به غرب نماینده مردم قم در مجلس شورای اسلامی، با اشاره به تاثیر فتنه 88 بر گسترش فشارهای تحریمی تصریح کرد: یکی از مأموریت‌های فتنه 88، کاهش قدرت چانه‌زنی مسؤولان در پای میز مذاکره بود و حتی اطلاعاتی در دست داریم که برخی آقازاده‌ها در آن سال به آمریکا رفت و آمد می‌کردند و به غربی‌ها و آمریکایی‌ها پیغام می‌دادند که ما نفس نظام را در داخل گرفته‌ایم و اگر شما هم فشارهای تحریمی را افزایش دهید، کار نظام تمام است .\n",
      "\n",
      "2 There are 13 matches for your search in this document\n",
      "\u001b[1mسود مافیای اسلحه‌سازی آمریکا در ناامن بودن جهان است\u001b[0m\n",
      " درقضایای جاری اوکراین هم شاهد نقش آفرینی مافیای پشت پرده انگلیسی، فرانسوی و آمریکایی هستیم که با وعده هایی باعث تحریک اوکراین شدند و در نتیجه آن اوکراین و روسیه را به سمت درگیری نظامی سوق دادند، در شرایطی که دوکشورِ درگیرجنگ متحمل هزینه می شوند گروه های مافیایی درپی کسب منافع هستند .\n",
      "   نماینده ادوار مجلس ضمن تاکید به هماهنگ بودن کشورهای غربی گفت: کشورهای غربی به صورت گروهی عمل می کنند و در بزنگاه ها کاملا هماهنگ هستند همچنان که شاهد هستیم در جریان نبرد میان روسیه و اوکراین در اوج اتحاد تحریم هایی را به روسیه تحمیل کردند .\n",
      "\n",
      "3 There are 10 matches for your search in this document\n",
      "\u001b[1mخطیب جمعه تهران: سازمان‌ همکاری اسلامی در برابر کشتار مردم یمن سکوت کرده است\u001b[0m\n",
      " * لزوم شکران نعمت انقلاب/ تمام تحریم‌ها باید لغو شود امام جمعه موقت تهران، همچنین با اشاره به چهل و سومین سالگرد پیروزی انقلاب اسلامی اظهار داشت: دهه فجر از مصادیق ایام‌الله است؛ یعنی روزهایی که خداوند نعمت ویژه‌ای به مردم داده است و جز با عنایت خداوند، این انقلاب پیروز نمی‌شد .\n",
      " خاتمی افزود: تمام دنیا اعم از آمریکا و شوروی و اروپایی‌ها پشت سر شاه بودند،‌ اما مرگ بر شاه گفتن‌های شما مردم باعث شد که شاه برود .\n",
      "\n",
      "4 There are 9 matches for your search in this document\n",
      "\u001b[1mمسائل اقتصادی کشور را معطل نتیجه مذاکرات نمی‌‌کنیم\u001b[0m\n",
      "جبار کوچکی‌نژاد نماینده مردم رشت در مجلس شورای اسلامی در گفت‌وگو با خبرنگار پارلمانی خبرگزاری فارس، گفت: تجربه مذاکرات در سال‌های قبل با اروپا و آمریکا و به طور کل تجربه سال‌ها و دهه‌های قبل به ما نشان داده که غربی‌ها و به ویژه آمریکا قابل اعتماد نیستند .\n",
      " عضو کمیسیون برنامه، بودجه و محاسبات مجلس اظهار داشت: ما باید با تکیه بر توان داخلی و ایجاد ثبات و رشد اقتصادی در کشور از این طریق در مسیر خنثی‌سازی تحریم‌ها گام برداریم و با قوی‌ شدن خودمان زمینه را‌‌‌‌‌‌‌‌ برای بی‌اثر کردن تحریم‌ها فراهم کنیم .\n",
      "\n",
      "5 There are 7 matches for your search in this document\n",
      "\u001b[1mامام جمعه موقت تهران: مذاکره کنونی با گذشته که نقد دادند و نسیه گرفتند، تفاوت دارد\u001b[0m\n",
      " آمریکا، اسرائیل و منافقین در خباثت و رذالتشان ما را حساس کردند و به همین خاطر، کشور ما برای مقابله با آنها به صنایع نظامی در حد محیرالعقولی دست یافت که امروز مقتدرترین کشور در منطقه است و در جهان نیز موقعیتی دارد که هیچ کشوری جرأت حمله به خودش نمی‌دهد .\n",
      " حجت الاسلام صدیقی تصریح کرد: امروز تیم مذاکره‌کننده ما محکم و با مطالعه هستند و بسته‌هایی برای رفع همه تحریم‌های ظالمانه دارند .\n",
      "\n"
     ]
    }
   ],
   "source": [
    "query('تحریم‌های آمریکا !ایران')"
   ]
  },
  {
   "cell_type": "code",
   "execution_count": 137,
   "metadata": {},
   "outputs": [
    {
     "name": "stdout",
     "output_type": "stream",
     "text": [
      "There are 1 results for your search\n",
      "\n",
      "1 There are 5 matches for your search in this document\n",
      "\u001b[1mتوضیحات یک منبع آگاه درباره وقفه مذاکرات وین\u001b[0m\n",
      "   ریگان که نمی‌خواست کمتر از کنگره ضدتروریست جلوه کند، 3هفته بعد با صدور دستور ویژه‌ی (12613) ورود هرگونه کالا و خدمات از ایران را ممنوع کرد .\n",
      "\n"
     ]
    }
   ],
   "source": [
    "query('\"کنگره ضدتروریست\"')"
   ]
  },
  {
   "cell_type": "code",
   "execution_count": 138,
   "metadata": {},
   "outputs": [
    {
     "name": "stdout",
     "output_type": "stream",
     "text": [
      "There are 0 results for your search\n",
      "\n"
     ]
    }
   ],
   "source": [
    "query('\"تحریم هسته‌ای\" آمریکا !ایران')"
   ]
  },
  {
   "cell_type": "code",
   "execution_count": 144,
   "metadata": {},
   "outputs": [
    {
     "name": "stdout",
     "output_type": "stream",
     "text": [
      "There are 4 results for your search\n",
      "\n",
      "1 There are 31 matches for your search in this document\n",
      "\u001b[1mتوضیحات یک منبع آگاه درباره وقفه مذاکرات وین\u001b[0m\n",
      "به گزارش خبرنگار سیاسی خبرگزاری فارس، به نظر می‌رسد مذاکرات وین به روزهای آخر خود نزدیک شده است و براساس اعلام برخی منابع تا رسیدن به توافق راه زیادی باقی نمانده و تنها نیاز است آمریکا به آنچه در برجام برای برداشتن تحریم‌ها وعده داده  عمل کند و تضمین معتبری هم برای انجام این تعهدات داده شود .\n",
      "  * تحریم‌های هسته‌ای پس از 11 سپتامبر و موج جدیدی از تحریم‌ها برضد ایران، ترسیم چهره‌ی «ایران هسته‌ای» در صدر تبلیغات منفی از جمهوری اسلامی قرار گرفت .\n",
      "\n",
      "2 There are 8 matches for your search in this document\n",
      "\u001b[1mبیانیه اتحادیه دانشجویان مستقل| ۴ مطالبه از مذاکره کنندگان هسته‌ای\u001b[0m\n",
      "به گزارش گروه سیاسی خبرگزاری فارس، اتحادیه انجمن‌های اسلامی دانشجویان مستقل دانشگاه‌های سراسر کشور با انتشار بیانیه‌ای ضمن تاکید بر زیاده‌خواهی‌های همیشگی آمریکایی‌ها، از مسئولان وزارت امور خارجه جمهوری اسلامی ایران خواست که در فرآیند پیشبرد مذاکرات، برای لغو همۀ تحریم‌ها تضمین‌های جدی که هم متناسب با ساختار حقوقی آمریکا و هم دارای پشتوانۀ سیاسی باشند، بگیرند .\n",
      " از این رو اتحادیه انجمن‌های اسلامی دانشجویان مستقل دانشگاه‌های سراسر کشور از وزارت امور خارجه جمهوری اسلامی ایران درخواست می‌کند که در فرآیند پیشبرد مذاکرات اصول زیر را ملاک عمل قرار دهید: اولاً؛ از آنجا که هدف اصلی مذاکرات لغو همۀ تحریم‌های هسته‌ای است، اهمیت اخذ تضمین‌های جدی، ضروری به نظر می‌رسد .\n",
      "\n",
      "3 There are 5 matches for your search in this document\n",
      "\u001b[1mآمریکا با «راستی‌آزمایی» لغو تحریم‌ها مشکل دارد/ اطلاع روحانی از ماجرای افزایش قیمت بنزین\u001b[0m\n",
      " مثلا طبق قطعنامه 2231 ما باید سال گذشته تقریبا آذرماه تحریم های تسلیحاتی متعارف ما در خرید و فروش باید برداشته می شد آمریکایی ها این را نمی پذیرند .\n",
      " یک کلاهبرداری سیاسی کرد می‌دانست دولت بعدی اگر دموکرات باشد، می‌خواهد برگردد به برجام یک تعداد از تحریم های هسته ای ما را لیبلش را برداشت کرد، تحریم های حقوق بشری بانک مرکزی را از هسته ای درآورد برد در تروریست ما در برجام تحریم های برجامی را قرار شده طرف مقابل بردارد آمریکای جدید دولت جدید می گوید این بانک مرکزی الان دیگر در هسته ای نیست، در تروریسم است، پس اگر می خواهید بانک مرکزی را بردارید، شما باید در تروریسم هم وارد مذاکره شوید، ما هر چه قدر به اینها می گوییم دوستان قبل هم همین را گفتند که آقا شما که می دانید این خود ترامپ این کار را کرد و اصلا این ربطی به تروریسم و حقوق بشر ندارد، ولی آنها تصویب کردند و از این نمی‌گذرند لذا اینها مواردی است که بعضی وقت ها می گفتند که ما 90، 95 درصد کار را تمام کردیم، حجمی نگاه کنیم وزنی نگاه کنیم این 5 درصد کدام ها بوده است که مانده است ؟\n",
      "\n",
      "4 There are 4 matches for your search in this document\n",
      "\u001b[1mاحیای برجام به‌تنهایی هیچ گرهی از مشکلات کشور را برطرف نمی‌کند\u001b[0m\n",
      "احمدعلی مقدم عضو شورای مرکزی حزب موتلفه اسلامی در گفتگو با خبرنگار حوزه احزاب خبرگزاری فارس، در رابطه با دور هشتم مذاکرات وین، اظهار کرد: هیات‌های دیپلماتیک دولت سیزدهم، پس از یک دور مذاکره با وقفه‌ای کوتاه مدت به دلیل فرا رسیدن ژانویه و همچنین ارائه دو سند پیشنهادی از سوی ایران، با مواضع مقتدرانه، دور هشتم را آغاز کردند چراکه مذاکرات هسته ای عزت مندانه و نتیجه محور، راه گشای تحریم ها است .\n",
      " وی با تاکید بر اینکه طبق منویات حکیمانه رهبر انقلاب، حرف قطعی جمهوری اسلامی ایران، رفع کامل و نه تعلیق تحریم ها است، گفت: اولویت اصلی و مهم تیم مذاکراتی جمهوری اسلامی ایران، سند مربوط به لغو کامل تحریم‌ها است که هم برای ایران و هم چین بسیار مهم است؛ لذا دو سند جدید لغو تحریم ها و هسته ای، بر اساس مواضع ایران مبنای مذاکرات قرار گرفته است و از آنجایی که آمریکا که خودش از مذاکرات خروج کرده حق بازگشت ندارد، اجازه نمی دهیم مذاکرات به مباحث دیگری غیر از موضوع هسته ای کشیده شود .\n",
      "\n"
     ]
    }
   ],
   "source": [
    "query('\"تحریم هسته‌ای\" آمریکا')"
   ]
  },
  {
   "cell_type": "code",
   "execution_count": 146,
   "metadata": {},
   "outputs": [
    {
     "name": "stdout",
     "output_type": "stream",
     "text": [
      "There are 2 results for your search\n",
      "\n",
      "1 There are 8 matches for your search in this document\n",
      "\u001b[1mبیانیه اتحادیه دانشجویان مستقل| ۴ مطالبه از مذاکره کنندگان هسته‌ای\u001b[0m\n",
      "به گزارش گروه سیاسی خبرگزاری فارس، اتحادیه انجمن‌های اسلامی دانشجویان مستقل دانشگاه‌های سراسر کشور با انتشار بیانیه‌ای ضمن تاکید بر زیاده‌خواهی‌های همیشگی آمریکایی‌ها، از مسئولان وزارت امور خارجه جمهوری اسلامی ایران خواست که در فرآیند پیشبرد مذاکرات، برای لغو همۀ تحریم‌ها تضمین‌های جدی که هم متناسب با ساختار حقوقی آمریکا و هم دارای پشتوانۀ سیاسی باشند، بگیرند .\n",
      " از این رو اتحادیه انجمن‌های اسلامی دانشجویان مستقل دانشگاه‌های سراسر کشور از وزارت امور خارجه جمهوری اسلامی ایران درخواست می‌کند که در فرآیند پیشبرد مذاکرات اصول زیر را ملاک عمل قرار دهید: اولاً؛ از آنجا که هدف اصلی مذاکرات لغو همۀ تحریم‌های هسته‌ای است، اهمیت اخذ تضمین‌های جدی، ضروری به نظر می‌رسد .\n",
      "\n",
      "2 There are 4 matches for your search in this document\n",
      "\u001b[1mاحیای برجام به‌تنهایی هیچ گرهی از مشکلات کشور را برطرف نمی‌کند\u001b[0m\n",
      "احمدعلی مقدم عضو شورای مرکزی حزب موتلفه اسلامی در گفتگو با خبرنگار حوزه احزاب خبرگزاری فارس، در رابطه با دور هشتم مذاکرات وین، اظهار کرد: هیات‌های دیپلماتیک دولت سیزدهم، پس از یک دور مذاکره با وقفه‌ای کوتاه مدت به دلیل فرا رسیدن ژانویه و همچنین ارائه دو سند پیشنهادی از سوی ایران، با مواضع مقتدرانه، دور هشتم را آغاز کردند چراکه مذاکرات هسته ای عزت مندانه و نتیجه محور، راه گشای تحریم ها است .\n",
      " وی با تاکید بر اینکه طبق منویات حکیمانه رهبر انقلاب، حرف قطعی جمهوری اسلامی ایران، رفع کامل و نه تعلیق تحریم ها است، گفت: اولویت اصلی و مهم تیم مذاکراتی جمهوری اسلامی ایران، سند مربوط به لغو کامل تحریم‌ها است که هم برای ایران و هم چین بسیار مهم است؛ لذا دو سند جدید لغو تحریم ها و هسته ای، بر اساس مواضع ایران مبنای مذاکرات قرار گرفته است و از آنجایی که آمریکا که خودش از مذاکرات خروج کرده حق بازگشت ندارد، اجازه نمی دهیم مذاکرات به مباحث دیگری غیر از موضوع هسته ای کشیده شود .\n",
      "\n"
     ]
    }
   ],
   "source": [
    "query('\"تحریم هسته‌ای\" آمریکا !بنزین')"
   ]
  },
  {
   "cell_type": "code",
   "execution_count": 148,
   "metadata": {},
   "outputs": [
    {
     "name": "stdout",
     "output_type": "stream",
     "text": [
      "There are 0 results for your search\n",
      "\n"
     ]
    }
   ],
   "source": [
    "query('اورشلیم !صهیونیست')"
   ]
  },
  {
   "cell_type": "code",
   "execution_count": 157,
   "metadata": {},
   "outputs": [
    {
     "name": "stdout",
     "output_type": "stream",
     "text": [
      "There are 1 results for your search\n",
      "\n",
      "1 There are 3 matches for your search in this document\n",
      "\u001b[1mجام ملت های فوتبال آفریفا| شیرهای رام نشدنی با برد استارت زدند\u001b[0m\n",
      "به گزارش خبرگزاری فارس، رقابت های فوتبال جام ملت های آفریقا در کشور کامرون امروز از ساعت 19:30 به وقت ایران آغاز شد و شیرهای رام نشدنی قاره سیاه در مصاف با بورکینافاسو با نتیجه 2 بر یک به پیروزی رسیدند .\n",
      "\n"
     ]
    }
   ],
   "source": [
    "query('کامرون !تیم')"
   ]
  },
  {
   "attachments": {},
   "cell_type": "markdown",
   "metadata": {},
   "source": [
    "# Heap's law"
   ]
  },
  {
   "attachments": {},
   "cell_type": "markdown",
   "metadata": {},
   "source": [
    "## Without stemming"
   ]
  },
  {
   "cell_type": "code",
   "execution_count": 15,
   "metadata": {},
   "outputs": [
    {
     "name": "stdout",
     "output_type": "stream",
     "text": [
      "500 : 110452 14961\n",
      "1000 : 210910 20774\n",
      "1500 : 312548 25612\n",
      "2000 : 418725 30120\n",
      "All:  2643556 78132\n"
     ]
    }
   ],
   "source": [
    "import math\n",
    "import random\n",
    "\n",
    "new_words = {}\n",
    "tokens = 0\n",
    "num_tokens = []\n",
    "num_vocab = []\n",
    "\n",
    "real_tokens = []\n",
    "real_vocab = []\n",
    "\n",
    "length = 0\n",
    "\n",
    "cpy_data = []\n",
    "\n",
    "for i in data:\n",
    "    cpy_data.append(data[i]['content'])\n",
    "\n",
    "random.shuffle(cpy_data)\n",
    "\n",
    "for i in cpy_data:\n",
    "\n",
    "    if length % 500 == 0 and length!=0 and length < 2001: \n",
    "        print(length,':',tokens,len(new_words))\n",
    "        num_tokens.append(math.log(tokens,10))\n",
    "        num_vocab.append(math.log(len(new_words),10))\n",
    "    \n",
    "    length +=1\n",
    "\n",
    "    words = my_tokenizer.tokenize_words(\n",
    "        my_normalizer.normalize(i))\n",
    "    \n",
    "    for w in words:\n",
    "        if w not in stop_words and w not in punctuations:\n",
    "            tokens += 1\n",
    "            new_words[w] = 1 \n",
    "    \n",
    "    real_tokens.append(math.log(tokens,10))\n",
    "    real_vocab.append(math.log(len(new_words),10))\n",
    "\n",
    "print('All: ',tokens,len(new_words))"
   ]
  },
  {
   "cell_type": "code",
   "execution_count": 16,
   "metadata": {},
   "outputs": [
    {
     "name": "stdout",
     "output_type": "stream",
     "text": [
      "Real:  78132\n",
      "Predicted:  78634\n",
      " \n",
      "0.5239 x + 1.531\n"
     ]
    },
    {
     "data": {
      "image/png": "[encoded data removed]",
      "text/plain": [
       "<Figure size 432x288 with 1 Axes>"
      ]
     },
     "metadata": {
      "needs_background": "light"
     },
     "output_type": "display_data"
    }
   ],
   "source": [
    "import numpy as np\n",
    "import matplotlib.pyplot as plt\n",
    "\n",
    "print('Real: ',len(new_words))\n",
    "\n",
    "z = np.polyfit(num_tokens, num_vocab, 1)\n",
    "f = np.poly1d(z)\n",
    "# calculate new x's and y's\n",
    "x_new = np.linspace(1, math.log(tokens,10), 100)\n",
    "y_new = f(x_new)\n",
    "\n",
    "print('Predicted: ',int(math.pow(10,f(math.log(tokens,10)))))\n",
    "print(f)\n",
    "\n",
    "plt.plot(num_tokens,num_vocab,'o', x_new, y_new, linestyle='dashed')\n",
    "plt.plot(real_tokens,real_vocab)\n",
    "plt.legend(['actual', 'heap'])\n",
    "plt.xlim([0, math.log(tokens,10) + 1 ])\n",
    "plt.show()"
   ]
  },
  {
   "attachments": {},
   "cell_type": "markdown",
   "metadata": {},
   "source": [
    "## With stemming"
   ]
  },
  {
   "cell_type": "code",
   "execution_count": 17,
   "metadata": {},
   "outputs": [
    {
     "name": "stdout",
     "output_type": "stream",
     "text": [
      "500 : 110452 11420\n",
      "1000 : 210910 15616\n",
      "1500 : 312548 19028\n",
      "2000 : 418725 22205\n",
      "All:  2643556 57470\n"
     ]
    }
   ],
   "source": [
    "import math\n",
    "new_words = {}\n",
    "tokens = 0\n",
    "num_tokens = []\n",
    "num_vocab = []\n",
    "\n",
    "real_tokens = []\n",
    "real_vocab = []\n",
    "\n",
    "length = 0\n",
    "for i in cpy_data:\n",
    "\n",
    "    if length % 500 == 0 and length!=0 and length < 2001: \n",
    "        print(length,':',tokens,len(new_words))\n",
    "        num_tokens.append(math.log(tokens,10))\n",
    "        num_vocab.append(math.log(len(new_words),10))\n",
    "    \n",
    "    length +=1\n",
    "\n",
    "    words = my_tokenizer.tokenize_words(\n",
    "        my_normalizer.normalize(i))\n",
    "    \n",
    "    for w in words:\n",
    "        if w not in stop_words and w not in punctuations:\n",
    "            tokens += 1\n",
    "            new_words[myStem.convert_to_stem(w)] = 1 \n",
    "    \n",
    "    real_tokens.append(math.log(tokens,10))\n",
    "    real_vocab.append(math.log(len(new_words),10))\n",
    "\n",
    "print('All: ',tokens,len(new_words))"
   ]
  },
  {
   "cell_type": "code",
   "execution_count": 18,
   "metadata": {},
   "outputs": [
    {
     "name": "stdout",
     "output_type": "stream",
     "text": [
      "Real:  57470\n",
      "Predicted:  55251\n",
      " \n",
      "0.4976 x + 1.547\n"
     ]
    },
    {
     "data": {
      "image/png": "[encoded data removed]",
      "text/plain": [
       "<Figure size 432x288 with 1 Axes>"
      ]
     },
     "metadata": {
      "needs_background": "light"
     },
     "output_type": "display_data"
    }
   ],
   "source": [
    "import numpy as np\n",
    "import matplotlib.pyplot as plt\n",
    "\n",
    "print('Real: ',len(new_words))\n",
    "\n",
    "z = np.polyfit(num_tokens, num_vocab, 1)\n",
    "f = np.poly1d(z)\n",
    "\n",
    "# calculate new x's and y's\n",
    "x_new = np.linspace(1, math.log(tokens,10), 100)\n",
    "y_new = f(x_new)\n",
    "\n",
    "print('Predicted: ',int(math.pow(10,f(math.log(tokens,10)))))\n",
    "print(f)\n",
    "\n",
    "plt.plot(num_tokens,num_vocab,'o', x_new, y_new, linestyle='dashed')\n",
    "plt.plot(real_tokens,real_vocab)\n",
    "plt.xlim([0, math.log(tokens,10) + 1 ])\n",
    "plt.legend(['actual', 'heap'])\n",
    "plt.show()"
   ]
  },
  {
   "attachments": {},
   "cell_type": "markdown",
   "metadata": {},
   "source": [
    "# Zipf's law\n"
   ]
  },
  {
   "attachments": {},
   "cell_type": "markdown",
   "metadata": {},
   "source": [
    "## Zipf law with deleteing stop words\n"
   ]
  },
  {
   "cell_type": "code",
   "execution_count": null,
   "metadata": {
    "tags": []
   },
   "outputs": [
    {
     "data": {
      "image/png": "[encoded data removed]",
      "text/plain": [
       "<Figure size 432x288 with 1 Axes>"
      ]
     },
     "metadata": {
      "needs_background": "light"
     },
     "output_type": "display_data"
    }
   ],
   "source": [
    "import matplotlib.pyplot as plt\n",
    "import math\n",
    "\n",
    "maxi = []\n",
    "for i in dictionary:\n",
    "    maxi.append(dictionary[i][0])\n",
    "\n",
    "maxi.sort(reverse=True)\n",
    "\n",
    "cf = max(maxi)\n",
    "\n",
    "arrx = []\n",
    "arry = []\n",
    "\n",
    "maxi_log = []\n",
    "\n",
    "for i in range(len(maxi)):\n",
    "    maxi_log.append(math.log(maxi[i], 10))\n",
    "    arrx.append(math.log(i+1, 10))\n",
    "    arry.append(math.log(cf/(i+1), 10))\n",
    "\n",
    "plt.plot(arrx, maxi_log)\n",
    "plt.plot(arrx, arry)\n",
    "plt.legend(['actual', 'zipf'])\n",
    "plt.show()\n"
   ]
  },
  {
   "attachments": {},
   "cell_type": "markdown",
   "metadata": {},
   "source": [
    "## Zipf law without deleting stop words\n"
   ]
  },
  {
   "cell_type": "code",
   "execution_count": null,
   "metadata": {
    "tags": [
     "parameters"
    ]
   },
   "outputs": [
    {
     "data": {
      "image/png": "[encoded data removed]",
      "text/plain": [
       "<Figure size 432x288 with 1 Axes>"
      ]
     },
     "metadata": {
      "needs_background": "light"
     },
     "output_type": "display_data"
    }
   ],
   "source": [
    "import matplotlib.pyplot as plt\n",
    "import math\n",
    "\n",
    "maxi = []\n",
    "for i in dictionary:\n",
    "    if i not in ['.', '،', '/', ':', '(', ')', '!']:\n",
    "        maxi.append(dictionary[i][0])\n",
    "\n",
    "maxi.sort(reverse=True)\n",
    "\n",
    "cf = max(maxi)\n",
    "\n",
    "arrx = []\n",
    "arry = []\n",
    "\n",
    "maxi_log = []\n",
    "\n",
    "for i in range(len(maxi)):\n",
    "    maxi_log.append(math.log(maxi[i], 10))\n",
    "    arrx.append(math.log(i+1, 10))\n",
    "    arry.append(math.log(cf/(i+1), 10))\n",
    "\n",
    "plt.plot(arrx, maxi_log)\n",
    "plt.plot(arrx, arry)\n",
    "plt.legend(['actual', 'zipf'])\n",
    "plt.show()\n"
   ]
  }
 ],
 "metadata": {
  "kernelspec": {
   "display_name": "Python 3.7.2 64-bit",
   "language": "python",
   "name": "python3"
  },
  "language_info": {
   "codemirror_mode": {
    "name": "ipython",
    "version": 3
   },
   "file_extension": ".py",
   "mimetype": "text/x-python",
   "name": "python",
   "nbconvert_exporter": "python",
   "pygments_lexer": "ipython3",
   "version": "3.7.2"
  },
  "orig_nbformat": 4,
  "vscode": {
   "interpreter": {
    "hash": "3f5aca982b3795189cf78be42799eaa89b24ad2a4bf87aac4f9f0d78ad9ce65d"
   }
  }
 },
 "nbformat": 4,
 "nbformat_minor": 2
}
