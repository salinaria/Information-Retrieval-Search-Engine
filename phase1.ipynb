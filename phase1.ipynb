{
 "cells": [
  {
   "attachments": {},
   "cell_type": "markdown",
   "metadata": {},
   "source": [
    "# Import json file and read it\n"
   ]
  },
  {
   "cell_type": "code",
   "execution_count": 13,
   "metadata": {},
   "outputs": [
    {
     "name": "stdout",
     "output_type": "stream",
     "text": [
      "{'title': 'اعلام زمان قرعه کشی جام باشگاه های فوتسال آسیا', 'content': '\\nبه گزارش خبرگزاری فارس، کنفدراسیون فوتبال آسیا (AFC) در نامه ای رسمی به فدراسیون فوتبال ایران و باشگاه گیتی پسند زمان\\xa0 قرعه کشی جام باشگاه های فوتسال آسیا را رسماً اعلام کرد. بر این اساس 25 فروردین ماه 1401 مراسم قرعه کشی جام باشگاه های فوتسال آسیا در مالزی برگزار می شود. باشگاه گیتی پسند بعنوان قهرمان فوتسال ایران در سال 1400 به این مسابقات راه پیدا کرده است. پیش از این گیتی پسند تجربه 3 دوره حضور در جام باشگاه های فوتسال آسیا را داشته که هر سه دوره به فینال مسابقات راه پیدا کرده و یک عنوان قهرمانی و دو مقام دومی بدست آورده است. انتهای پیام/\\n\\n\\n', 'tags': ['اعلام زمان', 'قرعه\\u200cکشی', 'قرعه\\u200cکشی جام', 'قرعه\\u200cکشی جام باشگاه\\u200cهای فوتسال', 'ای اف سی', 'گیتی پسند'], 'date': '3/15/2022 5:59:27 PM', 'url': 'https://www.farsnews.ir/news/14001224001005/اعلام-زمان-قرعه-کشی-جام-باشگاه-های-فوتسال-آسیا', 'category': 'sports'}\n",
      "12202\n"
     ]
    }
   ],
   "source": [
    "import json\n",
    "\n",
    "f = open('IR_data_news_12k.json')\n",
    "data = json.load(f)\n",
    "print(data['0'])\n",
    "print(len(data))\n"
   ]
  },
  {
   "cell_type": "code",
   "execution_count": 14,
   "metadata": {},
   "outputs": [
    {
     "data": {
      "text/plain": [
       "'\\nبه گزارش خبرگزاری فارس، کنفدراسیون فوتبال آسیا (AFC) در نامه ای رسمی به فدراسیون فوتبال ایران و باشگاه گیتی پسند زمان\\xa0 قرعه کشی جام باشگاه های فوتسال آسیا را رسماً اعلام کرد. بر این اساس 25 فروردین ماه 1401 مراسم قرعه کشی جام باشگاه های فوتسال آسیا در مالزی برگزار می شود. باشگاه گیتی پسند بعنوان قهرمان فوتسال ایران در سال 1400 به این مسابقات راه پیدا کرده است. پیش از این گیتی پسند تجربه 3 دوره حضور در جام باشگاه های فوتسال آسیا را داشته که هر سه دوره به فینال مسابقات راه پیدا کرده و یک عنوان قهرمانی و دو مقام دومی بدست آورده است. انتهای پیام/\\n\\n\\n'"
      ]
     },
     "execution_count": 14,
     "metadata": {},
     "output_type": "execute_result"
    }
   ],
   "source": [
    "data['0']['content']\n"
   ]
  },
  {
   "attachments": {},
   "cell_type": "markdown",
   "metadata": {},
   "source": [
    "# Pre-proccesing\n"
   ]
  },
  {
   "attachments": {},
   "cell_type": "markdown",
   "metadata": {},
   "source": [
    "## Tokenizing data and normalization\n"
   ]
  },
  {
   "cell_type": "code",
   "execution_count": 15,
   "metadata": {},
   "outputs": [
    {
     "name": "stdout",
     "output_type": "stream",
     "text": [
      "['به', 'گزارش', 'خبرگزاری', 'فارس', '،', 'کنفدراسیون', 'فوتبال', 'آسیا', '(', 'AFC', ')', 'در', 'نامه\\u200cای', 'رسمی', 'به', 'فدراسیون', 'فوتبال', 'ایران', 'و', 'باشگاه', 'گیتی', 'پسند', 'زمان', 'قرعه', 'کشی', 'جام', 'باشگاه\\u200cهای', 'فوتسال', 'آسیا', 'را', 'رسما', 'اعلام', 'کرد', '.', 'بر', 'این', 'اساس', '25', 'فروردین', 'ماه', '1401', 'مراسم', 'قرعه', 'کشی', 'جام', 'باشگاه\\u200cهای', 'فوتسال', 'آسیا', 'در', 'مالزی', 'برگزار', 'می\\u200cشود', '.', 'باشگاه', 'گیتی', 'پسند', 'بعنوان', 'قهرمان', 'فوتسال', 'ایران', 'در', 'سال', '1400', 'به', 'این', 'مسابقات', 'راه', 'پیدا', 'کرده', 'است', '.', 'پیش', 'از', 'این', 'گیتی', 'پسند', 'تجربه', '3', 'دوره', 'حضور', 'در', 'جام', 'باشگاه\\u200cهای', 'فوتسال', 'آسیا', 'را', 'داشته', 'که', 'هر', 'سه', 'دوره', 'به', 'فینال', 'مسابقات', 'راه', 'پیدا', 'کرده', 'و', 'یک', 'عنوان', 'قهرمانی', 'و', 'دو', 'مقام', 'دومی', 'بدست', 'آورده', 'است', '.', 'انتهای', 'پیام', '/']\n"
     ]
    }
   ],
   "source": [
    "#!pip install parsivar\n",
    "from parsivar import Tokenizer\n",
    "from parsivar import Normalizer\n",
    "\n",
    "my_normalizer = Normalizer()\n",
    "my_tokenizer = Tokenizer()\n",
    "words = my_tokenizer.tokenize_words(\n",
    "    my_normalizer.normalize(data['0']['content']))\n",
    "print(words)\n"
   ]
  },
  {
   "cell_type": "code",
   "execution_count": 9,
   "metadata": {},
   "outputs": [
    {
     "name": "stdout",
     "output_type": "stream",
     "text": [
      "12202\n",
      "['به', 'گزارش', 'خبرگزاری', 'فارس', '،', 'کنفدراسیون', 'فوتبال', 'آسیا', '(', 'AFC', ')', 'در', 'نامه\\u200cای', 'رسمی', 'به', 'فدراسیون', 'فوتبال', 'ایران', 'و', 'باشگاه', 'گیتی', 'پسند', 'زمان', 'قرعه', 'کشی', 'جام', 'باشگاه\\u200cهای', 'فوتسال', 'آسیا', 'را', 'رسما', 'اعلام', 'کرد', '.', 'بر', 'این', 'اساس', '25', 'فروردین', 'ماه', '1401', 'مراسم', 'قرعه', 'کشی', 'جام', 'باشگاه\\u200cهای', 'فوتسال', 'آسیا', 'در', 'مالزی', 'برگزار', 'می\\u200cشود', '.', 'باشگاه', 'گیتی', 'پسند', 'بعنوان', 'قهرمان', 'فوتسال', 'ایران', 'در', 'سال', '1400', 'به', 'این', 'مسابقات', 'راه', 'پیدا', 'کرده', 'است', '.', 'پیش', 'از', 'این', 'گیتی', 'پسند', 'تجربه', '3', 'دوره', 'حضور', 'در', 'جام', 'باشگاه\\u200cهای', 'فوتسال', 'آسیا', 'را', 'داشته', 'که', 'هر', 'سه', 'دوره', 'به', 'فینال', 'مسابقات', 'راه', 'پیدا', 'کرده', 'و', 'یک', 'عنوان', 'قهرمانی', 'و', 'دو', 'مقام', 'دومی', 'بدست', 'آورده', 'است', '.', 'انتهای', 'پیام', '/']\n"
     ]
    }
   ],
   "source": [
    "tokenized = {}\n",
    "\n",
    "for i in data:\n",
    "    words = my_tokenizer.tokenize_words(\n",
    "        my_normalizer.normalize(data[i]['content']))\n",
    "    new_words = []\n",
    "    tokenized[i] = words\n",
    "\n",
    "print(len(tokenized))\n",
    "print(tokenized['0'])\n"
   ]
  },
  {
   "attachments": {},
   "cell_type": "markdown",
   "metadata": {},
   "source": [
    "## Deleting stop words\n"
   ]
  },
  {
   "cell_type": "code",
   "execution_count": 10,
   "metadata": {},
   "outputs": [
    {
     "name": "stdout",
     "output_type": "stream",
     "text": [
      "['و', 'در', 'به', 'از', 'که', 'این', 'را', 'با', 'است', 'برای']\n",
      "389\n"
     ]
    }
   ],
   "source": [
    "#!pip install hazm\n",
    "from hazm import *\n",
    "\n",
    "stop_words = stopwords_list()\n",
    "print(stop_words[:10])\n",
    "print(len(stop_words))\n"
   ]
  },
  {
   "cell_type": "code",
   "execution_count": 16,
   "metadata": {},
   "outputs": [],
   "source": [
    "punctuations = ['.', '،', '/', ':', '(', ')', '!', '?', '؟']\n",
    "\n",
    "\n",
    "def del_stop_words(tok_data):\n",
    "    deleted_stop_words = {}\n",
    "    deleted = 0\n",
    "    all = 0\n",
    "    for i in tok_data:\n",
    "        text = []\n",
    "        for j in tok_data[i]:\n",
    "            if j not in stop_words and j not in punctuations:\n",
    "                text.append(j)\n",
    "                all += 1\n",
    "            else:\n",
    "                deleted += 1\n",
    "        deleted_stop_words[i] = text\n",
    "\n",
    "    print('stop words : ' + str(deleted))\n",
    "    print('remained : ' + str(all))\n",
    "\n",
    "    return deleted_stop_words\n"
   ]
  },
  {
   "attachments": {},
   "cell_type": "markdown",
   "metadata": {},
   "source": [
    "## Stemming\n"
   ]
  },
  {
   "cell_type": "code",
   "execution_count": 17,
   "metadata": {},
   "outputs": [
    {
     "name": "stdout",
     "output_type": "stream",
     "text": [
      "نامه‌ای نامه\n",
      "کشی کشید&کش\n",
      "باشگاه‌های باشگاه\n",
      "کشی کشید&کش\n",
      "باشگاه‌های باشگاه\n",
      "می‌شود شد&شو\n",
      "است اس\n",
      "باشگاه‌های باشگاه\n",
      "است اس\n"
     ]
    }
   ],
   "source": [
    "from parsivar import FindStems\n",
    "\n",
    "myStem = FindStems()\n",
    "for i in tokenized['0']:\n",
    "    if i != myStem.convert_to_stem(i):\n",
    "        print(i, myStem.convert_to_stem(i))\n"
   ]
  },
  {
   "cell_type": "code",
   "execution_count": 18,
   "metadata": {},
   "outputs": [],
   "source": [
    "def stemming(tok_data):\n",
    "    stemmed = {}\n",
    "\n",
    "    for i in tok_data:\n",
    "        stem_sent = []\n",
    "        for j in tok_data[i]:\n",
    "            new_word = j\n",
    "            stem = myStem.convert_to_stem(new_word)\n",
    "            stem_sent.append(stem)\n",
    "        stemmed[i] = stem_sent\n",
    "    return stemmed\n"
   ]
  },
  {
   "attachments": {},
   "cell_type": "markdown",
   "metadata": {},
   "source": [
    "## Run functions\n"
   ]
  },
  {
   "cell_type": "code",
   "execution_count": 19,
   "metadata": {},
   "outputs": [
    {
     "name": "stdout",
     "output_type": "stream",
     "text": [
      "stop words : 2215031\n",
      "remained : 2643556\n"
     ]
    }
   ],
   "source": [
    "deleted = del_stop_words(tokenized)\n",
    "processed = stemming(deleted)\n"
   ]
  },
  {
   "attachments": {},
   "cell_type": "markdown",
   "metadata": {},
   "source": [
    "# Positional inverted index\n"
   ]
  },
  {
   "cell_type": "code",
   "execution_count": 20,
   "metadata": {},
   "outputs": [
    {
     "name": "stdout",
     "output_type": "stream",
     "text": [
      "57470\n",
      "(46, {'7346': (2, [9, 104]), '7395': (1, [18]), '7416': (1, [25]), '7535': (1, [9]), '7579': (1, [954]), '7634': (1, [1683]), '8125': (4, [23, 34, 60, 110]), '8463': (2, [882, 913]), '8645': (1, [20]), '9261': (1, [41]), '9286': (5, [823, 1012, 1045, 1249, 1265]), '9808': (1, [74]), '9845': (1, [1281]), '10024': (2, [83, 105]), '10361': (1, [69]), '10567': (3, [126, 150, 165]), '10568': (2, [630, 714]), '10681': (1, [21]), '11176': (1, [103]), '11405': (3, [64, 1074, 1152]), '11437': (1, [3311]), '11603': (6, [18, 26, 53, 91, 155, 210]), '11645': (1, [18]), '11694': (1, [233]), '11928': (1, [2613]), '12134': (1, [335])})\n"
     ]
    }
   ],
   "source": [
    "dictionary = {}\n",
    "\n",
    "for doc in processed:\n",
    "    for term_index in range(len(processed[doc])):\n",
    "        if processed[doc][term_index] not in dictionary:\n",
    "            docs = {}\n",
    "            term_indexes = []\n",
    "            term_indexes.append(term_index)\n",
    "            docs[doc] = (1, term_indexes)\n",
    "            dictionary[processed[doc][term_index]] = (1, docs)\n",
    "        else:\n",
    "            num_all = dictionary[processed[doc][term_index]][0]\n",
    "            docs = dictionary[processed[doc][term_index]][1]\n",
    "\n",
    "            if doc in docs:\n",
    "                num_doc = docs[doc][0]\n",
    "                term_indexes = docs[doc][1]\n",
    "                term_indexes.append(term_index)\n",
    "                docs[doc] = (num_doc + 1, term_indexes)\n",
    "            else:\n",
    "                term_indexes = []\n",
    "                term_indexes.append(term_index)\n",
    "                docs[doc] = (1, term_indexes)\n",
    "\n",
    "            dictionary[processed[doc][term_index]] = (num_all + 1, docs)\n",
    "\n",
    "print(len(dictionary))\n",
    "print(dictionary['امیرکبیر'])\n"
   ]
  },
  {
   "attachments": {},
   "cell_type": "markdown",
   "metadata": {},
   "source": [
    "# Show data\n"
   ]
  },
  {
   "cell_type": "code",
   "execution_count": 21,
   "metadata": {},
   "outputs": [
    {
     "name": "stdout",
     "output_type": "stream",
     "text": [
      "\u001b[1mبحران اوکراین، مصداق ماهیت مافیایی آمریکاست\u001b[0m\n",
      "  در داستان کودتای ۲۸ مرداد برای نفت بود که مصدق تصمیم گرفته بود آن را ملی کند و این فلان شرکت نفتی انگلیسی را ناراحت کرده بود که این ناراحتی فلان شرکت انگلیسی منجر شده بود که به کمک آمریکا در ایران کودتا کنند که بعد از اینکه کودتا پیروز شد، ایران جولانگاه شرکت‌های نفتی انگلیسی و آمریکایی شد .\n"
     ]
    }
   ],
   "source": [
    "def show_data(id, query):\n",
    "    print('\\033[1m'+data[id]['title']+'\\033[0m')\n",
    "\n",
    "    text = data[id]['content']\n",
    "    sentences = my_tokenizer.tokenize_sentences(text)\n",
    "\n",
    "    arr = [0] * len(query)\n",
    "\n",
    "    for j in sentences:\n",
    "        for i in range(len(query)):\n",
    "            if query[i] in j and arr[i] < 1:\n",
    "                print(j)\n",
    "                arr[i] += 1\n",
    "                break\n",
    "\n",
    "\n",
    "show_data('7209', ['ایران'])\n"
   ]
  },
  {
   "attachments": {},
   "cell_type": "markdown",
   "metadata": {},
   "source": [
    "# Query retrieval\n"
   ]
  },
  {
   "cell_type": "code",
   "execution_count": 39,
   "metadata": {},
   "outputs": [
    {
     "name": "stdout",
     "output_type": "stream",
     "text": [
      "PHRASE SPLITTTTT #########\n",
      "(['amor no importa', 'a'], ' mi  de lunes  domingo voy ')\n",
      "(['خوبی؟', 'شعر'], ' سلام !چطوری  !داری  میگویی')\n",
      "(None, '')\n",
      "###########################\n",
      "#########not split #########\n",
      "(['چطوری', 'داری'], ['سلام', '\"', 'خوبی', '؟\"', '\"', 'شعر', '\"', 'میگویی'])\n",
      "(['para', 'sepas', 'te'], ['que', 'que', 'quiero'])\n",
      "####################################\n",
      "(['ou yeah', 'lunes a domingo'], ['minero', 'de'], ['si', 'hay', 'que', 'ser', '،', 'diamantes', '،', 'voy'])\n",
      "(['خوبی؟', 'شعر'], ['چطوری', 'داری'], ['سلام', 'میگویی'])\n",
      "(None, [], [])\n",
      "(['چطوری خوبی؟'], [], ['سلام\\u200cداری', 'شعر', 'میگویی'])\n"
     ]
    }
   ],
   "source": [
    "# supports almost all querys, throws exceptions when needed, the only type of query that it does not support is when there is a not inside of a phrase in a query\n",
    "# for example in the following phrase:\n",
    "# 'this is \"a phrase with a !not inside of it\" and its not supported'\n",
    "\n",
    "\n",
    "def phrase_split(input):\n",
    "    if '\"' not in input:\n",
    "        return ([].append(input), '')\n",
    "    phrase = []\n",
    "    nonphrase = []\n",
    "    if input.count('\"') % 2 == 1:\n",
    "        raise Exception(\n",
    "            'correct input, there is an extra \" somewhere in the phrase')\n",
    "\n",
    "    if '\"' in input:\n",
    "        input = input.split('\"')\n",
    "    \n",
    "    for i in range(len(input)):\n",
    "        if i % 2 == 0:\n",
    "            nonphrase.append(input[i])\n",
    "        else:\n",
    "            phrase.append(input[i])\n",
    "    str = ''\n",
    "    for i in range(len(nonphrase)):\n",
    "        str += nonphrase[i]\n",
    "    nonphrase = str\n",
    "    return phrase, nonphrase\n",
    "\n",
    "print(\"PHRASE SPLITTTTT #########\")\n",
    "print(phrase_split(' mi \"amor no importa\" de lunes \"a\" domingo voy '))\n",
    "print(phrase_split(' سلام !چطوری \"خوبی؟\" !داری \"شعر\" میگویی'))\n",
    "print(phrase_split(' سلام !چطوری خوبی؟ !داری شعر میگویی'))\n",
    "print(\"###########################\")\n",
    "\n",
    "\n",
    "def not_split(input):\n",
    "\n",
    "    notput = []\n",
    "    output = []\n",
    "    input = input.split(' ')\n",
    "    # print(input)\n",
    "    for i in input:\n",
    "        if len(i)!=0:\n",
    "            if i[0]=='!':\n",
    "                notput.append(i[1:])\n",
    "            else :\n",
    "                output.append(i)\n",
    "    str = ''\n",
    "    for i in output:\n",
    "        str+= i\n",
    "        str+= \" \"\n",
    "    output = str\n",
    "    output = my_tokenizer.tokenize_words(my_normalizer.normalize(output))\n",
    "        \n",
    "    return notput, output\n",
    "\n",
    "print(\"#########not split #########\")\n",
    "print(not_split(' سلام !چطوری \"خوبی؟\" !داری \"شعر\" میگویی'))\n",
    "print(not_split('!para que !sepas que !te quiero'))\n",
    "print(\"####################################\")\n",
    "\n",
    "# print(phrase_split('not a phrase, \"phrase\" not phrase but \"this is a phrase\" '))\n",
    "\n",
    "\n",
    "def full_splitter(input):\n",
    "\n",
    "    phrase, nonphrase = phrase_split(input= input)    #phrase is a list of strings inside double quotations #nonphrase is only a string with the remaining characters\n",
    "    # print(\"&&&&&&&&&&&\")\n",
    "    # print(nonphrase)\n",
    "    # print(\"&&&&&&&&&&&\")\n",
    "\n",
    "    notput, rem = not_split(input= nonphrase)   #\n",
    "    return phrase, notput, rem\n",
    "\n",
    "print(full_splitter('si hay que ser !minero , \"ou yeah\" diamantes, !de \"lunes a domingo\" voy'))\n",
    "print(full_splitter(' سلام !چطوری \"خوبی؟\" !داری \"شعر\" میگویی'))\n",
    "print(full_splitter(' سلام !چطوری خوبی؟ !داری شعر میگویی'))\n",
    "print(full_splitter(' سلام \"چطوری خوبی؟\" داری شعر میگویی'))\n"
   ]
  },
  {
   "cell_type": "code",
   "execution_count": 19,
   "metadata": {},
   "outputs": [
    {
     "name": "stdout",
     "output_type": "stream",
     "text": [
      "کشور ایران\n",
      " ایران\n",
      "There are 6 results for your search\n",
      "\n",
      "1 There are 11 matches for your search in this document\n",
      "\u001b[1mسرمربی استرالیا: ایران می‌تواند صدرنشین شود/ از علاقمندان به حافظ و سعدی هستم\u001b[0m\n",
      "به گزارش خبرنگار اعزامی خبرگزاری فارس از عربستان، تِیپ رمضانی پس از شکست 32 بر 10 تیم ملی هندبال استرالیا مقابل ایران درمورد این مسابقه اظهار داشت: به تیم خوب ایران تبریک می گویم .\n",
      " می دانم که تیم ایران در روزهایی اخیر تغییراتی در ترکیب خود ایجاد کرده است .\n",
      " رمضانی در پایان با تمجید از کشور ایران، عنوان کرد: من یکی از طرفداران بزرگ تاریخ ایران هستم و پیش از این هم به شیراز سفر کرده‌ام و از عاشقان حافظ و سعدی هستم .\n",
      "\n",
      "2 There are 7 matches for your search in this document\n",
      "\u001b[1mنیازمند: هیچ کس باور نداشت طارمی به اروپا برسد / می خواهم درها به روی ایرانی ها باز شود\u001b[0m\n",
      "به گزارش خبرگزاری فارس، پیام نیازمند در آخرین مصاحبه خود روبه روی شبکه تلویزیونی پرتغالی نشست و در خصوص علاقه مردم ایران به فوتبال، وضعیت پورتیموننزه ، درخشش در بازی مقابل فامالیکائو و تاثیر عملکرد طارمی روی بازیکنان ایرانی صحبت کرد .\n",
      " نیازمند گفت: من از ایران آمدم و یکی از دروازه بان های تیم ملی ایران بودم .\n",
      " وی ادامه داد: جمعیت کشور ایران نزدیک به 80 میلیون نفر است، کشوری پرجمعیت داریم و خیلی از مردم ، بیش از 70 درصد جمعیت، فوتبال را دنبال می کنند و اخبار، بازیکنان و همه چیز را پیگیر هستند .\n",
      "\n",
      "3 There are 3 matches for your search in this document\n",
      "\u001b[1mجام قهرمانی روی دستان تکواندوکاران لوازم خانگی کن/قهرمان المپیک بهترین تکواندوکار جام یازدهم\u001b[0m\n",
      "به گزارش خبرگزاری فارس، این دوره از مسابقات صبح امروز با حضور ۱۰۶ تکواندو کار در قالب ۱۷ تیم از ۱۱ کشور ایران، هند، عراق، ازبکستان، قزاقستان، افغانستان، اردن، عمان، پاکستان، امارات و پناهندگان به میزبانی فدراسیون تکواندو ایران در خانه تکواندو آغاز شد که در پایان،  مردان تکواندو لوازم خانگی کن همانند تیم بانوان این باشگاه عنوان نخست را کسب کردند .\n",
      " بهترین‌های یازدهمین دوره رقابتهای جام باشگاههای آسیا: فنی ترین تکواندوکار: اولبک رشیدوف (ازبکستان) بهترین مربی: محمدرضا زوار (لوازم خانگی کن) بهترین داوران: حسام الدین کاتب (اردن)، ابوالفضل خدایی و ابراهیم خاوری (ایران) جام اخلاق: هند بهترین سرپرست: سید فهد شاه (پاکستان) نفرات برتر اوزان مختلف: وزن ۵۴- کیلوگرم: ۱- امیر عباس رهنما (لوازم خانگی کن) ۲- حسین لطفی (فرمانیه) ۳- لیث الراشد (اردن) و علی توکلی (شهرداری ورامین) وزن ۵۸- کیلوگرم: ۱- محمدصادق دهقانی (فرمانیه) علی اصغر مرادیان (شهرداری ورامین) ۳- متین رضایی (لوازم خانگی کن) - محسن رضایی (افغانستان) وزن ۶۳- کیلوگرم: ۱- سروش احمدی-فرمانیه ۲- زیدا الهلاوانی (اردن) ۳- فرزان عاشورزاده (لوازم خانگی کن) و پاشا عطارودی (امانیه عراق) وزن ۶۸- کیلوگرم: ۱- اولگ بک رشیدتوف (ازبکستان) ۲- محمد حسین زاهدی (لوازم کن) ۳- عرفان بزرگی (شهرداری ورامین) و یراسلی آراپ بای (قزاقستان) وزن ۷۴- کیلوگرم: ۱- دانیال بزرگی (فرمانیه) ۲- محمد مهدی عمادی (لوازم خانگی کن) ۳- سید امید حسینی (البصره عراق) و جوربک جونوف (ازبکستان) وزن ۸۰- کیلوگرم: ۱- شوخرات سالایو (ازبکستان) ۲- آرین سلیمی (لوازم خانگی کن) ۳- مسعود خوش نیت (افغانستان) و نرلان میرزابیف (قزاقستان) وزن ۸۷- کیلوگرم: ۱- اسماعیل دیسبای (قزاقستان) ۲- مهران برخورداری (لوازم خانگی کن) ۳- نیکیتا رافالویچ (ازبکستان) و فهد صبری (اردن) وزن ۸۷+ کیلوگرم: ۱- آرش دباغ تفرشی (امارات) ۲- سجاد مردانی (لوازم خانکی کن) ۳- علی احمدی (شهرداری ورامین) و علی احمدی (شهرداری ورامین) انتهای پیام/ \n",
      "\n",
      "4 There are 2 matches for your search in this document\n",
      "\u001b[1mشاملی قهرمان چهارمین دوره مسابقات بین المللی اسکواش\u001b[0m\n",
      "به گزارش خبرگزاری فارس، چهارمین دوره مسابقات بین المللی اسکواش شهدای نیروی دریایی ارتش از روز سه شنبه( ۱۰ اسفند ) به مدت ۳ روز با حضور ورزشکاران از کشور ایران، عراق و هند در مجموعه ورزشی حیدرنیای تهران برگزار شد .\n",
      "   نتایج کامل این دوره از رقابت ها به شرح زیر است:   مقام اول: علیرضا شاملی  مقام دوم: سپهر اعتماد پور  مقام سوم مشترک: سمیع الله قاصدآبادی(ایران)، ناونیس پرابو( هند) انتهای پیام/ \n",
      "\n",
      "5 There are 1 matches for your search in this document\n",
      "\u001b[1mقهرمانی باشگاه های تکواندو آسیا به ایران رسید\u001b[0m\n",
      "به گزارش خبرگزاری فارس، یازدهمین دوره جام باشگاههای آسیا با حضور 58 تکواندوکار در غالب 12 تیم از کشورهای ایران، هند، قزاقستان، ازبکستان، افغانستان، اردن و پناهندگان صبح امروز در محل خانه تکواندو آغاز شد .\n",
      "\n"
     ]
    }
   ],
   "source": [
    "\n",
    "\n",
    "def query(input):\n",
    "\n",
    "    # Words must not be in results\n",
    "\n",
    "    notput = []\n",
    "    if '!' in input:\n",
    "        notput = input.split('!')[1]\n",
    "        input = input.split('!')[0]\n",
    "\n",
    "        notput = my_tokenizer.tokenize_words(my_normalizer.normalize(notput))\n",
    "        stemmed = []\n",
    "        for i in notput:\n",
    "            stemmed.append(myStem.convert_to_stem(i))\n",
    "        notput = stemmed\n",
    "\n",
    "    # Phrases ** it's not working\n",
    "\n",
    "    phrase = ''\n",
    "    non_phrase = ''\n",
    "\n",
    "    flag = 0\n",
    "    if '\"' in input:\n",
    "        for i in input:\n",
    "            if i == '\"':\n",
    "                if flag == 1:\n",
    "                    flag = 2\n",
    "                else:\n",
    "                    flag = 1\n",
    "            else:\n",
    "                if flag == 1:\n",
    "                    phrase += i\n",
    "                else:\n",
    "                    non_phrase += i\n",
    "        print(phrase)\n",
    "        print(non_phrase)\n",
    "\n",
    "        phrase = my_tokenizer.tokenize_words(my_normalizer.normalize(phrase))\n",
    "        stemmed = []\n",
    "\n",
    "        for i in phrase:\n",
    "            stemmed.append(myStem.convert_to_stem(i))\n",
    "\n",
    "        phrase = stemmed\n",
    "        input = non_phrase\n",
    "\n",
    "    input = my_tokenizer.tokenize_words(my_normalizer.normalize(input))\n",
    "    stemmed = []\n",
    "    for i in input:\n",
    "        stemmed.append(myStem.convert_to_stem(i))\n",
    "    input = stemmed\n",
    "\n",
    "    # Searching query\n",
    "\n",
    "    docs = {}\n",
    "    for word in input:\n",
    "        word_docs = dictionary[word][1]\n",
    "        for index in word_docs:\n",
    "            if index not in docs:\n",
    "                docs[index] = (1, word_docs[index][0])\n",
    "            else:\n",
    "                temp = docs[index][0]\n",
    "                tempi = docs[index][1]\n",
    "                docs[index] = (temp + 1, word_docs[index][0] + tempi)\n",
    "\n",
    "    # Cut documents which have not words\n",
    "\n",
    "    if len(notput) > 0:\n",
    "        not_docs = {}\n",
    "\n",
    "        for doc in docs:\n",
    "            flag = False\n",
    "            for word in notput:\n",
    "                if doc in dictionary[word][1]:\n",
    "                    flag = True\n",
    "            if not flag:\n",
    "                not_docs[doc] = docs[doc]\n",
    "\n",
    "        docs = not_docs\n",
    "\n",
    "    # Cut phrases * not working\n",
    "\n",
    "    if len(phrase) > 0:\n",
    "        phrase_docs = {}\n",
    "        for doc in docs:\n",
    "            flag = True\n",
    "            if doc in dictionary[phrase[0]][1]:\n",
    "                indexes = dictionary[phrase[0]][1][doc][1]\n",
    "                for i in indexes:\n",
    "                    for j in range(1, len(phrase)):\n",
    "                        if doc not in dictionary[phrase[j]][1]:\n",
    "                            flag = False\n",
    "                        else:\n",
    "                            if i + j not in dictionary[phrase[j]][1][doc][1]:\n",
    "                                flag = False\n",
    "            else:\n",
    "                flag = False\n",
    "\n",
    "            if flag:\n",
    "                phrase_docs[doc] = docs[doc]\n",
    "\n",
    "        docs = phrase_docs\n",
    "\n",
    "    # Showing result\n",
    "\n",
    "    res = []\n",
    "    for i in range(len(input), 0, -1):\n",
    "        for j in docs:\n",
    "            if docs[j][0] == i:\n",
    "                res.append((docs[j][1], j))\n",
    "        if len(res) > 5:\n",
    "            break\n",
    "\n",
    "    rank = 1\n",
    "\n",
    "    res.sort(reverse=True)\n",
    "    print('There are '+str(len(res))+' results for your search\\n')\n",
    "    if len(res) > 5:\n",
    "        res = res[:5]\n",
    "\n",
    "    input += phrase\n",
    "    for i in res:\n",
    "        print(rank, 'There are '+str(i[0]) +\n",
    "              ' matches for your search in this document')\n",
    "        rank += 1\n",
    "        show_data(i[1], input)\n",
    "        print('')\n",
    "\n",
    "\n",
    "query('\"کشور ایران\" ایران')\n"
   ]
  },
  {
   "attachments": {},
   "cell_type": "markdown",
   "metadata": {},
   "source": [
    "# Zipf law\n"
   ]
  },
  {
   "attachments": {},
   "cell_type": "markdown",
   "metadata": {},
   "source": [
    "## Zipf law with deleteing stop words\n"
   ]
  },
  {
   "cell_type": "code",
   "execution_count": null,
   "metadata": {
    "tags": []
   },
   "outputs": [
    {
     "data": {
      "image/png": "[encoded data removed]",
      "text/plain": [
       "<Figure size 432x288 with 1 Axes>"
      ]
     },
     "metadata": {
      "needs_background": "light"
     },
     "output_type": "display_data"
    }
   ],
   "source": [
    "import matplotlib.pyplot as plt\n",
    "import math\n",
    "\n",
    "maxi = []\n",
    "for i in dictionary:\n",
    "    maxi.append(dictionary[i][0])\n",
    "\n",
    "maxi.sort(reverse=True)\n",
    "\n",
    "cf = max(maxi)\n",
    "\n",
    "arrx = []\n",
    "arry = []\n",
    "\n",
    "maxi_log = []\n",
    "\n",
    "for i in range(len(maxi)):\n",
    "    maxi_log.append(math.log(maxi[i], 10))\n",
    "    arrx.append(math.log(i+1, 10))\n",
    "    arry.append(math.log(cf/(i+1), 10))\n",
    "\n",
    "plt.plot(arrx, maxi_log)\n",
    "plt.plot(arrx, arry)\n",
    "plt.legend(['actual', 'zipf'])\n",
    "plt.show()\n"
   ]
  },
  {
   "attachments": {},
   "cell_type": "markdown",
   "metadata": {},
   "source": [
    "## Zipf law without deleting stop words\n"
   ]
  },
  {
   "cell_type": "code",
   "execution_count": null,
   "metadata": {
    "tags": [
     "parameters"
    ]
   },
   "outputs": [
    {
     "data": {
      "image/png": "[encoded data removed]",
      "text/plain": [
       "<Figure size 432x288 with 1 Axes>"
      ]
     },
     "metadata": {
      "needs_background": "light"
     },
     "output_type": "display_data"
    }
   ],
   "source": [
    "import matplotlib.pyplot as plt\n",
    "import math\n",
    "\n",
    "maxi = []\n",
    "for i in dictionary:\n",
    "    if i not in ['.', '،', '/', ':', '(', ')', '!']:\n",
    "        maxi.append(dictionary[i][0])\n",
    "\n",
    "maxi.sort(reverse=True)\n",
    "\n",
    "cf = max(maxi)\n",
    "\n",
    "arrx = []\n",
    "arry = []\n",
    "\n",
    "maxi_log = []\n",
    "\n",
    "for i in range(len(maxi)):\n",
    "    maxi_log.append(math.log(maxi[i], 10))\n",
    "    arrx.append(math.log(i+1, 10))\n",
    "    arry.append(math.log(cf/(i+1), 10))\n",
    "\n",
    "plt.plot(arrx, maxi_log)\n",
    "plt.plot(arrx, arry)\n",
    "plt.legend(['actual', 'zipf'])\n",
    "plt.show()\n"
   ]
  }
 ],
 "metadata": {
  "kernelspec": {
   "display_name": "Python 3.9.6 64-bit",
   "language": "python",
   "name": "python3"
  },
  "language_info": {
   "codemirror_mode": {
    "name": "ipython",
    "version": 3
   },
   "file_extension": ".py",
   "mimetype": "text/x-python",
   "name": "python",
   "nbconvert_exporter": "python",
   "pygments_lexer": "ipython3",
   "version": "3.9.6"
  },
  "orig_nbformat": 4,
  "vscode": {
   "interpreter": {
    "hash": "b5f17d250561f12548df04dbaf262ffd322f0cb8e57e44369eaf753a96b97637"
   }
  }
 },
 "nbformat": 4,
 "nbformat_minor": 2
}
